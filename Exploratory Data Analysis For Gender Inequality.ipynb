{
 "cells": [
  {
   "cell_type": "code",
   "execution_count": 19,
   "metadata": {
    "colab": {
     "base_uri": "https://localhost:8080/"
    },
    "id": "nON00X2TdihE",
    "outputId": "31ed6b80-9503-4e34-ee57-0e96675bd7fb",
    "scrolled": true
   },
   "outputs": [
    {
     "name": "stdout",
     "output_type": "stream",
     "text": [
      "Requirement already satisfied: chart-studio in c:\\users\\user\\anaconda3\\lib\\site-packages (1.1.0)\n",
      "Requirement already satisfied: retrying>=1.3.3 in c:\\users\\user\\anaconda3\\lib\\site-packages (from chart-studio) (1.3.3)\n",
      "Requirement already satisfied: requests in c:\\users\\user\\anaconda3\\lib\\site-packages (from chart-studio) (2.24.0)\n",
      "Requirement already satisfied: plotly in c:\\users\\user\\anaconda3\\lib\\site-packages (from chart-studio) (5.3.1)\n",
      "Requirement already satisfied: six in c:\\users\\user\\anaconda3\\lib\\site-packages (from chart-studio) (1.15.0)\n",
      "Requirement already satisfied: chardet<4,>=3.0.2 in c:\\users\\user\\anaconda3\\lib\\site-packages (from requests->chart-studio) (3.0.4)\n",
      "Requirement already satisfied: certifi>=2017.4.17 in c:\\users\\user\\anaconda3\\lib\\site-packages (from requests->chart-studio) (2020.6.20)\n",
      "Requirement already satisfied: idna<3,>=2.5 in c:\\users\\user\\anaconda3\\lib\\site-packages (from requests->chart-studio) (2.10)\n",
      "Requirement already satisfied: urllib3!=1.25.0,!=1.25.1,<1.26,>=1.21.1 in c:\\users\\user\\anaconda3\\lib\\site-packages (from requests->chart-studio) (1.25.9)\n",
      "Requirement already satisfied: tenacity>=6.2.0 in c:\\users\\user\\anaconda3\\lib\\site-packages (from plotly->chart-studio) (8.0.1)\n",
      "Requirement already satisfied: numpy in c:\\users\\user\\anaconda3\\lib\\site-packages (1.18.5)\n"
     ]
    }
   ],
   "source": [
    "!pip install chart-studio\n",
    "!pip install numpy"
   ]
  },
  {
   "cell_type": "code",
   "execution_count": 20,
   "metadata": {
    "id": "oG0s2YC_dihE"
   },
   "outputs": [],
   "source": [
    "import pandas as pd\n",
    "import numpy as np\n",
    "import matplotlib.pyplot as plt\n",
    "import seaborn as sns\n",
    "sns.set(rc={'figure.figsize':(12,8)})\n",
    "pd.set_option('display.precision',2)\n",
    "import plotly.offline as py\n",
    "import plotly.express as px\n",
    "import plotly.graph_objs as go\n",
    "#import cufflinks as cf"
   ]
  },
  {
   "cell_type": "code",
   "execution_count": 21,
   "metadata": {
    "colab": {
     "base_uri": "https://localhost:8080/",
     "height": 72,
     "resources": {
      "http://localhost:8080/nbextensions/google.colab/files.js": {
       "data": "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",
       "headers": [
        [
         "content-type",
         "application/javascript"
        ]
       ],
       "ok": true,
       "status": 200,
       "status_text": ""
      }
     }
    },
    "id": "IIlg3SCrdihF",
    "outputId": "62805e3b-f1ba-41b2-aa07-1247ed73922d"
   },
   "outputs": [],
   "source": [
    "#reading the data\n",
    "\n",
    "#uploaded = files.upload()\n",
    "csv_file = \"gender_inequality.csv\"\n",
    "df = pd.read_csv(csv_file)\n",
    "#The variable csv_file is going to be a string object that points to the location of our data\n",
    "#the next line asks our pandas library to try to read our CSV file, and turn it into a dataframe.\n",
    "#Once executed, it will be stored in the variable df."
   ]
  },
  {
   "cell_type": "code",
   "execution_count": 22,
   "metadata": {
    "id": "Nl3bMg19dihI"
   },
   "outputs": [
    {
     "data": {
      "text/plain": [
       "'temp-plot.html'"
      ]
     },
     "execution_count": 22,
     "metadata": {},
     "output_type": "execute_result"
    }
   ],
   "source": [
    "#preparing data for plotly\n",
    "\n",
    "data1 = px.scatter_3d(df, x='Gender_Inequality_Index_GII', y='Population_with_Secondary_Education_Female', z='Labour_Force_Participation_Rate_Female',\n",
    "              color='Adolescent_Birth_Rate',size='Maternal Mortality Ratio',size_max=50)\n",
    "data = data1\n",
    "layout = go.Layout(\n",
    "    title='The Reason Behind Adolescent Birth Rate',\n",
    "    scene=dict(\n",
    "        xaxis=dict(\n",
    "            title='Gender Inequality Index (GII)'\n",
    "        ),\n",
    "        yaxis=dict(\n",
    "            title='Population With Secondary Education (Female)'\n",
    "        ),\n",
    "        zaxis=dict(\n",
    "            title='Labour Force Participation Rate (Female)'\n",
    "        )\n",
    "    ),\n",
    "    margin=dict(\n",
    "        l=0,\n",
    "        r=0,\n",
    "        b=0,\n",
    "        t=0\n",
    "    )\n",
    ")\n",
    "fig = go.Figure(data=data, layout=layout)\n",
    "py.plot(fig)"
   ]
  },
  {
   "cell_type": "code",
   "execution_count": 57,
   "metadata": {
    "id": "2YhDhYIXdihJ",
    "scrolled": false
   },
   "outputs": [
    {
     "data": {
      "application/vnd.plotly.v1+json": {
       "config": {
        "plotlyServerURL": "https://plot.ly"
       },
       "data": [
        {
         "customdata": [
          [
           0.16399999999999998
          ],
          [
           0.129
          ],
          [
           0.1
          ],
          [
           0.075
          ],
          [
           0.053
          ],
          [
           0.091
          ],
          [
           0.177
          ],
          [
           0.16399999999999998
          ],
          [
           0.16699999999999998
          ],
          [
           0.677
          ],
          [
           0.611
          ],
          [
           0.528
          ],
          [
           0.693
          ],
          [
           0.547
          ],
          [
           0.49200000000000005
          ],
          [
           0.713
          ],
          [
           0.706
          ],
          [
           0.591
          ],
          [
           0.631
          ]
         ],
         "domain": {
          "x": [
           0,
           1
          ],
          "y": [
           0,
           1
          ]
         },
         "hovertemplate": "Country=%{label}<br>Population_with_Secondary_Education_Female=%{value}<br>Gender_Inequality_Index_GII=%{customdata[0]}<extra></extra>",
         "labels": [
          "Estonia",
          "Canada",
          "Luxembourg",
          "Finland",
          "Austria",
          "Czech Republic",
          "United Kingdom",
          "Slovakia",
          "Latvia",
          "Mali",
          "Papua New Guinea",
          "Senegal",
          "Afghanistan",
          "Tanzania (United Republic of)",
          "Burundi",
          "Niger",
          "Chad",
          "Mozambique",
          "Burkina Faso"
         ],
         "legendgroup": "",
         "name": "",
         "showlegend": true,
         "type": "pie",
         "values": [
          100,
          100,
          100,
          100,
          100,
          99.9,
          99.8,
          99.1,
          98.9,
          15.1,
          14.5,
          15.4,
          29.8,
          9.5,
          8.3,
          7.8,
          9.9,
          6.2,
          3.2
         ]
        }
       ],
       "layout": {
        "legend": {
         "tracegroupgap": 0
        },
        "template": {
         "data": {
          "bar": [
           {
            "error_x": {
             "color": "#2a3f5f"
            },
            "error_y": {
             "color": "#2a3f5f"
            },
            "marker": {
             "line": {
              "color": "#E5ECF6",
              "width": 0.5
             },
             "pattern": {
              "fillmode": "overlay",
              "size": 10,
              "solidity": 0.2
             }
            },
            "type": "bar"
           }
          ],
          "barpolar": [
           {
            "marker": {
             "line": {
              "color": "#E5ECF6",
              "width": 0.5
             },
             "pattern": {
              "fillmode": "overlay",
              "size": 10,
              "solidity": 0.2
             }
            },
            "type": "barpolar"
           }
          ],
          "carpet": [
           {
            "aaxis": {
             "endlinecolor": "#2a3f5f",
             "gridcolor": "white",
             "linecolor": "white",
             "minorgridcolor": "white",
             "startlinecolor": "#2a3f5f"
            },
            "baxis": {
             "endlinecolor": "#2a3f5f",
             "gridcolor": "white",
             "linecolor": "white",
             "minorgridcolor": "white",
             "startlinecolor": "#2a3f5f"
            },
            "type": "carpet"
           }
          ],
          "choropleth": [
           {
            "colorbar": {
             "outlinewidth": 0,
             "ticks": ""
            },
            "type": "choropleth"
           }
          ],
          "contour": [
           {
            "colorbar": {
             "outlinewidth": 0,
             "ticks": ""
            },
            "colorscale": [
             [
              0,
              "#0d0887"
             ],
             [
              0.1111111111111111,
              "#46039f"
             ],
             [
              0.2222222222222222,
              "#7201a8"
             ],
             [
              0.3333333333333333,
              "#9c179e"
             ],
             [
              0.4444444444444444,
              "#bd3786"
             ],
             [
              0.5555555555555556,
              "#d8576b"
             ],
             [
              0.6666666666666666,
              "#ed7953"
             ],
             [
              0.7777777777777778,
              "#fb9f3a"
             ],
             [
              0.8888888888888888,
              "#fdca26"
             ],
             [
              1,
              "#f0f921"
             ]
            ],
            "type": "contour"
           }
          ],
          "contourcarpet": [
           {
            "colorbar": {
             "outlinewidth": 0,
             "ticks": ""
            },
            "type": "contourcarpet"
           }
          ],
          "heatmap": [
           {
            "colorbar": {
             "outlinewidth": 0,
             "ticks": ""
            },
            "colorscale": [
             [
              0,
              "#0d0887"
             ],
             [
              0.1111111111111111,
              "#46039f"
             ],
             [
              0.2222222222222222,
              "#7201a8"
             ],
             [
              0.3333333333333333,
              "#9c179e"
             ],
             [
              0.4444444444444444,
              "#bd3786"
             ],
             [
              0.5555555555555556,
              "#d8576b"
             ],
             [
              0.6666666666666666,
              "#ed7953"
             ],
             [
              0.7777777777777778,
              "#fb9f3a"
             ],
             [
              0.8888888888888888,
              "#fdca26"
             ],
             [
              1,
              "#f0f921"
             ]
            ],
            "type": "heatmap"
           }
          ],
          "heatmapgl": [
           {
            "colorbar": {
             "outlinewidth": 0,
             "ticks": ""
            },
            "colorscale": [
             [
              0,
              "#0d0887"
             ],
             [
              0.1111111111111111,
              "#46039f"
             ],
             [
              0.2222222222222222,
              "#7201a8"
             ],
             [
              0.3333333333333333,
              "#9c179e"
             ],
             [
              0.4444444444444444,
              "#bd3786"
             ],
             [
              0.5555555555555556,
              "#d8576b"
             ],
             [
              0.6666666666666666,
              "#ed7953"
             ],
             [
              0.7777777777777778,
              "#fb9f3a"
             ],
             [
              0.8888888888888888,
              "#fdca26"
             ],
             [
              1,
              "#f0f921"
             ]
            ],
            "type": "heatmapgl"
           }
          ],
          "histogram": [
           {
            "marker": {
             "pattern": {
              "fillmode": "overlay",
              "size": 10,
              "solidity": 0.2
             }
            },
            "type": "histogram"
           }
          ],
          "histogram2d": [
           {
            "colorbar": {
             "outlinewidth": 0,
             "ticks": ""
            },
            "colorscale": [
             [
              0,
              "#0d0887"
             ],
             [
              0.1111111111111111,
              "#46039f"
             ],
             [
              0.2222222222222222,
              "#7201a8"
             ],
             [
              0.3333333333333333,
              "#9c179e"
             ],
             [
              0.4444444444444444,
              "#bd3786"
             ],
             [
              0.5555555555555556,
              "#d8576b"
             ],
             [
              0.6666666666666666,
              "#ed7953"
             ],
             [
              0.7777777777777778,
              "#fb9f3a"
             ],
             [
              0.8888888888888888,
              "#fdca26"
             ],
             [
              1,
              "#f0f921"
             ]
            ],
            "type": "histogram2d"
           }
          ],
          "histogram2dcontour": [
           {
            "colorbar": {
             "outlinewidth": 0,
             "ticks": ""
            },
            "colorscale": [
             [
              0,
              "#0d0887"
             ],
             [
              0.1111111111111111,
              "#46039f"
             ],
             [
              0.2222222222222222,
              "#7201a8"
             ],
             [
              0.3333333333333333,
              "#9c179e"
             ],
             [
              0.4444444444444444,
              "#bd3786"
             ],
             [
              0.5555555555555556,
              "#d8576b"
             ],
             [
              0.6666666666666666,
              "#ed7953"
             ],
             [
              0.7777777777777778,
              "#fb9f3a"
             ],
             [
              0.8888888888888888,
              "#fdca26"
             ],
             [
              1,
              "#f0f921"
             ]
            ],
            "type": "histogram2dcontour"
           }
          ],
          "mesh3d": [
           {
            "colorbar": {
             "outlinewidth": 0,
             "ticks": ""
            },
            "type": "mesh3d"
           }
          ],
          "parcoords": [
           {
            "line": {
             "colorbar": {
              "outlinewidth": 0,
              "ticks": ""
             }
            },
            "type": "parcoords"
           }
          ],
          "pie": [
           {
            "automargin": true,
            "type": "pie"
           }
          ],
          "scatter": [
           {
            "marker": {
             "colorbar": {
              "outlinewidth": 0,
              "ticks": ""
             }
            },
            "type": "scatter"
           }
          ],
          "scatter3d": [
           {
            "line": {
             "colorbar": {
              "outlinewidth": 0,
              "ticks": ""
             }
            },
            "marker": {
             "colorbar": {
              "outlinewidth": 0,
              "ticks": ""
             }
            },
            "type": "scatter3d"
           }
          ],
          "scattercarpet": [
           {
            "marker": {
             "colorbar": {
              "outlinewidth": 0,
              "ticks": ""
             }
            },
            "type": "scattercarpet"
           }
          ],
          "scattergeo": [
           {
            "marker": {
             "colorbar": {
              "outlinewidth": 0,
              "ticks": ""
             }
            },
            "type": "scattergeo"
           }
          ],
          "scattergl": [
           {
            "marker": {
             "colorbar": {
              "outlinewidth": 0,
              "ticks": ""
             }
            },
            "type": "scattergl"
           }
          ],
          "scattermapbox": [
           {
            "marker": {
             "colorbar": {
              "outlinewidth": 0,
              "ticks": ""
             }
            },
            "type": "scattermapbox"
           }
          ],
          "scatterpolar": [
           {
            "marker": {
             "colorbar": {
              "outlinewidth": 0,
              "ticks": ""
             }
            },
            "type": "scatterpolar"
           }
          ],
          "scatterpolargl": [
           {
            "marker": {
             "colorbar": {
              "outlinewidth": 0,
              "ticks": ""
             }
            },
            "type": "scatterpolargl"
           }
          ],
          "scatterternary": [
           {
            "marker": {
             "colorbar": {
              "outlinewidth": 0,
              "ticks": ""
             }
            },
            "type": "scatterternary"
           }
          ],
          "surface": [
           {
            "colorbar": {
             "outlinewidth": 0,
             "ticks": ""
            },
            "colorscale": [
             [
              0,
              "#0d0887"
             ],
             [
              0.1111111111111111,
              "#46039f"
             ],
             [
              0.2222222222222222,
              "#7201a8"
             ],
             [
              0.3333333333333333,
              "#9c179e"
             ],
             [
              0.4444444444444444,
              "#bd3786"
             ],
             [
              0.5555555555555556,
              "#d8576b"
             ],
             [
              0.6666666666666666,
              "#ed7953"
             ],
             [
              0.7777777777777778,
              "#fb9f3a"
             ],
             [
              0.8888888888888888,
              "#fdca26"
             ],
             [
              1,
              "#f0f921"
             ]
            ],
            "type": "surface"
           }
          ],
          "table": [
           {
            "cells": {
             "fill": {
              "color": "#EBF0F8"
             },
             "line": {
              "color": "white"
             }
            },
            "header": {
             "fill": {
              "color": "#C8D4E3"
             },
             "line": {
              "color": "white"
             }
            },
            "type": "table"
           }
          ]
         },
         "layout": {
          "annotationdefaults": {
           "arrowcolor": "#2a3f5f",
           "arrowhead": 0,
           "arrowwidth": 1
          },
          "autotypenumbers": "strict",
          "coloraxis": {
           "colorbar": {
            "outlinewidth": 0,
            "ticks": ""
           }
          },
          "colorscale": {
           "diverging": [
            [
             0,
             "#8e0152"
            ],
            [
             0.1,
             "#c51b7d"
            ],
            [
             0.2,
             "#de77ae"
            ],
            [
             0.3,
             "#f1b6da"
            ],
            [
             0.4,
             "#fde0ef"
            ],
            [
             0.5,
             "#f7f7f7"
            ],
            [
             0.6,
             "#e6f5d0"
            ],
            [
             0.7,
             "#b8e186"
            ],
            [
             0.8,
             "#7fbc41"
            ],
            [
             0.9,
             "#4d9221"
            ],
            [
             1,
             "#276419"
            ]
           ],
           "sequential": [
            [
             0,
             "#0d0887"
            ],
            [
             0.1111111111111111,
             "#46039f"
            ],
            [
             0.2222222222222222,
             "#7201a8"
            ],
            [
             0.3333333333333333,
             "#9c179e"
            ],
            [
             0.4444444444444444,
             "#bd3786"
            ],
            [
             0.5555555555555556,
             "#d8576b"
            ],
            [
             0.6666666666666666,
             "#ed7953"
            ],
            [
             0.7777777777777778,
             "#fb9f3a"
            ],
            [
             0.8888888888888888,
             "#fdca26"
            ],
            [
             1,
             "#f0f921"
            ]
           ],
           "sequentialminus": [
            [
             0,
             "#0d0887"
            ],
            [
             0.1111111111111111,
             "#46039f"
            ],
            [
             0.2222222222222222,
             "#7201a8"
            ],
            [
             0.3333333333333333,
             "#9c179e"
            ],
            [
             0.4444444444444444,
             "#bd3786"
            ],
            [
             0.5555555555555556,
             "#d8576b"
            ],
            [
             0.6666666666666666,
             "#ed7953"
            ],
            [
             0.7777777777777778,
             "#fb9f3a"
            ],
            [
             0.8888888888888888,
             "#fdca26"
            ],
            [
             1,
             "#f0f921"
            ]
           ]
          },
          "colorway": [
           "#636efa",
           "#EF553B",
           "#00cc96",
           "#ab63fa",
           "#FFA15A",
           "#19d3f3",
           "#FF6692",
           "#B6E880",
           "#FF97FF",
           "#FECB52"
          ],
          "font": {
           "color": "#2a3f5f"
          },
          "geo": {
           "bgcolor": "white",
           "lakecolor": "white",
           "landcolor": "#E5ECF6",
           "showlakes": true,
           "showland": true,
           "subunitcolor": "white"
          },
          "hoverlabel": {
           "align": "left"
          },
          "hovermode": "closest",
          "mapbox": {
           "style": "light"
          },
          "paper_bgcolor": "white",
          "plot_bgcolor": "#E5ECF6",
          "polar": {
           "angularaxis": {
            "gridcolor": "white",
            "linecolor": "white",
            "ticks": ""
           },
           "bgcolor": "#E5ECF6",
           "radialaxis": {
            "gridcolor": "white",
            "linecolor": "white",
            "ticks": ""
           }
          },
          "scene": {
           "xaxis": {
            "backgroundcolor": "#E5ECF6",
            "gridcolor": "white",
            "gridwidth": 2,
            "linecolor": "white",
            "showbackground": true,
            "ticks": "",
            "zerolinecolor": "white"
           },
           "yaxis": {
            "backgroundcolor": "#E5ECF6",
            "gridcolor": "white",
            "gridwidth": 2,
            "linecolor": "white",
            "showbackground": true,
            "ticks": "",
            "zerolinecolor": "white"
           },
           "zaxis": {
            "backgroundcolor": "#E5ECF6",
            "gridcolor": "white",
            "gridwidth": 2,
            "linecolor": "white",
            "showbackground": true,
            "ticks": "",
            "zerolinecolor": "white"
           }
          },
          "shapedefaults": {
           "line": {
            "color": "#2a3f5f"
           }
          },
          "ternary": {
           "aaxis": {
            "gridcolor": "white",
            "linecolor": "white",
            "ticks": ""
           },
           "baxis": {
            "gridcolor": "white",
            "linecolor": "white",
            "ticks": ""
           },
           "bgcolor": "#E5ECF6",
           "caxis": {
            "gridcolor": "white",
            "linecolor": "white",
            "ticks": ""
           }
          },
          "title": {
           "x": 0.05
          },
          "xaxis": {
           "automargin": true,
           "gridcolor": "white",
           "linecolor": "white",
           "ticks": "",
           "title": {
            "standoff": 15
           },
           "zerolinecolor": "white",
           "zerolinewidth": 2
          },
          "yaxis": {
           "automargin": true,
           "gridcolor": "white",
           "linecolor": "white",
           "ticks": "",
           "title": {
            "standoff": 15
           },
           "zerolinecolor": "white",
           "zerolinewidth": 2
          }
         }
        },
        "title": {
         "text": "Participation of Female population in Secondary Education"
        }
       }
      },
      "text/html": [
       "<div>                            <div id=\"782359b5-0c82-45c6-9b65-43c4739f768d\" class=\"plotly-graph-div\" style=\"height:525px; width:100%;\"></div>            <script type=\"text/javascript\">                require([\"plotly\"], function(Plotly) {                    window.PLOTLYENV=window.PLOTLYENV || {};                                    if (document.getElementById(\"782359b5-0c82-45c6-9b65-43c4739f768d\")) {                    Plotly.newPlot(                        \"782359b5-0c82-45c6-9b65-43c4739f768d\",                        [{\"customdata\":[[0.16399999999999998],[0.129],[0.1],[0.075],[0.053],[0.091],[0.177],[0.16399999999999998],[0.16699999999999998],[0.677],[0.611],[0.528],[0.693],[0.547],[0.49200000000000005],[0.713],[0.706],[0.591],[0.631]],\"domain\":{\"x\":[0.0,1.0],\"y\":[0.0,1.0]},\"hovertemplate\":\"Country=%{label}<br>Population_with_Secondary_Education_Female=%{value}<br>Gender_Inequality_Index_GII=%{customdata[0]}<extra></extra>\",\"labels\":[\"Estonia\",\"Canada\",\"Luxembourg\",\"Finland\",\"Austria\",\"Czech Republic\",\"United Kingdom\",\"Slovakia\",\"Latvia\",\"Mali\",\"Papua New Guinea\",\"Senegal\",\"Afghanistan\",\"Tanzania (United Republic of)\",\"Burundi\",\"Niger\",\"Chad\",\"Mozambique\",\"Burkina Faso\"],\"legendgroup\":\"\",\"name\":\"\",\"showlegend\":true,\"type\":\"pie\",\"values\":[100.0,100.0,100.0,100.0,100.0,99.9,99.8,99.1,98.9,15.1,14.5,15.4,29.8,9.5,8.3,7.8,9.9,6.2,3.2]}],                        {\"legend\":{\"tracegroupgap\":0},\"template\":{\"data\":{\"bar\":[{\"error_x\":{\"color\":\"#2a3f5f\"},\"error_y\":{\"color\":\"#2a3f5f\"},\"marker\":{\"line\":{\"color\":\"#E5ECF6\",\"width\":0.5},\"pattern\":{\"fillmode\":\"overlay\",\"size\":10,\"solidity\":0.2}},\"type\":\"bar\"}],\"barpolar\":[{\"marker\":{\"line\":{\"color\":\"#E5ECF6\",\"width\":0.5},\"pattern\":{\"fillmode\":\"overlay\",\"size\":10,\"solidity\":0.2}},\"type\":\"barpolar\"}],\"carpet\":[{\"aaxis\":{\"endlinecolor\":\"#2a3f5f\",\"gridcolor\":\"white\",\"linecolor\":\"white\",\"minorgridcolor\":\"white\",\"startlinecolor\":\"#2a3f5f\"},\"baxis\":{\"endlinecolor\":\"#2a3f5f\",\"gridcolor\":\"white\",\"linecolor\":\"white\",\"minorgridcolor\":\"white\",\"startlinecolor\":\"#2a3f5f\"},\"type\":\"carpet\"}],\"choropleth\":[{\"colorbar\":{\"outlinewidth\":0,\"ticks\":\"\"},\"type\":\"choropleth\"}],\"contour\":[{\"colorbar\":{\"outlinewidth\":0,\"ticks\":\"\"},\"colorscale\":[[0.0,\"#0d0887\"],[0.1111111111111111,\"#46039f\"],[0.2222222222222222,\"#7201a8\"],[0.3333333333333333,\"#9c179e\"],[0.4444444444444444,\"#bd3786\"],[0.5555555555555556,\"#d8576b\"],[0.6666666666666666,\"#ed7953\"],[0.7777777777777778,\"#fb9f3a\"],[0.8888888888888888,\"#fdca26\"],[1.0,\"#f0f921\"]],\"type\":\"contour\"}],\"contourcarpet\":[{\"colorbar\":{\"outlinewidth\":0,\"ticks\":\"\"},\"type\":\"contourcarpet\"}],\"heatmap\":[{\"colorbar\":{\"outlinewidth\":0,\"ticks\":\"\"},\"colorscale\":[[0.0,\"#0d0887\"],[0.1111111111111111,\"#46039f\"],[0.2222222222222222,\"#7201a8\"],[0.3333333333333333,\"#9c179e\"],[0.4444444444444444,\"#bd3786\"],[0.5555555555555556,\"#d8576b\"],[0.6666666666666666,\"#ed7953\"],[0.7777777777777778,\"#fb9f3a\"],[0.8888888888888888,\"#fdca26\"],[1.0,\"#f0f921\"]],\"type\":\"heatmap\"}],\"heatmapgl\":[{\"colorbar\":{\"outlinewidth\":0,\"ticks\":\"\"},\"colorscale\":[[0.0,\"#0d0887\"],[0.1111111111111111,\"#46039f\"],[0.2222222222222222,\"#7201a8\"],[0.3333333333333333,\"#9c179e\"],[0.4444444444444444,\"#bd3786\"],[0.5555555555555556,\"#d8576b\"],[0.6666666666666666,\"#ed7953\"],[0.7777777777777778,\"#fb9f3a\"],[0.8888888888888888,\"#fdca26\"],[1.0,\"#f0f921\"]],\"type\":\"heatmapgl\"}],\"histogram\":[{\"marker\":{\"pattern\":{\"fillmode\":\"overlay\",\"size\":10,\"solidity\":0.2}},\"type\":\"histogram\"}],\"histogram2d\":[{\"colorbar\":{\"outlinewidth\":0,\"ticks\":\"\"},\"colorscale\":[[0.0,\"#0d0887\"],[0.1111111111111111,\"#46039f\"],[0.2222222222222222,\"#7201a8\"],[0.3333333333333333,\"#9c179e\"],[0.4444444444444444,\"#bd3786\"],[0.5555555555555556,\"#d8576b\"],[0.6666666666666666,\"#ed7953\"],[0.7777777777777778,\"#fb9f3a\"],[0.8888888888888888,\"#fdca26\"],[1.0,\"#f0f921\"]],\"type\":\"histogram2d\"}],\"histogram2dcontour\":[{\"colorbar\":{\"outlinewidth\":0,\"ticks\":\"\"},\"colorscale\":[[0.0,\"#0d0887\"],[0.1111111111111111,\"#46039f\"],[0.2222222222222222,\"#7201a8\"],[0.3333333333333333,\"#9c179e\"],[0.4444444444444444,\"#bd3786\"],[0.5555555555555556,\"#d8576b\"],[0.6666666666666666,\"#ed7953\"],[0.7777777777777778,\"#fb9f3a\"],[0.8888888888888888,\"#fdca26\"],[1.0,\"#f0f921\"]],\"type\":\"histogram2dcontour\"}],\"mesh3d\":[{\"colorbar\":{\"outlinewidth\":0,\"ticks\":\"\"},\"type\":\"mesh3d\"}],\"parcoords\":[{\"line\":{\"colorbar\":{\"outlinewidth\":0,\"ticks\":\"\"}},\"type\":\"parcoords\"}],\"pie\":[{\"automargin\":true,\"type\":\"pie\"}],\"scatter\":[{\"marker\":{\"colorbar\":{\"outlinewidth\":0,\"ticks\":\"\"}},\"type\":\"scatter\"}],\"scatter3d\":[{\"line\":{\"colorbar\":{\"outlinewidth\":0,\"ticks\":\"\"}},\"marker\":{\"colorbar\":{\"outlinewidth\":0,\"ticks\":\"\"}},\"type\":\"scatter3d\"}],\"scattercarpet\":[{\"marker\":{\"colorbar\":{\"outlinewidth\":0,\"ticks\":\"\"}},\"type\":\"scattercarpet\"}],\"scattergeo\":[{\"marker\":{\"colorbar\":{\"outlinewidth\":0,\"ticks\":\"\"}},\"type\":\"scattergeo\"}],\"scattergl\":[{\"marker\":{\"colorbar\":{\"outlinewidth\":0,\"ticks\":\"\"}},\"type\":\"scattergl\"}],\"scattermapbox\":[{\"marker\":{\"colorbar\":{\"outlinewidth\":0,\"ticks\":\"\"}},\"type\":\"scattermapbox\"}],\"scatterpolar\":[{\"marker\":{\"colorbar\":{\"outlinewidth\":0,\"ticks\":\"\"}},\"type\":\"scatterpolar\"}],\"scatterpolargl\":[{\"marker\":{\"colorbar\":{\"outlinewidth\":0,\"ticks\":\"\"}},\"type\":\"scatterpolargl\"}],\"scatterternary\":[{\"marker\":{\"colorbar\":{\"outlinewidth\":0,\"ticks\":\"\"}},\"type\":\"scatterternary\"}],\"surface\":[{\"colorbar\":{\"outlinewidth\":0,\"ticks\":\"\"},\"colorscale\":[[0.0,\"#0d0887\"],[0.1111111111111111,\"#46039f\"],[0.2222222222222222,\"#7201a8\"],[0.3333333333333333,\"#9c179e\"],[0.4444444444444444,\"#bd3786\"],[0.5555555555555556,\"#d8576b\"],[0.6666666666666666,\"#ed7953\"],[0.7777777777777778,\"#fb9f3a\"],[0.8888888888888888,\"#fdca26\"],[1.0,\"#f0f921\"]],\"type\":\"surface\"}],\"table\":[{\"cells\":{\"fill\":{\"color\":\"#EBF0F8\"},\"line\":{\"color\":\"white\"}},\"header\":{\"fill\":{\"color\":\"#C8D4E3\"},\"line\":{\"color\":\"white\"}},\"type\":\"table\"}]},\"layout\":{\"annotationdefaults\":{\"arrowcolor\":\"#2a3f5f\",\"arrowhead\":0,\"arrowwidth\":1},\"autotypenumbers\":\"strict\",\"coloraxis\":{\"colorbar\":{\"outlinewidth\":0,\"ticks\":\"\"}},\"colorscale\":{\"diverging\":[[0,\"#8e0152\"],[0.1,\"#c51b7d\"],[0.2,\"#de77ae\"],[0.3,\"#f1b6da\"],[0.4,\"#fde0ef\"],[0.5,\"#f7f7f7\"],[0.6,\"#e6f5d0\"],[0.7,\"#b8e186\"],[0.8,\"#7fbc41\"],[0.9,\"#4d9221\"],[1,\"#276419\"]],\"sequential\":[[0.0,\"#0d0887\"],[0.1111111111111111,\"#46039f\"],[0.2222222222222222,\"#7201a8\"],[0.3333333333333333,\"#9c179e\"],[0.4444444444444444,\"#bd3786\"],[0.5555555555555556,\"#d8576b\"],[0.6666666666666666,\"#ed7953\"],[0.7777777777777778,\"#fb9f3a\"],[0.8888888888888888,\"#fdca26\"],[1.0,\"#f0f921\"]],\"sequentialminus\":[[0.0,\"#0d0887\"],[0.1111111111111111,\"#46039f\"],[0.2222222222222222,\"#7201a8\"],[0.3333333333333333,\"#9c179e\"],[0.4444444444444444,\"#bd3786\"],[0.5555555555555556,\"#d8576b\"],[0.6666666666666666,\"#ed7953\"],[0.7777777777777778,\"#fb9f3a\"],[0.8888888888888888,\"#fdca26\"],[1.0,\"#f0f921\"]]},\"colorway\":[\"#636efa\",\"#EF553B\",\"#00cc96\",\"#ab63fa\",\"#FFA15A\",\"#19d3f3\",\"#FF6692\",\"#B6E880\",\"#FF97FF\",\"#FECB52\"],\"font\":{\"color\":\"#2a3f5f\"},\"geo\":{\"bgcolor\":\"white\",\"lakecolor\":\"white\",\"landcolor\":\"#E5ECF6\",\"showlakes\":true,\"showland\":true,\"subunitcolor\":\"white\"},\"hoverlabel\":{\"align\":\"left\"},\"hovermode\":\"closest\",\"mapbox\":{\"style\":\"light\"},\"paper_bgcolor\":\"white\",\"plot_bgcolor\":\"#E5ECF6\",\"polar\":{\"angularaxis\":{\"gridcolor\":\"white\",\"linecolor\":\"white\",\"ticks\":\"\"},\"bgcolor\":\"#E5ECF6\",\"radialaxis\":{\"gridcolor\":\"white\",\"linecolor\":\"white\",\"ticks\":\"\"}},\"scene\":{\"xaxis\":{\"backgroundcolor\":\"#E5ECF6\",\"gridcolor\":\"white\",\"gridwidth\":2,\"linecolor\":\"white\",\"showbackground\":true,\"ticks\":\"\",\"zerolinecolor\":\"white\"},\"yaxis\":{\"backgroundcolor\":\"#E5ECF6\",\"gridcolor\":\"white\",\"gridwidth\":2,\"linecolor\":\"white\",\"showbackground\":true,\"ticks\":\"\",\"zerolinecolor\":\"white\"},\"zaxis\":{\"backgroundcolor\":\"#E5ECF6\",\"gridcolor\":\"white\",\"gridwidth\":2,\"linecolor\":\"white\",\"showbackground\":true,\"ticks\":\"\",\"zerolinecolor\":\"white\"}},\"shapedefaults\":{\"line\":{\"color\":\"#2a3f5f\"}},\"ternary\":{\"aaxis\":{\"gridcolor\":\"white\",\"linecolor\":\"white\",\"ticks\":\"\"},\"baxis\":{\"gridcolor\":\"white\",\"linecolor\":\"white\",\"ticks\":\"\"},\"bgcolor\":\"#E5ECF6\",\"caxis\":{\"gridcolor\":\"white\",\"linecolor\":\"white\",\"ticks\":\"\"}},\"title\":{\"x\":0.05},\"xaxis\":{\"automargin\":true,\"gridcolor\":\"white\",\"linecolor\":\"white\",\"ticks\":\"\",\"title\":{\"standoff\":15},\"zerolinecolor\":\"white\",\"zerolinewidth\":2},\"yaxis\":{\"automargin\":true,\"gridcolor\":\"white\",\"linecolor\":\"white\",\"ticks\":\"\",\"title\":{\"standoff\":15},\"zerolinecolor\":\"white\",\"zerolinewidth\":2}}},\"title\":{\"text\":\"Participation of Female population in Secondary Education\"}},                        {\"responsive\": true}                    ).then(function(){\n",
       "                            \n",
       "var gd = document.getElementById('782359b5-0c82-45c6-9b65-43c4739f768d');\n",
       "var x = new MutationObserver(function (mutations, observer) {{\n",
       "        var display = window.getComputedStyle(gd).display;\n",
       "        if (!display || display === 'none') {{\n",
       "            console.log([gd, 'removed!']);\n",
       "            Plotly.purge(gd);\n",
       "            observer.disconnect();\n",
       "        }}\n",
       "}});\n",
       "\n",
       "// Listen for the removal of the full notebook cells\n",
       "var notebookContainer = gd.closest('#notebook-container');\n",
       "if (notebookContainer) {{\n",
       "    x.observe(notebookContainer, {childList: true});\n",
       "}}\n",
       "\n",
       "// Listen for the clearing of the current output cell\n",
       "var outputEl = gd.closest('.output');\n",
       "if (outputEl) {{\n",
       "    x.observe(outputEl, {childList: true});\n",
       "}}\n",
       "\n",
       "                        })                };                });            </script>        </div>"
      ]
     },
     "metadata": {},
     "output_type": "display_data"
    }
   ],
   "source": [
    "import plotly.express as px\n",
    "csv_file = \"female_education.csv\"\n",
    "df = pd.read_csv(csv_file)\n",
    "\n",
    "fig = px.pie(df, values='Population_with_Secondary_Education_Female', names='Country' ,hover_data=['Gender_Inequality_Index_GII'], title='Participation of Female population in Secondary Education')\n",
    "\n",
    "#fig.update_layout(\n",
    "    #margin=dict(l=20, r=20, t=20, b=20),\n",
    "    #paper_bgcolor=\"LightSteelBlue\",\n",
    "#)\n",
    "\n",
    "fig.show()"
   ]
  },
  {
   "cell_type": "code",
   "execution_count": 60,
   "metadata": {},
   "outputs": [
    {
     "data": {
      "application/vnd.plotly.v1+json": {
       "config": {
        "plotlyServerURL": "https://plot.ly"
       },
       "data": [
        {
         "autocolorscale": false,
         "colorbar": {
          "title": {
           "text": "GDI"
          }
         },
         "colorscale": [
          [
           0,
           "rgb(53,0,176)"
          ],
          [
           0.2,
           "rgb(121,0,158)"
          ],
          [
           0.4,
           "rgb(181,0,176)"
          ],
          [
           0.6,
           "rgb(255, 86, 75)"
          ],
          [
           0.8,
           "rgb(255,161,45)"
          ],
          [
           1,
           "rgb(255,215,0)"
          ]
         ],
         "locations": [
          "NOR",
          "AUS",
          "CHE",
          "DNK",
          "NLD",
          "DEU",
          "IRL",
          "USA",
          "CAN",
          "NZL",
          "SGP",
          "HKG",
          "LIE",
          "SWE",
          "GBR",
          "ISL",
          "KOR",
          "ISR",
          "LUX",
          "JPN",
          "BEL",
          "FRA",
          "AUT",
          "FIN",
          "SVN",
          "ESP",
          "ITA",
          "CZE",
          "GRC",
          "EST",
          "BRN",
          "CYP",
          "QAT",
          "AND",
          "SVK",
          "POL",
          "LTU",
          "MLT",
          "SAU",
          "ARG",
          "ARE",
          "CHL",
          "PRT",
          "HUN",
          "BHR",
          "LVA",
          "HRV",
          "KWT",
          "MNE",
          "BLR",
          "RUS",
          "OMN",
          "ROU",
          "URY",
          "BHS",
          "KAZ",
          "BRB",
          "ATG",
          "BGR",
          "PLW",
          "PAN",
          "MYS",
          "MUS",
          "SYC",
          "TTO",
          "SRB",
          "CUB",
          "LBN",
          "CRI",
          "IRN",
          "VEN",
          "TUR",
          "LKA",
          "MEX",
          "BRA",
          "GEO",
          "KNA",
          "AZE",
          "GRD",
          "JOR",
          "MKD",
          "UKR",
          "DZA",
          "PER",
          "ALB",
          "ARM",
          "BIH",
          "ECU",
          "LCA",
          "CHN",
          "FJI",
          "MNG",
          "THA",
          "DMA",
          "LBY",
          "TUN",
          "COL",
          "VCT",
          "JAM ",
          "TON",
          "BLZ",
          "DOM",
          "SUR",
          "MDV",
          "WSM",
          "BWA",
          "MDA",
          "EGY",
          "TKM",
          "GAB",
          "IDN",
          "PRY",
          "PSE",
          "UZB",
          "PHL",
          "SLV",
          "ZAF",
          "VNM",
          "BOL",
          "KGZ",
          "IRQ",
          "CPV",
          "FSM",
          "GUY",
          "NIC",
          "MAR",
          "NAM",
          "GTM",
          "TJK",
          "IND",
          "HND",
          "BTN",
          "TLS",
          "SYR",
          "VUT",
          "COG",
          "KIR",
          "GNQ",
          "ZMB",
          "GHA",
          "LAO",
          "BGD",
          "KHM",
          "STP",
          "KEN",
          "NPL",
          "PAK",
          "MMR",
          "AGO",
          "SWZ",
          "TZA",
          "NGA",
          "CMR",
          "MDG",
          "ZWE",
          "MRT",
          "SLB",
          "PNG",
          "COM",
          "YEM",
          "LSO",
          "TGO",
          "HTI",
          "RWA",
          "UGA",
          "BEN",
          "SDN",
          "DJI",
          "SSD",
          "SEN",
          "AFG",
          "CIV",
          "MWI",
          "ETH",
          "GMB",
          "COD",
          "LBR",
          "GNB",
          "MLI",
          "MOZ",
          "SLE",
          "GIN",
          "BFA",
          "BDI",
          "TCD",
          "ERI",
          "CAF",
          "NER",
          null,
          null,
          null,
          null,
          null,
          null,
          null
         ],
         "marker": {
          "line": {
           "color": "darkgray",
           "width": 0.5
          }
         },
         "reversescale": true,
         "text": [
          "Country: Norway<br>Development Index (Female): 0.94<br>Development Index (Male): 0.944<br>Life Expectancy (Female): 83.6<br>Life Expectancy (Male): 79.5<br>Mean Years of Education (Female): 12.7<br>Mean Years of Education (Male): 12.5<br>Estimated Gross National Income per Capita (Female): 57140<br>Estimated Gross National Income per Capita (Male): 72825<br>",
          "Country: Australia<br>Development Index (Female): 0.922<br>Development Index (Male): 0.945<br>Life Expectancy (Female): 84.5<br>Life Expectancy (Male): 80.3<br>Mean Years of Education (Female): 13.1<br>Mean Years of Education (Male): 12.9<br>Estimated Gross National Income per Capita (Female): 33688<br>Estimated Gross National Income per Capita (Male): 50914<br>",
          "Country: Switzerland<br>Development Index (Female): 0.898<br>Development Index (Male): 0.945<br>Life Expectancy (Female): 85<br>Life Expectancy (Male): 80.8<br>Mean Years of Education (Female): 11.5<br>Mean Years of Education (Male): 13.1<br>Estimated Gross National Income per Capita (Female): 44132<br>Estimated Gross National Income per Capita (Male): 69077<br>",
          "Country: Denmark<br>Development Index (Female): 0.912<br>Development Index (Male): 0.934<br>Life Expectancy (Female): 82.2<br>Life Expectancy (Male): 78.3<br>Mean Years of Education (Female): 12.8<br>Mean Years of Education (Male): 12.7<br>Estimated Gross National Income per Capita (Female): 36439<br>Estimated Gross National Income per Capita (Male): 51727<br>",
          "Country: Netherlands<br>Development Index (Female): 0.893<br>Development Index (Male): 0.943<br>Life Expectancy (Female): 83.3<br>Life Expectancy (Male): 79.7<br>Mean Years of Education (Female): 11.6<br>Mean Years of Education (Male): 12.2<br>Estimated Gross National Income per Capita (Female): 29500<br>Estimated Gross National Income per Capita (Male): 61641<br>",
          "Country: Germany<br>Development Index (Female): 0.901<br>Development Index (Male): 0.936<br>Life Expectancy (Female): 83.3<br>Life Expectancy (Male): 78.5<br>Mean Years of Education (Female): 12.9<br>Mean Years of Education (Male): 13.8<br>Estimated Gross National Income per Capita (Female): 34886<br>Estimated Gross National Income per Capita (Male): 53290<br>",
          "Country: Ireland<br>Development Index (Female): 0.901<br>Development Index (Male): 0.926<br>Life Expectancy (Female): 83<br>Life Expectancy (Male): 78.8<br>Mean Years of Education (Female): 12.3<br>Mean Years of Education (Male): 12<br>Estimated Gross National Income per Capita (Female): 30104<br>Estimated Gross National Income per Capita (Male): 49166<br>",
          "Country: United States<br>Development Index (Female): 0.911<br>Development Index (Male): 0.916<br>Life Expectancy (Female): 81.4<br>Life Expectancy (Male): 76.7<br>Mean Years of Education (Female): 13<br>Mean Years of Education (Male): 12.9<br>Estimated Gross National Income per Capita (Female): 43054<br>Estimated Gross National Income per Capita (Male): 63158<br>",
          "Country: Canada<br>Development Index (Female): 0.904<br>Development Index (Male): 0.921<br>Life Expectancy (Female): 84<br>Life Expectancy (Male): 80<br>Mean Years of Education (Female): 13.1<br>Mean Years of Education (Male): 13<br>Estimated Gross National Income per Capita (Female): 33587<br>Estimated Gross National Income per Capita (Male): 50853<br>",
          "Country: New Zealand<br>Development Index (Female): 0.894<br>Development Index (Male): 0.93<br>Life Expectancy (Female): 83.6<br>Life Expectancy (Male): 80<br>Mean Years of Education (Female): 12.5<br>Mean Years of Education (Male): 12.6<br>Estimated Gross National Income per Capita (Female): 24309<br>Estimated Gross National Income per Capita (Male): 41372<br>",
          "Country: Singapore<br>Development Index (Female): 0.898<br>Development Index (Male): 0.912<br>Life Expectancy (Female): 86<br>Life Expectancy (Male): 79.9<br>Mean Years of Education (Female): 10.1<br>Mean Years of Education (Male): 10.9<br>Estimated Gross National Income per Capita (Female): 59994<br>Estimated Gross National Income per Capita (Male): 93699<br>",
          "Country: Hong Kong, China (SAR)<br>Development Index (Female): 0.892<br>Development Index (Male): 0.931<br>Life Expectancy (Female): 86.8<br>Life Expectancy (Male): 81.2<br>Mean Years of Education (Female): 10.9<br>Mean Years of Education (Male): 11.9<br>Estimated Gross National Income per Capita (Female): 38060<br>Estimated Gross National Income per Capita (Male): 72052<br>",
          "Country: Liechtenstein<br>Development Index (Female): ..<br>Development Index (Male): ..<br>Life Expectancy (Female): ..<br>Life Expectancy (Male): ..<br>Mean Years of Education (Female): ..<br>Mean Years of Education (Male): ..<br>Estimated Gross National Income per Capita (Female): ..<br>Estimated Gross National Income per Capita (Male): ..<br>",
          "Country: Sweden<br>Development Index (Female): 0.906<br>Development Index (Male): 0.906<br>Life Expectancy (Female): 83.9<br>Life Expectancy (Male): 80.4<br>Mean Years of Education (Female): 12.2<br>Mean Years of Education (Male): 12<br>Estimated Gross National Income per Capita (Female): 40222<br>Estimated Gross National Income per Capita (Male): 51084<br>",
          "Country: United Kingdom<br>Development Index (Female): 0.888<br>Development Index (Male): 0.92<br>Life Expectancy (Female): 82.6<br>Life Expectancy (Male): 78.7<br>Mean Years of Education (Female): 12.9<br>Mean Years of Education (Male): 13.2<br>Estimated Gross National Income per Capita (Female): 27259<br>Estimated Gross National Income per Capita (Male): 51628<br>",
          "Country: Iceland<br>Development Index (Female): 0.886<br>Development Index (Male): 0.909<br>Life Expectancy (Female): 84<br>Life Expectancy (Male): 81<br>Mean Years of Education (Female): 10.8<br>Mean Years of Education (Male): 10.4<br>Estimated Gross National Income per Capita (Female): 28792<br>Estimated Gross National Income per Capita (Male): 41486<br>",
          "Country: Korea (Republic of)<br>Development Index (Female): 0.861<br>Development Index (Male): 0.926<br>Life Expectancy (Female): 85<br>Life Expectancy (Male): 78.5<br>Mean Years of Education (Female): 11.2<br>Mean Years of Education (Male): 12.7<br>Estimated Gross National Income per Capita (Female): 21896<br>Estimated Gross National Income per Capita (Male): 46018<br>",
          "Country: Israel<br>Development Index (Female): 0.879<br>Development Index (Male): 0.905<br>Life Expectancy (Female): 84.1<br>Life Expectancy (Male): 80.5<br>Mean Years of Education (Female): 12.5<br>Mean Years of Education (Male): 12.6<br>Estimated Gross National Income per Capita (Female): 22451<br>Estimated Gross National Income per Capita (Male): 39064<br>",
          "Country: Luxembourg<br>Development Index (Female): 0.877<br>Development Index (Male): 0.903<br>Life Expectancy (Female): 83.9<br>Life Expectancy (Male): 79.3<br>Mean Years of Education (Female): 11.3<br>Mean Years of Education (Male): 12.1<br>Estimated Gross National Income per Capita (Female): 47723<br>Estimated Gross National Income per Capita (Male): 69800<br>",
          "Country: Japan<br>Development Index (Female): 0.87<br>Development Index (Male): 0.905<br>Life Expectancy (Female): 86.7<br>Life Expectancy (Male): 80.2<br>Mean Years of Education (Female): 11.3<br>Mean Years of Education (Male): 11.7<br>Estimated Gross National Income per Capita (Female): 24975<br>Estimated Gross National Income per Capita (Male): 49541<br>",
          "Country: Belgium<br>Development Index (Female): 0.872<br>Development Index (Male): 0.895<br>Life Expectancy (Female): 83.2<br>Life Expectancy (Male): 78.3<br>Mean Years of Education (Female): 10.6<br>Mean Years of Education (Male): 11.1<br>Estimated Gross National Income per Capita (Female): 31879<br>Estimated Gross National Income per Capita (Male): 50845<br>",
          "Country: France<br>Development Index (Female): 0.881<br>Development Index (Male): 0.893<br>Life Expectancy (Female): 85.1<br>Life Expectancy (Male): 79.2<br>Mean Years of Education (Female): 11<br>Mean Years of Education (Male): 11.3<br>Estimated Gross National Income per Capita (Female): 31073<br>Estimated Gross National Income per Capita (Male): 45497<br>",
          "Country: Austria<br>Development Index (Female): 0.856<br>Development Index (Male): 0.909<br>Life Expectancy (Female): 83.8<br>Life Expectancy (Male): 78.8<br>Mean Years of Education (Female): 9.9<br>Mean Years of Education (Male): 11.9<br>Estimated Gross National Income per Capita (Female): 29598<br>Estimated Gross National Income per Capita (Male): 58826<br>",
          "Country: Finland<br>Development Index (Female): 0.879<br>Development Index (Male): 0.882<br>Life Expectancy (Female): 83.6<br>Life Expectancy (Male): 78<br>Mean Years of Education (Female): 10.2<br>Mean Years of Education (Male): 10.2<br>Estimated Gross National Income per Capita (Female): 31644<br>Estimated Gross National Income per Capita (Male): 45994<br>",
          "Country: Slovenia<br>Development Index (Female): 0.877<br>Development Index (Male): 0.881<br>Life Expectancy (Female): 83.4<br>Life Expectancy (Male): 77.3<br>Mean Years of Education (Female): 11.8<br>Mean Years of Education (Male): 12<br>Estimated Gross National Income per Capita (Female): 22180<br>Estimated Gross National Income per Capita (Male): 33593<br>",
          "Country: Spain<br>Development Index (Female): 0.863<br>Development Index (Male): 0.885<br>Life Expectancy (Female): 85.3<br>Life Expectancy (Male): 79.8<br>Mean Years of Education (Female): 9.4<br>Mean Years of Education (Male): 9.8<br>Estimated Gross National Income per Capita (Female): 24059<br>Estimated Gross National Income per Capita (Male): 40221<br>",
          "Country: Italy<br>Development Index (Female): 0.851<br>Development Index (Male): 0.883<br>Life Expectancy (Female): 85.5<br>Life Expectancy (Male): 80.6<br>Mean Years of Education (Female): 9.5<br>Mean Years of Education (Male): 10.2<br>Estimated Gross National Income per Capita (Female): 22526<br>Estimated Gross National Income per Capita (Male): 44148<br>",
          "Country: Czech Republic<br>Development Index (Female): 0.859<br>Development Index (Male): 0.877<br>Life Expectancy (Female): 81.5<br>Life Expectancy (Male): 75.7<br>Mean Years of Education (Female): 12.1<br>Mean Years of Education (Male): 12.5<br>Estimated Gross National Income per Capita (Female): 19929<br>Estimated Gross National Income per Capita (Male): 33604<br>",
          "Country: Greece<br>Development Index (Female): 0.844<br>Development Index (Male): 0.879<br>Life Expectancy (Female): 83.8<br>Life Expectancy (Male): 78<br>Mean Years of Education (Female): 9.8<br>Mean Years of Education (Male): 10.5<br>Estimated Gross National Income per Capita (Female): 17288<br>Estimated Gross National Income per Capita (Male): 31952<br>",
          "Country: Estonia<br>Development Index (Female): 0.872<br>Development Index (Male): 0.847<br>Life Expectancy (Female): 81.3<br>Life Expectancy (Male): 72<br>Mean Years of Education (Female): 12.7<br>Mean Years of Education (Male): 12.2<br>Estimated Gross National Income per Capita (Female): 20854<br>Estimated Gross National Income per Capita (Male): 30254<br>",
          "Country: Brunei Darussalam<br>Development Index (Female): 0.84<br>Development Index (Male): 0.86<br>Life Expectancy (Female): 80.7<br>Life Expectancy (Male): 77<br>Mean Years of Education (Female): 8.5<br>Mean Years of Education (Male): 9<br>Estimated Gross National Income per Capita (Female): 54228<br>Estimated Gross National Income per Capita (Male): 90437<br>",
          "Country: Cyprus<br>Development Index (Female): 0.836<br>Development Index (Male): 0.861<br>Life Expectancy (Female): 82.4<br>Life Expectancy (Male): 78<br>Mean Years of Education (Female): 11.4<br>Mean Years of Education (Male): 11.8<br>Estimated Gross National Income per Capita (Female): 22613<br>Estimated Gross National Income per Capita (Male): 34400<br>",
          "Country: Qatar<br>Development Index (Female): 0.853<br>Development Index (Male): 0.854<br>Life Expectancy (Female): 79.9<br>Life Expectancy (Male): 77.3<br>Mean Years of Education (Female): 10.4<br>Mean Years of Education (Male): 8.8<br>Estimated Gross National Income per Capita (Female): 55123<br>Estimated Gross National Income per Capita (Male): 143979<br>",
          "Country: Andorra<br>Development Index (Female): ..<br>Development Index (Male): ..<br>Life Expectancy (Female): ..<br>Life Expectancy (Male): ..<br>Mean Years of Education (Female): ..<br>Mean Years of Education (Male): ..<br>Estimated Gross National Income per Capita (Female): ..<br>Estimated Gross National Income per Capita (Male): ..<br>",
          "Country: Slovakia<br>Development Index (Female): 0.841<br>Development Index (Male): 0.842<br>Life Expectancy (Female): 79.9<br>Life Expectancy (Male): 72.5<br>Mean Years of Education (Female): 12.3<br>Mean Years of Education (Male): 12.2<br>Estimated Gross National Income per Capita (Female): 19903<br>Estimated Gross National Income per Capita (Male): 32122<br>",
          "Country: Poland<br>Development Index (Female): 0.844<br>Development Index (Male): 0.839<br>Life Expectancy (Female): 81.4<br>Life Expectancy (Male): 73.4<br>Mean Years of Education (Female): 11.7<br>Mean Years of Education (Male): 11.9<br>Estimated Gross National Income per Capita (Female): 18423<br>Estimated Gross National Income per Capita (Male): 28271<br>",
          "Country: Lithuania<br>Development Index (Female): 0.851<br>Development Index (Male): 0.827<br>Life Expectancy (Female): 78.9<br>Life Expectancy (Male): 67.7<br>Mean Years of Education (Female): 12.3<br>Mean Years of Education (Male): 12.5<br>Estimated Gross National Income per Capita (Female): 20955<br>Estimated Gross National Income per Capita (Male): 28656<br>",
          "Country: Malta<br>Development Index (Female): 0.806<br>Development Index (Male): 0.861<br>Life Expectancy (Female): 82.2<br>Life Expectancy (Male): 78.8<br>Mean Years of Education (Female): 9.9<br>Mean Years of Education (Male): 10.8<br>Estimated Gross National Income per Capita (Female): 16435<br>Estimated Gross National Income per Capita (Male): 39432<br>",
          "Country: Saudi Arabia<br>Development Index (Female): 0.778<br>Development Index (Male): 0.864<br>Life Expectancy (Female): 75.7<br>Life Expectancy (Male): 73<br>Mean Years of Education (Female): 7.8<br>Mean Years of Education (Male): 9.3<br>Estimated Gross National Income per Capita (Female): 20094<br>Estimated Gross National Income per Capita (Male): 77044<br>",
          "Country: Argentina<br>Development Index (Female): 0.819<br>Development Index (Male): 0.834<br>Life Expectancy (Female): 80.1<br>Life Expectancy (Male): 72.4<br>Mean Years of Education (Female): 9.8<br>Mean Years of Education (Male): 9.8<br>Estimated Gross National Income per Capita (Female): 14202<br>Estimated Gross National Income per Capita (Male): 30237<br>",
          "Country: United Arab Emirates<br>Development Index (Female): 0.796<br>Development Index (Male): 0.835<br>Life Expectancy (Female): 78.5<br>Life Expectancy (Male): 76.3<br>Mean Years of Education (Female): 9.9<br>Mean Years of Education (Male): 8.5<br>Estimated Gross National Income per Capita (Female): 22391<br>Estimated Gross National Income per Capita (Male): 77300<br>",
          "Country: Chile<br>Development Index (Female): 0.815<br>Development Index (Male): 0.843<br>Life Expectancy (Female): 84.5<br>Life Expectancy (Male): 78.6<br>Mean Years of Education (Female): 9.7<br>Mean Years of Education (Male): 9.9<br>Estimated Gross National Income per Capita (Female): 14732<br>Estimated Gross National Income per Capita (Male): 27992<br>",
          "Country: Portugal<br>Development Index (Female): 0.823<br>Development Index (Male): 0.836<br>Life Expectancy (Female): 83.8<br>Life Expectancy (Male): 77.9<br>Mean Years of Education (Female): 8.1<br>Mean Years of Education (Male): 8.4<br>Estimated Gross National Income per Capita (Female): 21259<br>Estimated Gross National Income per Capita (Male): 30543<br>",
          "Country: Hungary<br>Development Index (Female): 0.818<br>Development Index (Male): 0.838<br>Life Expectancy (Female): 78.7<br>Life Expectancy (Male): 71.5<br>Mean Years of Education (Female): 11.3<br>Mean Years of Education (Male): 12.2<br>Estimated Gross National Income per Capita (Female): 17443<br>Estimated Gross National Income per Capita (Male): 28960<br>",
          "Country: Bahrain<br>Development Index (Female): 0.789<br>Development Index (Male): 0.839<br>Life Expectancy (Female): 77.6<br>Life Expectancy (Male): 75.8<br>Mean Years of Education (Female): 9.1<br>Mean Years of Education (Male): 9.6<br>Estimated Gross National Income per Capita (Female): 20038<br>Estimated Gross National Income per Capita (Male): 49890<br>",
          "Country: Latvia<br>Development Index (Female): 0.829<br>Development Index (Male): 0.805<br>Life Expectancy (Female): 78.9<br>Life Expectancy (Male): 69.1<br>Mean Years of Education (Female): 11.7<br>Mean Years of Education (Male): 11.2<br>Estimated Gross National Income per Capita (Female): 18437<br>Estimated Gross National Income per Capita (Male): 26845<br>",
          "Country: Croatia<br>Development Index (Female): 0.812<br>Development Index (Male): 0.823<br>Life Expectancy (Female): 80.6<br>Life Expectancy (Male): 74<br>Mean Years of Education (Female): 10.5<br>Mean Years of Education (Male): 11.6<br>Estimated Gross National Income per Capita (Female): 16200<br>Estimated Gross National Income per Capita (Male): 22853<br>",
          "Country: Kuwait<br>Development Index (Female): 0.793<br>Development Index (Male): 0.816<br>Life Expectancy (Female): 75.8<br>Life Expectancy (Male): 73.5<br>Mean Years of Education (Female): 7.3<br>Mean Years of Education (Male): 7.1<br>Estimated Gross National Income per Capita (Female): 42292<br>Estimated Gross National Income per Capita (Male): 111988<br>",
          "Country: Montenegro<br>Development Index (Female): 0.782<br>Development Index (Male): 0.819<br>Life Expectancy (Female): 78.4<br>Life Expectancy (Male): 74.1<br>Mean Years of Education (Female): 10.5<br>Mean Years of Education (Male): 11.8<br>Estimated Gross National Income per Capita (Female): 11106<br>Estimated Gross National Income per Capita (Male): 18094<br>",
          "Country: Belarus<br>Development Index (Female): 0.806<br>Development Index (Male): 0.789<br>Life Expectancy (Female): 77.2<br>Life Expectancy (Male): 65.5<br>Mean Years of Education (Female): 11.9<br>Mean Years of Education (Male): 12.1<br>Estimated Gross National Income per Capita (Female): 12922<br>Estimated Gross National Income per Capita (Male): 21010<br>",
          "Country: Russian Federation<br>Development Index (Female): 0.804<br>Development Index (Male): 0.789<br>Life Expectancy (Female): 75.8<br>Life Expectancy (Male): 64.4<br>Mean Years of Education (Female): 11.9<br>Mean Years of Education (Male): 12<br>Estimated Gross National Income per Capita (Female): 17269<br>Estimated Gross National Income per Capita (Male): 28287<br>",
          "Country: Oman<br>Development Index (Female): 0.741<br>Development Index (Male): 0.815<br>Life Expectancy (Female): 79.2<br>Life Expectancy (Male): 75.1<br>Mean Years of Education (Female): 7<br>Mean Years of Education (Male): 8.5<br>Estimated Gross National Income per Capita (Female): 14709<br>Estimated Gross National Income per Capita (Male): 46400<br>",
          "Country: Romania<br>Development Index (Female): 0.787<br>Development Index (Male): 0.796<br>Life Expectancy (Female): 78.3<br>Life Expectancy (Male): 71.2<br>Mean Years of Education (Female): 10.3<br>Mean Years of Education (Male): 11.1<br>Estimated Gross National Income per Capita (Female): 15250<br>Estimated Gross National Income per Capita (Male): 21117<br>",
          "Country: Uruguay<br>Development Index (Female): 0.797<br>Development Index (Male): 0.783<br>Life Expectancy (Female): 80.6<br>Life Expectancy (Male): 73.5<br>Mean Years of Education (Female): 8.7<br>Mean Years of Education (Male): 8.2<br>Estimated Gross National Income per Capita (Female): 14721<br>Estimated Gross National Income per Capita (Male): 24166<br>",
          "Country: Bahamas<br>Development Index (Female): ..<br>Development Index (Male): ..<br>Life Expectancy (Female): 78.3<br>Life Expectancy (Male): 72.3<br>Mean Years of Education (Female): 11.1<br>Mean Years of Education (Male): 10.7<br>Estimated Gross National Income per Capita (Female): 17868<br>Estimated Gross National Income per Capita (Male): 24957<br>",
          "Country: Kazakhstan<br>Development Index (Female): 0.787<br>Development Index (Male): 0.785<br>Life Expectancy (Female): 74.1<br>Life Expectancy (Male): 64.6<br>Mean Years of Education (Female): 11.3<br>Mean Years of Education (Male): 11.5<br>Estimated Gross National Income per Capita (Female): 15408<br>Estimated Gross National Income per Capita (Male): 26746<br>",
          "Country: Barbados<br>Development Index (Female): 0.791<br>Development Index (Male): 0.777<br>Life Expectancy (Female): 78<br>Life Expectancy (Male): 73.2<br>Mean Years of Education (Female): 10.6<br>Mean Years of Education (Male): 10.2<br>Estimated Gross National Income per Capita (Female): 10245<br>Estimated Gross National Income per Capita (Male): 14739<br>",
          "Country: Antigua and Barbuda<br>Development Index (Female): ..<br>Development Index (Male): ..<br>Life Expectancy (Female): 78.5<br>Life Expectancy (Male): 73.5<br>Mean Years of Education (Female): ..<br>Mean Years of Education (Male): ..<br>Estimated Gross National Income per Capita (Female): ..<br>Estimated Gross National Income per Capita (Male): ..<br>",
          "Country: Bulgaria<br>Development Index (Female): 0.777<br>Development Index (Male): 0.784<br>Life Expectancy (Female): 77.7<br>Life Expectancy (Male): 70.8<br>Mean Years of Education (Female): 10.6<br>Mean Years of Education (Male): 10.4<br>Estimated Gross National Income per Capita (Female): 12448<br>Estimated Gross National Income per Capita (Male): 18926<br>",
          "Country: Palau<br>Development Index (Female): ..<br>Development Index (Male): ..<br>Life Expectancy (Female): ..<br>Life Expectancy (Male): ..<br>Mean Years of Education (Female): ..<br>Mean Years of Education (Male): ..<br>Estimated Gross National Income per Capita (Female): ..<br>Estimated Gross National Income per Capita (Male): ..<br>",
          "Country: Panama<br>Development Index (Female): 0.776<br>Development Index (Male): 0.779<br>Life Expectancy (Female): 80.7<br>Life Expectancy (Male): 74.6<br>Mean Years of Education (Female): 9.6<br>Mean Years of Education (Male): 9.1<br>Estimated Gross National Income per Capita (Female): 13699<br>Estimated Gross National Income per Capita (Male): 22597<br>",
          "Country: Malaysia<br>Development Index (Female): 0.753<br>Development Index (Male): 0.795<br>Life Expectancy (Female): 77.1<br>Life Expectancy (Male): 72.4<br>Mean Years of Education (Female): 9.4<br>Mean Years of Education (Male): 10.1<br>Estimated Gross National Income per Capita (Female): 15635<br>Estimated Gross National Income per Capita (Male): 30320<br>",
          "Country: Mauritius<br>Development Index (Female): 0.752<br>Development Index (Male): 0.792<br>Life Expectancy (Female): 78<br>Life Expectancy (Male): 70.9<br>Mean Years of Education (Female): 8<br>Mean Years of Education (Male): 9.1<br>Estimated Gross National Income per Capita (Female): 10541<br>Estimated Gross National Income per Capita (Male): 24581<br>",
          "Country: Seychelles<br>Development Index (Female): ..<br>Development Index (Male): ..<br>Life Expectancy (Female): 78.1<br>Life Expectancy (Male): 68.9<br>Mean Years of Education (Female): ..<br>Mean Years of Education (Male): ..<br>Estimated Gross National Income per Capita (Female): ..<br>Estimated Gross National Income per Capita (Male): ..<br>",
          "Country: Trinidad and Tobago<br>Development Index (Female): 0.763<br>Development Index (Male): 0.774<br>Life Expectancy (Female): 74<br>Life Expectancy (Male): 67<br>Mean Years of Education (Female): 10.7<br>Mean Years of Education (Male): 10.9<br>Estimated Gross National Income per Capita (Female): 19669<br>Estimated Gross National Income per Capita (Male): 32656<br>",
          "Country: Serbia<br>Development Index (Female): 0.757<br>Development Index (Male): 0.784<br>Life Expectancy (Female): 77.7<br>Life Expectancy (Male): 72.1<br>Mean Years of Education (Female): 9.8<br>Mean Years of Education (Male): 11.2<br>Estimated Gross National Income per Capita (Female): 9697<br>Estimated Gross National Income per Capita (Male): 14799<br>",
          "Country: Cuba<br>Development Index (Female): 0.747<br>Development Index (Male): 0.783<br>Life Expectancy (Female): 81.5<br>Life Expectancy (Male): 77.4<br>Mean Years of Education (Female): 11.4<br>Mean Years of Education (Male): 11.6<br>Estimated Gross National Income per Capita (Female): 4912<br>Estimated Gross National Income per Capita (Male): 9665<br>",
          "Country: Lebanon<br>Development Index (Female): 0.718<br>Development Index (Male): 0.8<br>Life Expectancy (Female): 81.3<br>Life Expectancy (Male): 77.6<br>Mean Years of Education (Female): 7.6<br>Mean Years of Education (Male): 8.2<br>Estimated Gross National Income per Capita (Female): 7334<br>Estimated Gross National Income per Capita (Male): 25391<br>",
          "Country: Costa Rica<br>Development Index (Female): 0.753<br>Development Index (Male): 0.774<br>Life Expectancy (Female): 81.9<br>Life Expectancy (Male): 77<br>Mean Years of Education (Female): 8.4<br>Mean Years of Education (Male): 8.3<br>Estimated Gross National Income per Capita (Female): 9680<br>Estimated Gross National Income per Capita (Male): 17033<br>",
          "Country: Iran (Islamic Republic of)<br>Development Index (Female): 0.689<br>Development Index (Male): 0.804<br>Life Expectancy (Female): 76.5<br>Life Expectancy (Male): 74.3<br>Mean Years of Education (Female): 7.7<br>Mean Years of Education (Male): 8.6<br>Estimated Gross National Income per Capita (Female): 4828<br>Estimated Gross National Income per Capita (Male): 25924<br>",
          "Country: Venezuela (Bolivarian Republic of)<br>Development Index (Female): 0.772<br>Development Index (Male): 0.749<br>Life Expectancy (Female): 78.5<br>Life Expectancy (Male): 70.2<br>Mean Years of Education (Female): 9.2<br>Mean Years of Education (Male): 8.6<br>Estimated Gross National Income per Capita (Female): 12458<br>Estimated Gross National Income per Capita (Male): 19840<br>",
          "Country: Turkey<br>Development Index (Female): 0.716<br>Development Index (Male): 0.793<br>Life Expectancy (Female): 78.5<br>Life Expectancy (Male): 72<br>Mean Years of Education (Female): 6.7<br>Mean Years of Education (Male): 8.5<br>Estimated Gross National Income per Capita (Female): 10024<br>Estimated Gross National Income per Capita (Male): 27645<br>",
          "Country: Sri Lanka<br>Development Index (Female): 0.73<br>Development Index (Male): 0.769<br>Life Expectancy (Female): 78.2<br>Life Expectancy (Male): 71.5<br>Mean Years of Education (Female): 10.7<br>Mean Years of Education (Male): 10.9<br>Estimated Gross National Income per Capita (Female): 5452<br>Estimated Gross National Income per Capita (Male): 14307<br>",
          "Country: Mexico<br>Development Index (Female): 0.731<br>Development Index (Male): 0.775<br>Life Expectancy (Female): 79.2<br>Life Expectancy (Male): 74.4<br>Mean Years of Education (Female): 8.2<br>Mean Years of Education (Male): 8.8<br>Estimated Gross National Income per Capita (Female): 10233<br>Estimated Gross National Income per Capita (Male): 22252<br>",
          "Country: Brazil<br>Development Index (Female): 0.752<br>Development Index (Male): 0.754<br>Life Expectancy (Female): 78.3<br>Life Expectancy (Male): 70.7<br>Mean Years of Education (Female): 7.8<br>Mean Years of Education (Male): 7.5<br>Estimated Gross National Income per Capita (Female): 11393<br>Estimated Gross National Income per Capita (Male): 19084<br>",
          "Country: Georgia<br>Development Index (Female): 0.736<br>Development Index (Male): 0.765<br>Life Expectancy (Female): 78.4<br>Life Expectancy (Male): 71.2<br>Mean Years of Education (Female): 12<br>Mean Years of Education (Male): 12.3<br>Estimated Gross National Income per Capita (Female): 4887<br>Estimated Gross National Income per Capita (Male): 9718<br>",
          "Country: Saint Kitts and Nevis<br>Development Index (Female): ..<br>Development Index (Male): ..<br>Life Expectancy (Female): ..<br>Life Expectancy (Male): ..<br>Mean Years of Education (Female): ..<br>Mean Years of Education (Male): ..<br>Estimated Gross National Income per Capita (Female): ..<br>Estimated Gross National Income per Capita (Male): ..<br>",
          "Country: Azerbaijan<br>Development Index (Female): 0.721<br>Development Index (Male): 0.766<br>Life Expectancy (Female): 74<br>Life Expectancy (Male): 67.7<br>Mean Years of Education (Female): 10.5<br>Mean Years of Education (Male): 11.2<br>Estimated Gross National Income per Capita (Female): 10120<br>Estimated Gross National Income per Capita (Male): 22814<br>",
          "Country: Grenada<br>Development Index (Female): ..<br>Development Index (Male): ..<br>Life Expectancy (Female): 75.9<br>Life Expectancy (Male): 71<br>Mean Years of Education (Female): ..<br>Mean Years of Education (Male): ..<br>Estimated Gross National Income per Capita (Female): ..<br>Estimated Gross National Income per Capita (Male): ..<br>",
          "Country: Jordan<br>Development Index (Female): 0.674<br>Development Index (Male): 0.784<br>Life Expectancy (Female): 75.8<br>Life Expectancy (Male): 72.4<br>Mean Years of Education (Female): 9.3<br>Mean Years of Education (Male): 10.5<br>Estimated Gross National Income per Capita (Female): 3587<br>Estimated Gross National Income per Capita (Male): 18831<br>",
          "Country: The former Yugoslav Republic of Macedonia<br>Development Index (Female): 0.726<br>Development Index (Male): 0.765<br>Life Expectancy (Female): 77.7<br>Life Expectancy (Male): 73.1<br>Mean Years of Education (Female): 8.7<br>Mean Years of Education (Male): 9.8<br>Estimated Gross National Income per Capita (Female): 8796<br>Estimated Gross National Income per Capita (Male): 14754<br>",
          "Country: Ukraine<br>Development Index (Female): 0.747<br>Development Index (Male): 0.745<br>Life Expectancy (Female): 75.9<br>Life Expectancy (Male): 66<br>Mean Years of Education (Female): 11.3<br>Mean Years of Education (Male): 11.4<br>Estimated Gross National Income per Capita (Female): 6518<br>Estimated Gross National Income per Capita (Male): 10120<br>",
          "Country: Algeria<br>Development Index (Female): 0.637<br>Development Index (Male): 0.761<br>Life Expectancy (Female): 77.2<br>Life Expectancy (Male): 72.5<br>Mean Years of Education (Female): 4.8<br>Mean Years of Education (Male): 7.8<br>Estimated Gross National Income per Capita (Female): 3898<br>Estimated Gross National Income per Capita (Male): 22009<br>",
          "Country: Peru<br>Development Index (Female): 0.712<br>Development Index (Male): 0.752<br>Life Expectancy (Female): 77.2<br>Life Expectancy (Male): 71.9<br>Mean Years of Education (Female): 8.5<br>Mean Years of Education (Male): 9.6<br>Estimated Gross National Income per Capita (Female): 8040<br>Estimated Gross National Income per Capita (Male): 13977<br>",
          "Country: Albania<br>Development Index (Female): 0.711<br>Development Index (Male): 0.75<br>Life Expectancy (Female): 80.4<br>Life Expectancy (Male): 75.4<br>Mean Years of Education (Female): 8.9<br>Mean Years of Education (Male): 9.6<br>Estimated Gross National Income per Capita (Female): 7217<br>Estimated Gross National Income per Capita (Male): 12655<br>",
          "Country: Armenia<br>Development Index (Female): 0.734<br>Development Index (Male): 0.728<br>Life Expectancy (Female): 78.6<br>Life Expectancy (Male): 70.9<br>Mean Years of Education (Female): 10.8<br>Mean Years of Education (Male): 10.9<br>Estimated Gross National Income per Capita (Female): 6042<br>Estimated Gross National Income per Capita (Male): 10089<br>",
          "Country: Bosnia and Herzegovina<br>Development Index (Female): ..<br>Development Index (Male): ..<br>Life Expectancy (Female): 79<br>Life Expectancy (Male): 74<br>Mean Years of Education (Female): 6.6<br>Mean Years of Education (Male): 8.6<br>Estimated Gross National Income per Capita (Female): 6514<br>Estimated Gross National Income per Capita (Male): 12912<br>",
          "Country: Ecuador<br>Development Index (Female): 0.722<br>Development Index (Male): 0.737<br>Life Expectancy (Female): 78.7<br>Life Expectancy (Male): 73.2<br>Mean Years of Education (Female): 7.4<br>Mean Years of Education (Male): 7.6<br>Estimated Gross National Income per Capita (Female): 8487<br>Estimated Gross National Income per Capita (Male): 12723<br>",
          "Country: Saint Lucia<br>Development Index (Female): 0.725<br>Development Index (Male): 0.731<br>Life Expectancy (Female): 77.8<br>Life Expectancy (Male): 72.4<br>Mean Years of Education (Female): 9.4<br>Mean Years of Education (Male): 9.3<br>Estimated Gross National Income per Capita (Female): 8018<br>Estimated Gross National Income per Capita (Male): 11576<br>",
          "Country: China<br>Development Index (Female): 0.705<br>Development Index (Male): 0.747<br>Life Expectancy (Female): 77.3<br>Life Expectancy (Male): 74.3<br>Mean Years of Education (Female): 6.9<br>Mean Years of Education (Male): 8.2<br>Estimated Gross National Income per Capita (Female): 10128<br>Estimated Gross National Income per Capita (Male): 14795<br>",
          "Country: Fiji<br>Development Index (Female): 0.699<br>Development Index (Male): 0.743<br>Life Expectancy (Female): 73.2<br>Life Expectancy (Male): 67.2<br>Mean Years of Education (Female): 9.8<br>Mean Years of Education (Male): 10<br>Estimated Gross National Income per Capita (Female): 4274<br>Estimated Gross National Income per Capita (Male): 10592<br>",
          "Country: Mongolia<br>Development Index (Female): 0.737<br>Development Index (Male): 0.716<br>Life Expectancy (Female): 73.9<br>Life Expectancy (Male): 65.3<br>Mean Years of Education (Female): 9.5<br>Mean Years of Education (Male): 9<br>Estimated Gross National Income per Capita (Female): 9029<br>Estimated Gross National Income per Capita (Male): 12462<br>",
          "Country: Thailand<br>Development Index (Female): 0.726<br>Development Index (Male): 0.726<br>Life Expectancy (Female): 77.9<br>Life Expectancy (Male): 71.1<br>Mean Years of Education (Female): 7.1<br>Mean Years of Education (Male): 7.5<br>Estimated Gross National Income per Capita (Female): 11820<br>Estimated Gross National Income per Capita (Male): 14888<br>",
          "Country: Dominica<br>Development Index (Female): ..<br>Development Index (Male): ..<br>Life Expectancy (Female): ..<br>Life Expectancy (Male): ..<br>Mean Years of Education (Female): ..<br>Mean Years of Education (Male): ..<br>Estimated Gross National Income per Capita (Female): ..<br>Estimated Gross National Income per Capita (Male): ..<br>",
          "Country: Libya<br>Development Index (Female): 0.699<br>Development Index (Male): 0.736<br>Life Expectancy (Female): 74.6<br>Life Expectancy (Male): 68.9<br>Mean Years of Education (Female): 7.7<br>Mean Years of Education (Male): 7<br>Estimated Gross National Income per Capita (Female): 7427<br>Estimated Gross National Income per Capita (Male): 22392<br>",
          "Country: Tunisia<br>Development Index (Female): 0.671<br>Development Index (Male): 0.751<br>Life Expectancy (Female): 77.3<br>Life Expectancy (Male): 72.5<br>Mean Years of Education (Female): 5.9<br>Mean Years of Education (Male): 7.8<br>Estimated Gross National Income per Capita (Female): 4748<br>Estimated Gross National Income per Capita (Male): 16159<br>",
          "Country: Colombia<br>Development Index (Female): 0.719<br>Development Index (Male): 0.721<br>Life Expectancy (Female): 77.7<br>Life Expectancy (Male): 70.5<br>Mean Years of Education (Female): 7.4<br>Mean Years of Education (Male): 7.3<br>Estimated Gross National Income per Capita (Female): 9785<br>Estimated Gross National Income per Capita (Male): 14372<br>",
          "Country: Saint Vincent and the Grenadines<br>Development Index (Female): ..<br>Development Index (Male): ..<br>Life Expectancy (Female): 75.1<br>Life Expectancy (Male): 70.9<br>Mean Years of Education (Female): ..<br>Mean Years of Education (Male): ..<br>Estimated Gross National Income per Capita (Female): 7283<br>Estimated Gross National Income per Capita (Male): 12541<br>",
          "Country: Jamaica<br>Development Index (Female): 0.715<br>Development Index (Male): 0.719<br>Life Expectancy (Female): 78.1<br>Life Expectancy (Male): 73.3<br>Mean Years of Education (Female): 10<br>Mean Years of Education (Male): 9.4<br>Estimated Gross National Income per Capita (Female): 5820<br>Estimated Gross National Income per Capita (Male): 9059<br>",
          "Country: Tonga<br>Development Index (Female): 0.704<br>Development Index (Male): 0.727<br>Life Expectancy (Female): 75.8<br>Life Expectancy (Male): 69.9<br>Mean Years of Education (Female): 10.7<br>Mean Years of Education (Male): 10.8<br>Estimated Gross National Income per Capita (Female): 3796<br>Estimated Gross National Income per Capita (Male): 6336<br>",
          "Country: Belize<br>Development Index (Female): 0.696<br>Development Index (Male): 0.727<br>Life Expectancy (Female): 72.9<br>Life Expectancy (Male): 67.4<br>Mean Years of Education (Female): 10.5<br>Mean Years of Education (Male): 10.5<br>Estimated Gross National Income per Capita (Female): 5034<br>Estimated Gross National Income per Capita (Male): 10198<br>",
          "Country: Dominican Republic<br>Development Index (Female): 0.71<br>Development Index (Male): 0.713<br>Life Expectancy (Female): 76.7<br>Life Expectancy (Male): 70.4<br>Mean Years of Education (Female): 7.7<br>Mean Years of Education (Male): 7.2<br>Estimated Gross National Income per Capita (Female): 8860<br>Estimated Gross National Income per Capita (Male): 14903<br>",
          "Country: Suriname<br>Development Index (Female): 0.702<br>Development Index (Male): 0.72<br>Life Expectancy (Female): 74.4<br>Life Expectancy (Male): 68<br>Mean Years of Education (Female): 7.3<br>Mean Years of Education (Male): 8<br>Estimated Gross National Income per Capita (Female): 10241<br>Estimated Gross National Income per Capita (Male): 20970<br>",
          "Country: Maldives<br>Development Index (Female): 0.678<br>Development Index (Male): 0.723<br>Life Expectancy (Female): 77.8<br>Life Expectancy (Male): 75.8<br>Mean Years of Education (Female): 5.7<br>Mean Years of Education (Male): 6<br>Estimated Gross National Income per Capita (Female): 8531<br>Estimated Gross National Income per Capita (Male): 16073<br>",
          "Country: Samoa<br>Development Index (Female): 0.681<br>Development Index (Male): 0.713<br>Life Expectancy (Female): 76.8<br>Life Expectancy (Male): 70.4<br>Mean Years of Education (Female): 10.3<br>Mean Years of Education (Male): 10.3<br>Estimated Gross National Income per Capita (Female): 3416<br>Estimated Gross National Income per Capita (Male): 7124<br>",
          "Country: Botswana<br>Development Index (Female): 0.691<br>Development Index (Male): 0.704<br>Life Expectancy (Female): 66.8<br>Life Expectancy (Male): 62.1<br>Mean Years of Education (Female): 8.7<br>Mean Years of Education (Male): 9.1<br>Estimated Gross National Income per Capita (Female): 15179<br>Estimated Gross National Income per Capita (Male): 18096<br>",
          "Country: Moldova (Republic of)<br>Development Index (Female): 0.694<br>Development Index (Male): 0.692<br>Life Expectancy (Female): 75.7<br>Life Expectancy (Male): 67.4<br>Mean Years of Education (Female): 11.1<br>Mean Years of Education (Male): 11.3<br>Estimated Gross National Income per Capita (Female): 4599<br>Estimated Gross National Income per Capita (Male): 5915<br>",
          "Country: Egypt<br>Development Index (Female): 0.633<br>Development Index (Male): 0.729<br>Life Expectancy (Female): 73.4<br>Life Expectancy (Male): 69<br>Mean Years of Education (Female): 5.4<br>Mean Years of Education (Male): 7.7<br>Estimated Gross National Income per Capita (Female): 4928<br>Estimated Gross National Income per Capita (Male): 16049<br>",
          "Country: Turkmenistan<br>Development Index (Female): ..<br>Development Index (Male): ..<br>Life Expectancy (Female): 69.9<br>Life Expectancy (Male): 61.5<br>Mean Years of Education (Female): ..<br>Mean Years of Education (Male): ..<br>Estimated Gross National Income per Capita (Female): 8725<br>Estimated Gross National Income per Capita (Male): 17552<br>",
          "Country: Gabon<br>Development Index (Female): ..<br>Development Index (Male): ..<br>Life Expectancy (Female): 65<br>Life Expectancy (Male): 63.8<br>Mean Years of Education (Female): 8.9<br>Mean Years of Education (Male): 6.6<br>Estimated Gross National Income per Capita (Female): 13527<br>Estimated Gross National Income per Capita (Male): 19177<br>",
          "Country: Indonesia<br>Development Index (Female): 0.655<br>Development Index (Male): 0.706<br>Life Expectancy (Female): 71<br>Life Expectancy (Male): 66.9<br>Mean Years of Education (Female): 7<br>Mean Years of Education (Male): 8.2<br>Estimated Gross National Income per Capita (Female): 6485<br>Estimated Gross National Income per Capita (Male): 13052<br>",
          "Country: Paraguay<br>Development Index (Female): 0.662<br>Development Index (Male): 0.692<br>Life Expectancy (Female): 75.1<br>Life Expectancy (Male): 70.8<br>Mean Years of Education (Female): 7.5<br>Mean Years of Education (Male): 7.9<br>Estimated Gross National Income per Capita (Female): 5576<br>Estimated Gross National Income per Capita (Male): 9678<br>",
          "Country: Palestine, State of<br>Development Index (Female): 0.607<br>Development Index (Male): 0.706<br>Life Expectancy (Female): 74.9<br>Life Expectancy (Male): 71<br>Mean Years of Education (Female): 8.4<br>Mean Years of Education (Male): 9.3<br>Estimated Gross National Income per Capita (Female): 1580<br>Estimated Gross National Income per Capita (Male): 7726<br>",
          "Country: Uzbekistan<br>Development Index (Female): 0.64<br>Development Index (Male): 0.678<br>Life Expectancy (Female): 71.8<br>Life Expectancy (Male): 65<br>Mean Years of Education (Female): 9.5<br>Mean Years of Education (Male): 9.9<br>Estimated Gross National Income per Capita (Female): 3811<br>Estimated Gross National Income per Capita (Male): 7342<br>",
          "Country: Philippines<br>Development Index (Female): 0.649<br>Development Index (Male): 0.664<br>Life Expectancy (Female): 71.8<br>Life Expectancy (Male): 64.9<br>Mean Years of Education (Female): 8.4<br>Mean Years of Education (Male): 7.9<br>Estimated Gross National Income per Capita (Female): 5382<br>Estimated Gross National Income per Capita (Male): 10439<br>",
          "Country: El Salvador<br>Development Index (Female): 0.652<br>Development Index (Male): 0.676<br>Life Expectancy (Female): 77.4<br>Life Expectancy (Male): 68.3<br>Mean Years of Education (Female): 6.2<br>Mean Years of Education (Male): 6.9<br>Estimated Gross National Income per Capita (Female): 5497<br>Estimated Gross National Income per Capita (Male): 9406<br>",
          "Country: South Africa<br>Development Index (Female): 0.646<br>Development Index (Male): 0.681<br>Life Expectancy (Female): 59.3<br>Life Expectancy (Male): 55.2<br>Mean Years of Education (Female): 9.7<br>Mean Years of Education (Male): 10.2<br>Estimated Gross National Income per Capita (Female): 8713<br>Estimated Gross National Income per Capita (Male): 15737<br>",
          "Country: Viet Nam<br>Development Index (Female): ..<br>Development Index (Male): ..<br>Life Expectancy (Female): 80.5<br>Life Expectancy (Male): 71<br>Mean Years of Education (Female): 7<br>Mean Years of Education (Male): 7.9<br>Estimated Gross National Income per Capita (Female): 4624<br>Estimated Gross National Income per Capita (Male): 5570<br>",
          "Country: Bolivia (Plurinational State of)<br>Development Index (Female): 0.637<br>Development Index (Male): 0.684<br>Life Expectancy (Female): 70.9<br>Life Expectancy (Male): 65.9<br>Mean Years of Education (Female): 7.5<br>Mean Years of Education (Male): 8.9<br>Estimated Gross National Income per Capita (Female): 4383<br>Estimated Gross National Income per Capita (Male): 7140<br>",
          "Country: Kyrgyzstan<br>Development Index (Female): 0.638<br>Development Index (Male): 0.664<br>Life Expectancy (Female): 74.6<br>Life Expectancy (Male): 66.6<br>Mean Years of Education (Female): 10.5<br>Mean Years of Education (Male): 10.6<br>Estimated Gross National Income per Capita (Female): 2122<br>Estimated Gross National Income per Capita (Male): 3992<br>",
          "Country: Iraq<br>Development Index (Female): 0.561<br>Development Index (Male): 0.712<br>Life Expectancy (Female): 71.7<br>Life Expectancy (Male): 67.2<br>Mean Years of Education (Female): 5.1<br>Mean Years of Education (Male): 7.7<br>Estimated Gross National Income per Capita (Female): 4279<br>Estimated Gross National Income per Capita (Male): 23515<br>",
          "Country: Cabo Verde<br>Development Index (Female): ..<br>Development Index (Male): ..<br>Life Expectancy (Female): 75<br>Life Expectancy (Male): 71.4<br>Mean Years of Education (Female): ..<br>Mean Years of Education (Male): ..<br>Estimated Gross National Income per Capita (Female): 4098<br>Estimated Gross National Income per Capita (Male): 8105<br>",
          "Country: Micronesia (Federated States of)<br>Development Index (Female): ..<br>Development Index (Male): ..<br>Life Expectancy (Female): 70.1<br>Life Expectancy (Male): 68.1<br>Mean Years of Education (Female): ..<br>Mean Years of Education (Male): ..<br>Estimated Gross National Income per Capita (Female): ..<br>Estimated Gross National Income per Capita (Male): ..<br>",
          "Country: Guyana<br>Development Index (Female): 0.626<br>Development Index (Male): 0.636<br>Life Expectancy (Female): 68.8<br>Life Expectancy (Male): 64.2<br>Mean Years of Education (Female): 8.9<br>Mean Years of Education (Male): 8<br>Estimated Gross National Income per Capita (Female): 4164<br>Estimated Gross National Income per Capita (Male): 8804<br>",
          "Country: Nicaragua<br>Development Index (Female): 0.615<br>Development Index (Male): 0.64<br>Life Expectancy (Female): 77.9<br>Life Expectancy (Male): 71.9<br>Mean Years of Education (Female): 6.2<br>Mean Years of Education (Male): 5.8<br>Estimated Gross National Income per Capita (Female): 2967<br>Estimated Gross National Income per Capita (Male): 5979<br>",
          "Country: Morocco<br>Development Index (Female): 0.555<br>Development Index (Male): 0.67<br>Life Expectancy (Female): 75.1<br>Life Expectancy (Male): 73<br>Mean Years of Education (Female): 3.2<br>Mean Years of Education (Male): 5.3<br>Estimated Gross National Income per Capita (Female): 3222<br>Estimated Gross National Income per Capita (Male): 10573<br>",
          "Country: Namibia<br>Development Index (Female): 0.62<br>Development Index (Male): 0.632<br>Life Expectancy (Female): 67.3<br>Life Expectancy (Male): 62.1<br>Mean Years of Education (Female): 6.3<br>Mean Years of Education (Male): 6.1<br>Estimated Gross National Income per Capita (Female): 7672<br>Estimated Gross National Income per Capita (Male): 11267<br>",
          "Country: Guatemala<br>Development Index (Female): 0.608<br>Development Index (Male): 0.641<br>Life Expectancy (Female): 75.3<br>Life Expectancy (Male): 68.3<br>Mean Years of Education (Female): 5.5<br>Mean Years of Education (Male): 5.7<br>Estimated Gross National Income per Capita (Female): 5021<br>Estimated Gross National Income per Capita (Male): 8934<br>",
          "Country: Tajikistan<br>Development Index (Female): 0.6<br>Development Index (Male): 0.648<br>Life Expectancy (Female): 73.2<br>Life Expectancy (Male): 66.2<br>Mean Years of Education (Female): 9.6<br>Mean Years of Education (Male): 11.2<br>Estimated Gross National Income per Capita (Female): 2014<br>Estimated Gross National Income per Capita (Male): 3017<br>",
          "Country: India<br>Development Index (Female): 0.525<br>Development Index (Male): 0.66<br>Life Expectancy (Female): 69.5<br>Life Expectancy (Male): 66.6<br>Mean Years of Education (Female): 3.6<br>Mean Years of Education (Male): 7.2<br>Estimated Gross National Income per Capita (Female): 2116<br>Estimated Gross National Income per Capita (Male): 8656<br>",
          "Country: Honduras<br>Development Index (Female): 0.583<br>Development Index (Male): 0.618<br>Life Expectancy (Female): 75.7<br>Life Expectancy (Male): 70.7<br>Mean Years of Education (Female): 5.5<br>Mean Years of Education (Male): 5.4<br>Estimated Gross National Income per Capita (Female): 2365<br>Estimated Gross National Income per Capita (Male): 5508<br>",
          "Country: Bhutan<br>Development Index (Female): 0.572<br>Development Index (Male): 0.638<br>Life Expectancy (Female): 69.7<br>Life Expectancy (Male): 69.2<br>Mean Years of Education (Female): 2<br>Mean Years of Education (Male): 4.1<br>Estimated Gross National Income per Capita (Female): 5733<br>Estimated Gross National Income per Capita (Male): 8418<br>",
          "Country: Timor-Leste<br>Development Index (Female): 0.548<br>Development Index (Male): 0.631<br>Life Expectancy (Female): 70.1<br>Life Expectancy (Male): 66.5<br>Mean Years of Education (Female): 3.6<br>Mean Years of Education (Male): 5.3<br>Estimated Gross National Income per Capita (Female): 3122<br>Estimated Gross National Income per Capita (Male): 7530<br>",
          "Country: Syrian Arab Republic<br>Development Index (Female): 0.52<br>Development Index (Male): 0.623<br>Life Expectancy (Female): 76.5<br>Life Expectancy (Male): 64<br>Mean Years of Education (Female): 5.4<br>Mean Years of Education (Male): 7.4<br>Estimated Gross National Income per Capita (Female): 864<br>Estimated Gross National Income per Capita (Male): 4523<br>",
          "Country: Vanuatu<br>Development Index (Female): 0.587<br>Development Index (Male): 0.65<br>Life Expectancy (Female): 74<br>Life Expectancy (Male): 69.9<br>Mean Years of Education (Female): 8<br>Mean Years of Education (Male): 10<br>Estimated Gross National Income per Capita (Female): 2141<br>Estimated Gross National Income per Capita (Male): 3445<br>",
          "Country: Congo<br>Development Index (Female): 0.561<br>Development Index (Male): 0.609<br>Life Expectancy (Female): 63.9<br>Life Expectancy (Male): 60.8<br>Mean Years of Education (Female): 4.9<br>Mean Years of Education (Male): 6.5<br>Estimated Gross National Income per Capita (Female): 5165<br>Estimated Gross National Income per Capita (Male): 6859<br>",
          "Country: Kiribati<br>Development Index (Female): ..<br>Development Index (Male): ..<br>Life Expectancy (Female): 69.2<br>Life Expectancy (Male): 62.8<br>Mean Years of Education (Female): ..<br>Mean Years of Education (Male): ..<br>Estimated Gross National Income per Capita (Female): ..<br>Estimated Gross National Income per Capita (Male): ..<br>",
          "Country: Equatorial Guinea<br>Development Index (Female): ..<br>Development Index (Male): ..<br>Life Expectancy (Female): 59<br>Life Expectancy (Male): 56.3<br>Mean Years of Education (Female): 4<br>Mean Years of Education (Male): 7.2<br>Estimated Gross National Income per Capita (Female): 17073<br>Estimated Gross National Income per Capita (Male): 24850<br>",
          "Country: Zambia<br>Development Index (Female): 0.558<br>Development Index (Male): 0.609<br>Life Expectancy (Female): 62<br>Life Expectancy (Male): 58.2<br>Mean Years of Education (Female): 5.8<br>Mean Years of Education (Male): 7.3<br>Estimated Gross National Income per Capita (Female): 3019<br>Estimated Gross National Income per Capita (Male): 4452<br>",
          "Country: Ghana<br>Development Index (Female): 0.54<br>Development Index (Male): 0.61<br>Life Expectancy (Female): 62.3<br>Life Expectancy (Male): 60.4<br>Mean Years of Education (Female): 5.6<br>Mean Years of Education (Male): 7.9<br>Estimated Gross National Income per Capita (Female): 3200<br>Estimated Gross National Income per Capita (Male): 4515<br>",
          "Country: Lao People's Democratic Republic<br>Development Index (Female): 0.543<br>Development Index (Male): 0.606<br>Life Expectancy (Female): 67.5<br>Life Expectancy (Male): 64.8<br>Mean Years of Education (Female): 3.9<br>Mean Years of Education (Male): 6.1<br>Estimated Gross National Income per Capita (Female): 4086<br>Estimated Gross National Income per Capita (Male): 5279<br>",
          "Country: Bangladesh<br>Development Index (Female): 0.541<br>Development Index (Male): 0.59<br>Life Expectancy (Female): 72.9<br>Life Expectancy (Male): 70.4<br>Mean Years of Education (Female): 4.5<br>Mean Years of Education (Male): 5.5<br>Estimated Gross National Income per Capita (Female): 2278<br>Estimated Gross National Income per Capita (Male): 4083<br>",
          "Country: Cambodia<br>Development Index (Female): 0.519<br>Development Index (Male): 0.584<br>Life Expectancy (Female): 70.3<br>Life Expectancy (Male): 66.2<br>Mean Years of Education (Female): 3.2<br>Mean Years of Education (Male): 5.4<br>Estimated Gross National Income per Capita (Female): 2526<br>Estimated Gross National Income per Capita (Male): 3393<br>",
          "Country: Sao Tome and Principe<br>Development Index (Female): 0.52<br>Development Index (Male): 0.584<br>Life Expectancy (Female): 68.4<br>Life Expectancy (Male): 64.4<br>Mean Years of Education (Female): 4<br>Mean Years of Education (Male): 5.5<br>Estimated Gross National Income per Capita (Female): 1886<br>Estimated Gross National Income per Capita (Male): 3976<br>",
          "Country: Kenya<br>Development Index (Female): 0.527<br>Development Index (Male): 0.577<br>Life Expectancy (Female): 63.4<br>Life Expectancy (Male): 59.9<br>Mean Years of Education (Female): 5.9<br>Mean Years of Education (Male): 7.3<br>Estimated Gross National Income per Capita (Female): 2255<br>Estimated Gross National Income per Capita (Male): 3270<br>",
          "Country: Nepal<br>Development Index (Female): 0.521<br>Development Index (Male): 0.574<br>Life Expectancy (Female): 71.1<br>Life Expectancy (Male): 68.2<br>Mean Years of Education (Female): 2.3<br>Mean Years of Education (Male): 4.5<br>Estimated Gross National Income per Capita (Female): 1956<br>Estimated Gross National Income per Capita (Male): 2690<br>",
          "Country: Pakistan<br>Development Index (Female): 0.436<br>Development Index (Male): 0.601<br>Life Expectancy (Female): 67.2<br>Life Expectancy (Male): 65.3<br>Mean Years of Education (Female): 3.1<br>Mean Years of Education (Male): 6.2<br>Estimated Gross National Income per Capita (Female): 1450<br>Estimated Gross National Income per Capita (Male): 8100<br>",
          "Country: Myanmar<br>Development Index (Female): ..<br>Development Index (Male): ..<br>Life Expectancy (Female): 68<br>Life Expectancy (Male): 63.9<br>Mean Years of Education (Female): 4.3<br>Mean Years of Education (Male): 3.8<br>Estimated Gross National Income per Capita (Female): 3873<br>Estimated Gross National Income per Capita (Male): 5386<br>",
          "Country: Angola<br>Development Index (Female): ..<br>Development Index (Male): ..<br>Life Expectancy (Female): 53.8<br>Life Expectancy (Male): 50.8<br>Mean Years of Education (Female): ..<br>Mean Years of Education (Male): ..<br>Estimated Gross National Income per Capita (Female): 5497<br>Estimated Gross National Income per Capita (Male): 8169<br>",
          "Country: Swaziland<br>Development Index (Female): 0.494<br>Development Index (Male): 0.561<br>Life Expectancy (Female): 48.2<br>Life Expectancy (Male): 49.6<br>Mean Years of Education (Female): 7.4<br>Mean Years of Education (Male): 6.8<br>Estimated Gross National Income per Capita (Female): 3894<br>Estimated Gross National Income per Capita (Male): 7235<br>",
          "Country: Tanzania (United Republic of)<br>Development Index (Female): 0.504<br>Development Index (Male): 0.538<br>Life Expectancy (Female): 66.4<br>Life Expectancy (Male): 63.5<br>Mean Years of Education (Female): 4.5<br>Mean Years of Education (Male): 5.8<br>Estimated Gross National Income per Capita (Female): 2320<br>Estimated Gross National Income per Capita (Male): 2502<br>",
          "Country: Nigeria<br>Development Index (Female): 0.468<br>Development Index (Male): 0.556<br>Life Expectancy (Female): 53.1<br>Life Expectancy (Male): 52.4<br>Mean Years of Education (Female): 4.9<br>Mean Years of Education (Male): 7.1<br>Estimated Gross National Income per Capita (Female): 4052<br>Estimated Gross National Income per Capita (Male): 6585<br>",
          "Country: Cameroon<br>Development Index (Female): 0.478<br>Development Index (Male): 0.544<br>Life Expectancy (Female): 56.7<br>Life Expectancy (Male): 54.4<br>Mean Years of Education (Female): 5.3<br>Mean Years of Education (Male): 6.7<br>Estimated Gross National Income per Capita (Female): 2266<br>Estimated Gross National Income per Capita (Male): 3341<br>",
          "Country: Madagascar<br>Development Index (Female): 0.497<br>Development Index (Male): 0.526<br>Life Expectancy (Female): 66.6<br>Life Expectancy (Male): 63.6<br>Mean Years of Education (Female): 6.6<br>Mean Years of Education (Male): 6.1<br>Estimated Gross National Income per Capita (Female): 1098<br>Estimated Gross National Income per Capita (Male): 1560<br>",
          "Country: Zimbabwe<br>Development Index (Female): 0.487<br>Development Index (Male): 0.529<br>Life Expectancy (Female): 58.9<br>Life Expectancy (Male): 56.2<br>Mean Years of Education (Female): 6.7<br>Mean Years of Education (Male): 7.7<br>Estimated Gross National Income per Capita (Female): 1387<br>Estimated Gross National Income per Capita (Male): 1850<br>",
          "Country: Mauritania<br>Development Index (Female): 0.446<br>Development Index (Male): 0.546<br>Life Expectancy (Female): 64.5<br>Life Expectancy (Male): 61.6<br>Mean Years of Education (Female): 2.7<br>Mean Years of Education (Male): 4.8<br>Estimated Gross National Income per Capita (Female): 1625<br>Estimated Gross National Income per Capita (Male): 5468<br>",
          "Country: Solomon Islands<br>Development Index (Female): ..<br>Development Index (Male): ..<br>Life Expectancy (Female): 69.4<br>Life Expectancy (Male): 66.5<br>Mean Years of Education (Female): ..<br>Mean Years of Education (Male): ..<br>Estimated Gross National Income per Capita (Female): 1046<br>Estimated Gross National Income per Capita (Male): 2019<br>",
          "Country: Papua New Guinea<br>Development Index (Female): ..<br>Development Index (Male): ..<br>Life Expectancy (Female): 64.8<br>Life Expectancy (Male): 60.5<br>Mean Years of Education (Female): 3.2<br>Mean Years of Education (Male): 4.8<br>Estimated Gross National Income per Capita (Female): 2145<br>Estimated Gross National Income per Capita (Male): 2768<br>",
          "Country: Comoros<br>Development Index (Female): 0.443<br>Development Index (Male): 0.545<br>Life Expectancy (Female): 65<br>Life Expectancy (Male): 61.6<br>Mean Years of Education (Female): 3.7<br>Mean Years of Education (Male): 5.6<br>Estimated Gross National Income per Capita (Female): 778<br>Estimated Gross National Income per Capita (Male): 2123<br>",
          "Country: Yemen<br>Development Index (Female): 0.414<br>Development Index (Male): 0.56<br>Life Expectancy (Female): 65.2<br>Life Expectancy (Male): 62.5<br>Mean Years of Education (Female): 1.3<br>Mean Years of Education (Male): 3.8<br>Estimated Gross National Income per Capita (Female): 1595<br>Estimated Gross National Income per Capita (Male): 5412<br>",
          "Country: Lesotho<br>Development Index (Female): 0.482<br>Development Index (Male): 0.505<br>Life Expectancy (Female): 49.8<br>Life Expectancy (Male): 49.6<br>Mean Years of Education (Female): 6.5<br>Mean Years of Education (Male): 5.2<br>Estimated Gross National Income per Capita (Female): 2613<br>Estimated Gross National Income per Capita (Male): 4017<br>",
          "Country: Togo<br>Development Index (Female): 0.439<br>Development Index (Male): 0.527<br>Life Expectancy (Female): 60.4<br>Life Expectancy (Male): 58.9<br>Mean Years of Education (Female): 3<br>Mean Years of Education (Male): 6.3<br>Estimated Gross National Income per Capita (Female): 1084<br>Estimated Gross National Income per Capita (Male): 1376<br>",
          "Country: Haiti<br>Development Index (Female): ..<br>Development Index (Male): ..<br>Life Expectancy (Female): 64.9<br>Life Expectancy (Male): 60.7<br>Mean Years of Education (Female): 4.2<br>Mean Years of Education (Male): 5.6<br>Estimated Gross National Income per Capita (Female): 1379<br>Estimated Gross National Income per Capita (Male): 1966<br>",
          "Country: Rwanda<br>Development Index (Female): 0.472<br>Development Index (Male): 0.493<br>Life Expectancy (Female): 67<br>Life Expectancy (Male): 61.1<br>Mean Years of Education (Female): 3.2<br>Mean Years of Education (Male): 4.3<br>Estimated Gross National Income per Capita (Female): 1312<br>Estimated Gross National Income per Capita (Male): 1612<br>",
          "Country: Uganda<br>Development Index (Female): 0.452<br>Development Index (Male): 0.51<br>Life Expectancy (Female): 60.3<br>Life Expectancy (Male): 56.7<br>Mean Years of Education (Female): 4.5<br>Mean Years of Education (Male): 6.3<br>Estimated Gross National Income per Capita (Female): 1226<br>Estimated Gross National Income per Capita (Male): 1997<br>",
          "Country: Benin<br>Development Index (Female): 0.431<br>Development Index (Male): 0.524<br>Life Expectancy (Female): 61<br>Life Expectancy (Male): 58.1<br>Mean Years of Education (Female): 2.1<br>Mean Years of Education (Male): 4.6<br>Estimated Gross National Income per Capita (Female): 1493<br>Estimated Gross National Income per Capita (Male): 2043<br>",
          "Country: Sudan<br>Development Index (Female): 0.428<br>Development Index (Male): 0.516<br>Life Expectancy (Female): 65<br>Life Expectancy (Male): 62<br>Mean Years of Education (Female): 2.5<br>Mean Years of Education (Male): 3.8<br>Estimated Gross National Income per Capita (Female): 1882<br>Estimated Gross National Income per Capita (Male): 5722<br>",
          "Country: Djibouti<br>Development Index (Female): ..<br>Development Index (Male): ..<br>Life Expectancy (Female): 63.7<br>Life Expectancy (Male): 60.4<br>Mean Years of Education (Female): ..<br>Mean Years of Education (Male): ..<br>Estimated Gross National Income per Capita (Female): 2019<br>Estimated Gross National Income per Capita (Male): 4522<br>",
          "Country: South Sudan<br>Development Index (Female): ..<br>Development Index (Male): ..<br>Life Expectancy (Female): 56.7<br>Life Expectancy (Male): 54.7<br>Mean Years of Education (Female): 4.5<br>Mean Years of Education (Male): 5.8<br>Estimated Gross National Income per Capita (Female): ..<br>Estimated Gross National Income per Capita (Male): ..<br>",
          "Country: Senegal<br>Development Index (Female): 0.436<br>Development Index (Male): 0.494<br>Life Expectancy (Female): 68.3<br>Life Expectancy (Male): 64.5<br>Mean Years of Education (Female): 1.8<br>Mean Years of Education (Male): 3.2<br>Estimated Gross National Income per Capita (Female): 1657<br>Estimated Gross National Income per Capita (Male): 2739<br>",
          "Country: Afghanistan<br>Development Index (Female): 0.328<br>Development Index (Male): 0.546<br>Life Expectancy (Female): 61.6<br>Life Expectancy (Male): 59.2<br>Mean Years of Education (Female): 1.2<br>Mean Years of Education (Male): 5.1<br>Estimated Gross National Income per Capita (Female): 506<br>Estimated Gross National Income per Capita (Male): 3227<br>",
          "Country: Côte d'Ivoire<br>Development Index (Female): 0.41<br>Development Index (Male): 0.507<br>Life Expectancy (Female): 52.4<br>Life Expectancy (Male): 50.7<br>Mean Years of Education (Female): 3.2<br>Mean Years of Education (Male): 5.3<br>Estimated Gross National Income per Capita (Female): 2146<br>Estimated Gross National Income per Capita (Male): 4157<br>",
          "Country: Malawi<br>Development Index (Female): 0.423<br>Development Index (Male): 0.467<br>Life Expectancy (Female): 63.7<br>Life Expectancy (Male): 61.7<br>Mean Years of Education (Female): 3.4<br>Mean Years of Education (Male): 5.2<br>Estimated Gross National Income per Capita (Female): 679<br>Estimated Gross National Income per Capita (Male): 815<br>",
          "Country: Ethiopia<br>Development Index (Female): 0.403<br>Development Index (Male): 0.479<br>Life Expectancy (Female): 66<br>Life Expectancy (Male): 62.2<br>Mean Years of Education (Female): 1.4<br>Mean Years of Education (Male): 3.6<br>Estimated Gross National Income per Capita (Female): 1090<br>Estimated Gross National Income per Capita (Male): 1765<br>",
          "Country: Gambia<br>Development Index (Female): 0.414<br>Development Index (Male): 0.466<br>Life Expectancy (Female): 61.6<br>Life Expectancy (Male): 58.9<br>Mean Years of Education (Female): 2<br>Mean Years of Education (Male): 3.7<br>Estimated Gross National Income per Capita (Female): 1267<br>Estimated Gross National Income per Capita (Male): 1753<br>",
          "Country: Congo (Democratic Republic of the)<br>Development Index (Female): 0.393<br>Development Index (Male): 0.472<br>Life Expectancy (Female): 60.1<br>Life Expectancy (Male): 57.2<br>Mean Years of Education (Female): 4.5<br>Mean Years of Education (Male): 7.7<br>Estimated Gross National Income per Capita (Female): 597<br>Estimated Gross National Income per Capita (Male): 765<br>",
          "Country: Liberia<br>Development Index (Female): 0.387<br>Development Index (Male): 0.491<br>Life Expectancy (Female): 61.8<br>Life Expectancy (Male): 59.9<br>Mean Years of Education (Female): 2.6<br>Mean Years of Education (Male): 5.8<br>Estimated Gross National Income per Capita (Female): 678<br>Estimated Gross National Income per Capita (Male): 930<br>",
          "Country: Guinea-Bissau<br>Development Index (Female): ..<br>Development Index (Male): ..<br>Life Expectancy (Female): 57<br>Life Expectancy (Male): 53.4<br>Mean Years of Education (Female): ..<br>Mean Years of Education (Male): ..<br>Estimated Gross National Income per Capita (Female): 1135<br>Estimated Gross National Income per Capita (Male): 1593<br>",
          "Country: Mali<br>Development Index (Female): 0.363<br>Development Index (Male): 0.468<br>Life Expectancy (Female): 57.8<br>Life Expectancy (Male): 58.2<br>Mean Years of Education (Female): 1.5<br>Mean Years of Education (Male): 2.7<br>Estimated Gross National Income per Capita (Female): 961<br>Estimated Gross National Income per Capita (Male): 2195<br>",
          "Country: Mozambique<br>Development Index (Female): 0.39<br>Development Index (Male): 0.443<br>Life Expectancy (Female): 56.5<br>Life Expectancy (Male): 53.6<br>Mean Years of Education (Female): 2.4<br>Mean Years of Education (Male): 4.3<br>Estimated Gross National Income per Capita (Female): 1040<br>Estimated Gross National Income per Capita (Male): 1210<br>",
          "Country: Sierra Leone<br>Development Index (Female): 0.37<br>Development Index (Male): 0.454<br>Life Expectancy (Female): 51.4<br>Life Expectancy (Male): 50.4<br>Mean Years of Education (Female): 2.2<br>Mean Years of Education (Male): 4<br>Estimated Gross National Income per Capita (Female): 1582<br>Estimated Gross National Income per Capita (Male): 1981<br>",
          "Country: Guinea<br>Development Index (Female): 0.358<br>Development Index (Male): 0.46<br>Life Expectancy (Female): 59.2<br>Life Expectancy (Male): 58.3<br>Mean Years of Education (Female): 1.4<br>Mean Years of Education (Male): 3.7<br>Estimated Gross National Income per Capita (Female): 877<br>Estimated Gross National Income per Capita (Male): 1314<br>",
          "Country: Burkina Faso<br>Development Index (Female): 0.376<br>Development Index (Male): 0.427<br>Life Expectancy (Female): 59.9<br>Life Expectancy (Male): 57.3<br>Mean Years of Education (Female): 1<br>Mean Years of Education (Male): 1.9<br>Estimated Gross National Income per Capita (Female): 1325<br>Estimated Gross National Income per Capita (Male): 1859<br>",
          "Country: Burundi<br>Development Index (Female): 0.381<br>Development Index (Male): 0.418<br>Life Expectancy (Female): 58.7<br>Life Expectancy (Male): 54.8<br>Mean Years of Education (Female): 2.2<br>Mean Years of Education (Male): 3.1<br>Estimated Gross National Income per Capita (Female): 693<br>Estimated Gross National Income per Capita (Male): 825<br>",
          "Country: Chad<br>Development Index (Female): 0.338<br>Development Index (Male): 0.44<br>Life Expectancy (Female): 52.7<br>Life Expectancy (Male): 50.5<br>Mean Years of Education (Female): 1<br>Mean Years of Education (Male): 2.9<br>Estimated Gross National Income per Capita (Female): 1657<br>Estimated Gross National Income per Capita (Male): 2513<br>",
          "Country: Eritrea<br>Development Index (Female): ..<br>Development Index (Male): ..<br>Life Expectancy (Female): 65.9<br>Life Expectancy (Male): 61.6<br>Mean Years of Education (Female): ..<br>Mean Years of Education (Male): ..<br>Estimated Gross National Income per Capita (Female): 971<br>Estimated Gross National Income per Capita (Male): 1290<br>",
          "Country: Central African Republic<br>Development Index (Female): 0.303<br>Development Index (Male): 0.392<br>Life Expectancy (Female): 52.6<br>Life Expectancy (Male): 48.8<br>Mean Years of Education (Female): 2.8<br>Mean Years of Education (Male): 5.7<br>Estimated Gross National Income per Capita (Female): 476<br>Estimated Gross National Income per Capita (Male): 689<br>",
          "Country: Niger<br>Development Index (Female): 0.287<br>Development Index (Male): 0.394<br>Life Expectancy (Female): 62.4<br>Life Expectancy (Male): 60.6<br>Mean Years of Education (Female): 0.8<br>Mean Years of Education (Male): 2<br>Estimated Gross National Income per Capita (Female): 491<br>Estimated Gross National Income per Capita (Male): 1319<br>",
          "Country: Arab States<br>Development Index (Female): 0.611<br>Development Index (Male): 0.719<br>Life Expectancy (Female): 72.7<br>Life Expectancy (Male): 68.8<br>Mean Years of Education (Female): 4.9<br>Mean Years of Education (Male): 6.9<br>Estimated Gross National Income per Capita (Female): 5686<br>Estimated Gross National Income per Capita (Male): 24985<br>",
          "Country: East Asia and the Pacific<br>Development Index (Female): 0.692<br>Development Index (Male): 0.73<br>Life Expectancy (Female): 76<br>Life Expectancy (Male): 72.2<br>Mean Years of Education (Female): 6.9<br>Mean Years of Education (Male): 8<br>Estimated Gross National Income per Capita (Female): 9017<br>Estimated Gross National Income per Capita (Male): 13780<br>",
          "Country: Europe and Central Asia<br>Development Index (Female): 0.719<br>Development Index (Male): 0.76<br>Life Expectancy (Female): 76.1<br>Life Expectancy (Male): 68.5<br>Mean Years of Education (Female): 9<br>Mean Years of Education (Male): 10<br>Estimated Gross National Income per Capita (Female): 8238<br>Estimated Gross National Income per Capita (Male): 17607<br>",
          "Country: Latin America and the Caribbean<br>Development Index (Female): 0.736<br>Development Index (Male): 0.754<br>Life Expectancy (Female): 78.2<br>Life Expectancy (Male): 71.7<br>Mean Years of Education (Female): 8<br>Mean Years of Education (Male): 8.1<br>Estimated Gross National Income per Capita (Female): 10194<br>Estimated Gross National Income per Capita (Male): 18435<br>",
          "Country: South Asia<br>Development Index (Female): 0.525<br>Development Index (Male): 0.655<br>Life Expectancy (Female): 69.9<br>Life Expectancy (Male): 67.1<br>Mean Years of Education (Female): 3.7<br>Mean Years of Education (Male): 6.9<br>Estimated Gross National Income per Capita (Female): 2198<br>Estimated Gross National Income per Capita (Male): 8827<br>",
          "Country: Sub-Saharan Africa<br>Development Index (Female): 0.48<br>Development Index (Male): 0.55<br>Life Expectancy (Female): 59.7<br>Life Expectancy (Male): 57.1<br>Mean Years of Education (Female): 4.2<br>Mean Years of Education (Male): 6<br>Estimated Gross National Income per Capita (Female): 2626<br>Estimated Gross National Income per Capita (Male): 4148<br>",
          "Country: World<br>Development Index (Female): 0.67<br>Development Index (Male): 0.725<br>Life Expectancy (Female): 73.7<br>Life Expectancy (Male): 69.5<br>Mean Years of Education (Female): 6.2<br>Mean Years of Education (Male): 7.9<br>Estimated Gross National Income per Capita (Female): 10296<br>Estimated Gross National Income per Capita (Male): 18373<br>"
         ],
         "type": "choropleth",
         "z": [
          "0.996",
          "0.976",
          "0.95",
          "0.977",
          "0.947",
          "0.963",
          "0.973",
          "0.995",
          "0.982",
          "0.961",
          "0.985",
          "0.958",
          "..",
          "0.999",
          "0.965",
          "0.975",
          "0.93",
          "0.971",
          "0.971",
          "0.961",
          "0.975",
          "0.987",
          "0.943",
          "0.996",
          "0.996",
          "0.975",
          "0.964",
          "0.98",
          "0.961",
          "1.03",
          "0.977",
          "0.971",
          "0.998",
          "..",
          "0.999",
          "1.007",
          "1.03",
          "0.937",
          "0.901",
          "0.982",
          "0.954",
          "0.967",
          "0.985",
          "0.976",
          "0.94",
          "1.029",
          "0.987",
          "0.972",
          "0.954",
          "1.021",
          "1.019",
          "0.909",
          "0.989",
          "1.018",
          "..",
          "1.002",
          "1.018",
          "..",
          "0.991",
          "..",
          "0.996",
          "0.947",
          "0.95",
          "..",
          "0.985",
          "0.966",
          "0.954",
          "0.899",
          "0.974",
          "0.858",
          "1.03",
          "0.902",
          "0.948",
          "0.943",
          "0.997",
          "0.962",
          "..",
          "0.942",
          "..",
          "0.86",
          "0.949",
          "1.003",
          "0.837",
          "0.947",
          "0.948",
          "1.008",
          "..",
          "0.98",
          "0.991",
          "0.943",
          "0.941",
          "1.028",
          "1",
          "..",
          "0.95",
          "0.894",
          "0.997",
          "..",
          "0.995",
          "0.967",
          "0.958",
          "0.995",
          "0.975",
          "0.937",
          "0.956",
          "0.982",
          "1.003",
          "0.868",
          "..",
          "..",
          "0.927",
          "0.956",
          "0.86",
          "0.945",
          "0.977",
          "0.965",
          "0.948",
          "..",
          "0.931",
          "0.961",
          "0.787",
          "..",
          "..",
          "0.984",
          "0.96",
          "0.828",
          "0.981",
          "0.949",
          "0.926",
          "0.795",
          "0.944",
          "0.897",
          "0.868",
          "0.834",
          "0.903",
          "0.922",
          "..",
          "..",
          "0.917",
          "0.885",
          "0.896",
          "0.917",
          "0.89",
          "0.891",
          "0.913",
          "0.908",
          "0.726",
          "..",
          "..",
          "0.879",
          "0.938",
          "0.841",
          "0.879",
          "0.945",
          "0.922",
          "0.816",
          "..",
          "..",
          "0.813",
          "0.739",
          "0.953",
          "0.831",
          "..",
          "0.957",
          "0.886",
          "0.823",
          "0.83",
          "..",
          "..",
          "0.883",
          "0.6",
          "0.81",
          "0.907",
          "0.84",
          "0.889",
          "0.833",
          "0.789",
          "..",
          "0.776",
          "0.881",
          "0.814",
          "0.778",
          "0.881",
          "0.911",
          "0.768",
          "..",
          "0.773",
          "0.729",
          "0.849",
          "0.948",
          "0.945",
          "0.976",
          "0.801",
          "0.872",
          "0.924"
         ]
        }
       ],
       "layout": {
        "geo": {
         "projection": {
          "type": "equirectangular"
         },
         "showcoastlines": false,
         "showframe": false
        },
        "template": {
         "data": {
          "bar": [
           {
            "error_x": {
             "color": "#2a3f5f"
            },
            "error_y": {
             "color": "#2a3f5f"
            },
            "marker": {
             "line": {
              "color": "#E5ECF6",
              "width": 0.5
             },
             "pattern": {
              "fillmode": "overlay",
              "size": 10,
              "solidity": 0.2
             }
            },
            "type": "bar"
           }
          ],
          "barpolar": [
           {
            "marker": {
             "line": {
              "color": "#E5ECF6",
              "width": 0.5
             },
             "pattern": {
              "fillmode": "overlay",
              "size": 10,
              "solidity": 0.2
             }
            },
            "type": "barpolar"
           }
          ],
          "carpet": [
           {
            "aaxis": {
             "endlinecolor": "#2a3f5f",
             "gridcolor": "white",
             "linecolor": "white",
             "minorgridcolor": "white",
             "startlinecolor": "#2a3f5f"
            },
            "baxis": {
             "endlinecolor": "#2a3f5f",
             "gridcolor": "white",
             "linecolor": "white",
             "minorgridcolor": "white",
             "startlinecolor": "#2a3f5f"
            },
            "type": "carpet"
           }
          ],
          "choropleth": [
           {
            "colorbar": {
             "outlinewidth": 0,
             "ticks": ""
            },
            "type": "choropleth"
           }
          ],
          "contour": [
           {
            "colorbar": {
             "outlinewidth": 0,
             "ticks": ""
            },
            "colorscale": [
             [
              0,
              "#0d0887"
             ],
             [
              0.1111111111111111,
              "#46039f"
             ],
             [
              0.2222222222222222,
              "#7201a8"
             ],
             [
              0.3333333333333333,
              "#9c179e"
             ],
             [
              0.4444444444444444,
              "#bd3786"
             ],
             [
              0.5555555555555556,
              "#d8576b"
             ],
             [
              0.6666666666666666,
              "#ed7953"
             ],
             [
              0.7777777777777778,
              "#fb9f3a"
             ],
             [
              0.8888888888888888,
              "#fdca26"
             ],
             [
              1,
              "#f0f921"
             ]
            ],
            "type": "contour"
           }
          ],
          "contourcarpet": [
           {
            "colorbar": {
             "outlinewidth": 0,
             "ticks": ""
            },
            "type": "contourcarpet"
           }
          ],
          "heatmap": [
           {
            "colorbar": {
             "outlinewidth": 0,
             "ticks": ""
            },
            "colorscale": [
             [
              0,
              "#0d0887"
             ],
             [
              0.1111111111111111,
              "#46039f"
             ],
             [
              0.2222222222222222,
              "#7201a8"
             ],
             [
              0.3333333333333333,
              "#9c179e"
             ],
             [
              0.4444444444444444,
              "#bd3786"
             ],
             [
              0.5555555555555556,
              "#d8576b"
             ],
             [
              0.6666666666666666,
              "#ed7953"
             ],
             [
              0.7777777777777778,
              "#fb9f3a"
             ],
             [
              0.8888888888888888,
              "#fdca26"
             ],
             [
              1,
              "#f0f921"
             ]
            ],
            "type": "heatmap"
           }
          ],
          "heatmapgl": [
           {
            "colorbar": {
             "outlinewidth": 0,
             "ticks": ""
            },
            "colorscale": [
             [
              0,
              "#0d0887"
             ],
             [
              0.1111111111111111,
              "#46039f"
             ],
             [
              0.2222222222222222,
              "#7201a8"
             ],
             [
              0.3333333333333333,
              "#9c179e"
             ],
             [
              0.4444444444444444,
              "#bd3786"
             ],
             [
              0.5555555555555556,
              "#d8576b"
             ],
             [
              0.6666666666666666,
              "#ed7953"
             ],
             [
              0.7777777777777778,
              "#fb9f3a"
             ],
             [
              0.8888888888888888,
              "#fdca26"
             ],
             [
              1,
              "#f0f921"
             ]
            ],
            "type": "heatmapgl"
           }
          ],
          "histogram": [
           {
            "marker": {
             "pattern": {
              "fillmode": "overlay",
              "size": 10,
              "solidity": 0.2
             }
            },
            "type": "histogram"
           }
          ],
          "histogram2d": [
           {
            "colorbar": {
             "outlinewidth": 0,
             "ticks": ""
            },
            "colorscale": [
             [
              0,
              "#0d0887"
             ],
             [
              0.1111111111111111,
              "#46039f"
             ],
             [
              0.2222222222222222,
              "#7201a8"
             ],
             [
              0.3333333333333333,
              "#9c179e"
             ],
             [
              0.4444444444444444,
              "#bd3786"
             ],
             [
              0.5555555555555556,
              "#d8576b"
             ],
             [
              0.6666666666666666,
              "#ed7953"
             ],
             [
              0.7777777777777778,
              "#fb9f3a"
             ],
             [
              0.8888888888888888,
              "#fdca26"
             ],
             [
              1,
              "#f0f921"
             ]
            ],
            "type": "histogram2d"
           }
          ],
          "histogram2dcontour": [
           {
            "colorbar": {
             "outlinewidth": 0,
             "ticks": ""
            },
            "colorscale": [
             [
              0,
              "#0d0887"
             ],
             [
              0.1111111111111111,
              "#46039f"
             ],
             [
              0.2222222222222222,
              "#7201a8"
             ],
             [
              0.3333333333333333,
              "#9c179e"
             ],
             [
              0.4444444444444444,
              "#bd3786"
             ],
             [
              0.5555555555555556,
              "#d8576b"
             ],
             [
              0.6666666666666666,
              "#ed7953"
             ],
             [
              0.7777777777777778,
              "#fb9f3a"
             ],
             [
              0.8888888888888888,
              "#fdca26"
             ],
             [
              1,
              "#f0f921"
             ]
            ],
            "type": "histogram2dcontour"
           }
          ],
          "mesh3d": [
           {
            "colorbar": {
             "outlinewidth": 0,
             "ticks": ""
            },
            "type": "mesh3d"
           }
          ],
          "parcoords": [
           {
            "line": {
             "colorbar": {
              "outlinewidth": 0,
              "ticks": ""
             }
            },
            "type": "parcoords"
           }
          ],
          "pie": [
           {
            "automargin": true,
            "type": "pie"
           }
          ],
          "scatter": [
           {
            "marker": {
             "colorbar": {
              "outlinewidth": 0,
              "ticks": ""
             }
            },
            "type": "scatter"
           }
          ],
          "scatter3d": [
           {
            "line": {
             "colorbar": {
              "outlinewidth": 0,
              "ticks": ""
             }
            },
            "marker": {
             "colorbar": {
              "outlinewidth": 0,
              "ticks": ""
             }
            },
            "type": "scatter3d"
           }
          ],
          "scattercarpet": [
           {
            "marker": {
             "colorbar": {
              "outlinewidth": 0,
              "ticks": ""
             }
            },
            "type": "scattercarpet"
           }
          ],
          "scattergeo": [
           {
            "marker": {
             "colorbar": {
              "outlinewidth": 0,
              "ticks": ""
             }
            },
            "type": "scattergeo"
           }
          ],
          "scattergl": [
           {
            "marker": {
             "colorbar": {
              "outlinewidth": 0,
              "ticks": ""
             }
            },
            "type": "scattergl"
           }
          ],
          "scattermapbox": [
           {
            "marker": {
             "colorbar": {
              "outlinewidth": 0,
              "ticks": ""
             }
            },
            "type": "scattermapbox"
           }
          ],
          "scatterpolar": [
           {
            "marker": {
             "colorbar": {
              "outlinewidth": 0,
              "ticks": ""
             }
            },
            "type": "scatterpolar"
           }
          ],
          "scatterpolargl": [
           {
            "marker": {
             "colorbar": {
              "outlinewidth": 0,
              "ticks": ""
             }
            },
            "type": "scatterpolargl"
           }
          ],
          "scatterternary": [
           {
            "marker": {
             "colorbar": {
              "outlinewidth": 0,
              "ticks": ""
             }
            },
            "type": "scatterternary"
           }
          ],
          "surface": [
           {
            "colorbar": {
             "outlinewidth": 0,
             "ticks": ""
            },
            "colorscale": [
             [
              0,
              "#0d0887"
             ],
             [
              0.1111111111111111,
              "#46039f"
             ],
             [
              0.2222222222222222,
              "#7201a8"
             ],
             [
              0.3333333333333333,
              "#9c179e"
             ],
             [
              0.4444444444444444,
              "#bd3786"
             ],
             [
              0.5555555555555556,
              "#d8576b"
             ],
             [
              0.6666666666666666,
              "#ed7953"
             ],
             [
              0.7777777777777778,
              "#fb9f3a"
             ],
             [
              0.8888888888888888,
              "#fdca26"
             ],
             [
              1,
              "#f0f921"
             ]
            ],
            "type": "surface"
           }
          ],
          "table": [
           {
            "cells": {
             "fill": {
              "color": "#EBF0F8"
             },
             "line": {
              "color": "white"
             }
            },
            "header": {
             "fill": {
              "color": "#C8D4E3"
             },
             "line": {
              "color": "white"
             }
            },
            "type": "table"
           }
          ]
         },
         "layout": {
          "annotationdefaults": {
           "arrowcolor": "#2a3f5f",
           "arrowhead": 0,
           "arrowwidth": 1
          },
          "autotypenumbers": "strict",
          "coloraxis": {
           "colorbar": {
            "outlinewidth": 0,
            "ticks": ""
           }
          },
          "colorscale": {
           "diverging": [
            [
             0,
             "#8e0152"
            ],
            [
             0.1,
             "#c51b7d"
            ],
            [
             0.2,
             "#de77ae"
            ],
            [
             0.3,
             "#f1b6da"
            ],
            [
             0.4,
             "#fde0ef"
            ],
            [
             0.5,
             "#f7f7f7"
            ],
            [
             0.6,
             "#e6f5d0"
            ],
            [
             0.7,
             "#b8e186"
            ],
            [
             0.8,
             "#7fbc41"
            ],
            [
             0.9,
             "#4d9221"
            ],
            [
             1,
             "#276419"
            ]
           ],
           "sequential": [
            [
             0,
             "#0d0887"
            ],
            [
             0.1111111111111111,
             "#46039f"
            ],
            [
             0.2222222222222222,
             "#7201a8"
            ],
            [
             0.3333333333333333,
             "#9c179e"
            ],
            [
             0.4444444444444444,
             "#bd3786"
            ],
            [
             0.5555555555555556,
             "#d8576b"
            ],
            [
             0.6666666666666666,
             "#ed7953"
            ],
            [
             0.7777777777777778,
             "#fb9f3a"
            ],
            [
             0.8888888888888888,
             "#fdca26"
            ],
            [
             1,
             "#f0f921"
            ]
           ],
           "sequentialminus": [
            [
             0,
             "#0d0887"
            ],
            [
             0.1111111111111111,
             "#46039f"
            ],
            [
             0.2222222222222222,
             "#7201a8"
            ],
            [
             0.3333333333333333,
             "#9c179e"
            ],
            [
             0.4444444444444444,
             "#bd3786"
            ],
            [
             0.5555555555555556,
             "#d8576b"
            ],
            [
             0.6666666666666666,
             "#ed7953"
            ],
            [
             0.7777777777777778,
             "#fb9f3a"
            ],
            [
             0.8888888888888888,
             "#fdca26"
            ],
            [
             1,
             "#f0f921"
            ]
           ]
          },
          "colorway": [
           "#636efa",
           "#EF553B",
           "#00cc96",
           "#ab63fa",
           "#FFA15A",
           "#19d3f3",
           "#FF6692",
           "#B6E880",
           "#FF97FF",
           "#FECB52"
          ],
          "font": {
           "color": "#2a3f5f"
          },
          "geo": {
           "bgcolor": "white",
           "lakecolor": "white",
           "landcolor": "#E5ECF6",
           "showlakes": true,
           "showland": true,
           "subunitcolor": "white"
          },
          "hoverlabel": {
           "align": "left"
          },
          "hovermode": "closest",
          "mapbox": {
           "style": "light"
          },
          "paper_bgcolor": "white",
          "plot_bgcolor": "#E5ECF6",
          "polar": {
           "angularaxis": {
            "gridcolor": "white",
            "linecolor": "white",
            "ticks": ""
           },
           "bgcolor": "#E5ECF6",
           "radialaxis": {
            "gridcolor": "white",
            "linecolor": "white",
            "ticks": ""
           }
          },
          "scene": {
           "xaxis": {
            "backgroundcolor": "#E5ECF6",
            "gridcolor": "white",
            "gridwidth": 2,
            "linecolor": "white",
            "showbackground": true,
            "ticks": "",
            "zerolinecolor": "white"
           },
           "yaxis": {
            "backgroundcolor": "#E5ECF6",
            "gridcolor": "white",
            "gridwidth": 2,
            "linecolor": "white",
            "showbackground": true,
            "ticks": "",
            "zerolinecolor": "white"
           },
           "zaxis": {
            "backgroundcolor": "#E5ECF6",
            "gridcolor": "white",
            "gridwidth": 2,
            "linecolor": "white",
            "showbackground": true,
            "ticks": "",
            "zerolinecolor": "white"
           }
          },
          "shapedefaults": {
           "line": {
            "color": "#2a3f5f"
           }
          },
          "ternary": {
           "aaxis": {
            "gridcolor": "white",
            "linecolor": "white",
            "ticks": ""
           },
           "baxis": {
            "gridcolor": "white",
            "linecolor": "white",
            "ticks": ""
           },
           "bgcolor": "#E5ECF6",
           "caxis": {
            "gridcolor": "white",
            "linecolor": "white",
            "ticks": ""
           }
          },
          "title": {
           "x": 0.05
          },
          "xaxis": {
           "automargin": true,
           "gridcolor": "white",
           "linecolor": "white",
           "ticks": "",
           "title": {
            "standoff": 15
           },
           "zerolinecolor": "white",
           "zerolinewidth": 2
          },
          "yaxis": {
           "automargin": true,
           "gridcolor": "white",
           "linecolor": "white",
           "ticks": "",
           "title": {
            "standoff": 15
           },
           "zerolinecolor": "white",
           "zerolinewidth": 2
          }
         }
        },
        "title": {
         "text": "2015 Global Gender Development"
        }
       }
      },
      "text/html": [
       "<div>                            <div id=\"08f19f01-53c1-4827-8395-a36acfcecd89\" class=\"plotly-graph-div\" style=\"height:525px; width:100%;\"></div>            <script type=\"text/javascript\">                require([\"plotly\"], function(Plotly) {                    window.PLOTLYENV=window.PLOTLYENV || {};                                    if (document.getElementById(\"08f19f01-53c1-4827-8395-a36acfcecd89\")) {                    Plotly.newPlot(                        \"08f19f01-53c1-4827-8395-a36acfcecd89\",                        [{\"autocolorscale\":false,\"colorbar\":{\"title\":{\"text\":\"GDI\"}},\"colorscale\":[[0.0,\"rgb(53,0,176)\"],[0.2,\"rgb(121,0,158)\"],[0.4,\"rgb(181,0,176)\"],[0.6,\"rgb(255, 86, 75)\"],[0.8,\"rgb(255,161,45)\"],[1.0,\"rgb(255,215,0)\"]],\"locations\":[\"NOR\",\"AUS\",\"CHE\",\"DNK\",\"NLD\",\"DEU\",\"IRL\",\"USA\",\"CAN\",\"NZL\",\"SGP\",\"HKG\",\"LIE\",\"SWE\",\"GBR\",\"ISL\",\"KOR\",\"ISR\",\"LUX\",\"JPN\",\"BEL\",\"FRA\",\"AUT\",\"FIN\",\"SVN\",\"ESP\",\"ITA\",\"CZE\",\"GRC\",\"EST\",\"BRN\",\"CYP\",\"QAT\",\"AND\",\"SVK\",\"POL\",\"LTU\",\"MLT\",\"SAU\",\"ARG\",\"ARE\",\"CHL\",\"PRT\",\"HUN\",\"BHR\",\"LVA\",\"HRV\",\"KWT\",\"MNE\",\"BLR\",\"RUS\",\"OMN\",\"ROU\",\"URY\",\"BHS\",\"KAZ\",\"BRB\",\"ATG\",\"BGR\",\"PLW\",\"PAN\",\"MYS\",\"MUS\",\"SYC\",\"TTO\",\"SRB\",\"CUB\",\"LBN\",\"CRI\",\"IRN\",\"VEN\",\"TUR\",\"LKA\",\"MEX\",\"BRA\",\"GEO\",\"KNA\",\"AZE\",\"GRD\",\"JOR\",\"MKD\",\"UKR\",\"DZA\",\"PER\",\"ALB\",\"ARM\",\"BIH\",\"ECU\",\"LCA\",\"CHN\",\"FJI\",\"MNG\",\"THA\",\"DMA\",\"LBY\",\"TUN\",\"COL\",\"VCT\",\"JAM \",\"TON\",\"BLZ\",\"DOM\",\"SUR\",\"MDV\",\"WSM\",\"BWA\",\"MDA\",\"EGY\",\"TKM\",\"GAB\",\"IDN\",\"PRY\",\"PSE\",\"UZB\",\"PHL\",\"SLV\",\"ZAF\",\"VNM\",\"BOL\",\"KGZ\",\"IRQ\",\"CPV\",\"FSM\",\"GUY\",\"NIC\",\"MAR\",\"NAM\",\"GTM\",\"TJK\",\"IND\",\"HND\",\"BTN\",\"TLS\",\"SYR\",\"VUT\",\"COG\",\"KIR\",\"GNQ\",\"ZMB\",\"GHA\",\"LAO\",\"BGD\",\"KHM\",\"STP\",\"KEN\",\"NPL\",\"PAK\",\"MMR\",\"AGO\",\"SWZ\",\"TZA\",\"NGA\",\"CMR\",\"MDG\",\"ZWE\",\"MRT\",\"SLB\",\"PNG\",\"COM\",\"YEM\",\"LSO\",\"TGO\",\"HTI\",\"RWA\",\"UGA\",\"BEN\",\"SDN\",\"DJI\",\"SSD\",\"SEN\",\"AFG\",\"CIV\",\"MWI\",\"ETH\",\"GMB\",\"COD\",\"LBR\",\"GNB\",\"MLI\",\"MOZ\",\"SLE\",\"GIN\",\"BFA\",\"BDI\",\"TCD\",\"ERI\",\"CAF\",\"NER\",null,null,null,null,null,null,null],\"marker\":{\"line\":{\"color\":\"darkgray\",\"width\":0.5}},\"reversescale\":true,\"text\":[\"Country: Norway<br>Development Index (Female): 0.94<br>Development Index (Male): 0.944<br>Life Expectancy (Female): 83.6<br>Life Expectancy (Male): 79.5<br>Mean Years of Education (Female): 12.7<br>Mean Years of Education (Male): 12.5<br>Estimated Gross National Income per Capita (Female): 57140<br>Estimated Gross National Income per Capita (Male): 72825<br>\",\"Country: Australia<br>Development Index (Female): 0.922<br>Development Index (Male): 0.945<br>Life Expectancy (Female): 84.5<br>Life Expectancy (Male): 80.3<br>Mean Years of Education (Female): 13.1<br>Mean Years of Education (Male): 12.9<br>Estimated Gross National Income per Capita (Female): 33688<br>Estimated Gross National Income per Capita (Male): 50914<br>\",\"Country: Switzerland<br>Development Index (Female): 0.898<br>Development Index (Male): 0.945<br>Life Expectancy (Female): 85<br>Life Expectancy (Male): 80.8<br>Mean Years of Education (Female): 11.5<br>Mean Years of Education (Male): 13.1<br>Estimated Gross National Income per Capita (Female): 44132<br>Estimated Gross National Income per Capita (Male): 69077<br>\",\"Country: Denmark<br>Development Index (Female): 0.912<br>Development Index (Male): 0.934<br>Life Expectancy (Female): 82.2<br>Life Expectancy (Male): 78.3<br>Mean Years of Education (Female): 12.8<br>Mean Years of Education (Male): 12.7<br>Estimated Gross National Income per Capita (Female): 36439<br>Estimated Gross National Income per Capita (Male): 51727<br>\",\"Country: Netherlands<br>Development Index (Female): 0.893<br>Development Index (Male): 0.943<br>Life Expectancy (Female): 83.3<br>Life Expectancy (Male): 79.7<br>Mean Years of Education (Female): 11.6<br>Mean Years of Education (Male): 12.2<br>Estimated Gross National Income per Capita (Female): 29500<br>Estimated Gross National Income per Capita (Male): 61641<br>\",\"Country: Germany<br>Development Index (Female): 0.901<br>Development Index (Male): 0.936<br>Life Expectancy (Female): 83.3<br>Life Expectancy (Male): 78.5<br>Mean Years of Education (Female): 12.9<br>Mean Years of Education (Male): 13.8<br>Estimated Gross National Income per Capita (Female): 34886<br>Estimated Gross National Income per Capita (Male): 53290<br>\",\"Country: Ireland<br>Development Index (Female): 0.901<br>Development Index (Male): 0.926<br>Life Expectancy (Female): 83<br>Life Expectancy (Male): 78.8<br>Mean Years of Education (Female): 12.3<br>Mean Years of Education (Male): 12<br>Estimated Gross National Income per Capita (Female): 30104<br>Estimated Gross National Income per Capita (Male): 49166<br>\",\"Country: United States<br>Development Index (Female): 0.911<br>Development Index (Male): 0.916<br>Life Expectancy (Female): 81.4<br>Life Expectancy (Male): 76.7<br>Mean Years of Education (Female): 13<br>Mean Years of Education (Male): 12.9<br>Estimated Gross National Income per Capita (Female): 43054<br>Estimated Gross National Income per Capita (Male): 63158<br>\",\"Country: Canada<br>Development Index (Female): 0.904<br>Development Index (Male): 0.921<br>Life Expectancy (Female): 84<br>Life Expectancy (Male): 80<br>Mean Years of Education (Female): 13.1<br>Mean Years of Education (Male): 13<br>Estimated Gross National Income per Capita (Female): 33587<br>Estimated Gross National Income per Capita (Male): 50853<br>\",\"Country: New Zealand<br>Development Index (Female): 0.894<br>Development Index (Male): 0.93<br>Life Expectancy (Female): 83.6<br>Life Expectancy (Male): 80<br>Mean Years of Education (Female): 12.5<br>Mean Years of Education (Male): 12.6<br>Estimated Gross National Income per Capita (Female): 24309<br>Estimated Gross National Income per Capita (Male): 41372<br>\",\"Country: Singapore<br>Development Index (Female): 0.898<br>Development Index (Male): 0.912<br>Life Expectancy (Female): 86<br>Life Expectancy (Male): 79.9<br>Mean Years of Education (Female): 10.1<br>Mean Years of Education (Male): 10.9<br>Estimated Gross National Income per Capita (Female): 59994<br>Estimated Gross National Income per Capita (Male): 93699<br>\",\"Country: Hong Kong, China (SAR)<br>Development Index (Female): 0.892<br>Development Index (Male): 0.931<br>Life Expectancy (Female): 86.8<br>Life Expectancy (Male): 81.2<br>Mean Years of Education (Female): 10.9<br>Mean Years of Education (Male): 11.9<br>Estimated Gross National Income per Capita (Female): 38060<br>Estimated Gross National Income per Capita (Male): 72052<br>\",\"Country: Liechtenstein<br>Development Index (Female): ..<br>Development Index (Male): ..<br>Life Expectancy (Female): ..<br>Life Expectancy (Male): ..<br>Mean Years of Education (Female): ..<br>Mean Years of Education (Male): ..<br>Estimated Gross National Income per Capita (Female): ..<br>Estimated Gross National Income per Capita (Male): ..<br>\",\"Country: Sweden<br>Development Index (Female): 0.906<br>Development Index (Male): 0.906<br>Life Expectancy (Female): 83.9<br>Life Expectancy (Male): 80.4<br>Mean Years of Education (Female): 12.2<br>Mean Years of Education (Male): 12<br>Estimated Gross National Income per Capita (Female): 40222<br>Estimated Gross National Income per Capita (Male): 51084<br>\",\"Country: United Kingdom<br>Development Index (Female): 0.888<br>Development Index (Male): 0.92<br>Life Expectancy (Female): 82.6<br>Life Expectancy (Male): 78.7<br>Mean Years of Education (Female): 12.9<br>Mean Years of Education (Male): 13.2<br>Estimated Gross National Income per Capita (Female): 27259<br>Estimated Gross National Income per Capita (Male): 51628<br>\",\"Country: Iceland<br>Development Index (Female): 0.886<br>Development Index (Male): 0.909<br>Life Expectancy (Female): 84<br>Life Expectancy (Male): 81<br>Mean Years of Education (Female): 10.8<br>Mean Years of Education (Male): 10.4<br>Estimated Gross National Income per Capita (Female): 28792<br>Estimated Gross National Income per Capita (Male): 41486<br>\",\"Country: Korea (Republic of)<br>Development Index (Female): 0.861<br>Development Index (Male): 0.926<br>Life Expectancy (Female): 85<br>Life Expectancy (Male): 78.5<br>Mean Years of Education (Female): 11.2<br>Mean Years of Education (Male): 12.7<br>Estimated Gross National Income per Capita (Female): 21896<br>Estimated Gross National Income per Capita (Male): 46018<br>\",\"Country: Israel<br>Development Index (Female): 0.879<br>Development Index (Male): 0.905<br>Life Expectancy (Female): 84.1<br>Life Expectancy (Male): 80.5<br>Mean Years of Education (Female): 12.5<br>Mean Years of Education (Male): 12.6<br>Estimated Gross National Income per Capita (Female): 22451<br>Estimated Gross National Income per Capita (Male): 39064<br>\",\"Country: Luxembourg<br>Development Index (Female): 0.877<br>Development Index (Male): 0.903<br>Life Expectancy (Female): 83.9<br>Life Expectancy (Male): 79.3<br>Mean Years of Education (Female): 11.3<br>Mean Years of Education (Male): 12.1<br>Estimated Gross National Income per Capita (Female): 47723<br>Estimated Gross National Income per Capita (Male): 69800<br>\",\"Country: Japan<br>Development Index (Female): 0.87<br>Development Index (Male): 0.905<br>Life Expectancy (Female): 86.7<br>Life Expectancy (Male): 80.2<br>Mean Years of Education (Female): 11.3<br>Mean Years of Education (Male): 11.7<br>Estimated Gross National Income per Capita (Female): 24975<br>Estimated Gross National Income per Capita (Male): 49541<br>\",\"Country: Belgium<br>Development Index (Female): 0.872<br>Development Index (Male): 0.895<br>Life Expectancy (Female): 83.2<br>Life Expectancy (Male): 78.3<br>Mean Years of Education (Female): 10.6<br>Mean Years of Education (Male): 11.1<br>Estimated Gross National Income per Capita (Female): 31879<br>Estimated Gross National Income per Capita (Male): 50845<br>\",\"Country: France<br>Development Index (Female): 0.881<br>Development Index (Male): 0.893<br>Life Expectancy (Female): 85.1<br>Life Expectancy (Male): 79.2<br>Mean Years of Education (Female): 11<br>Mean Years of Education (Male): 11.3<br>Estimated Gross National Income per Capita (Female): 31073<br>Estimated Gross National Income per Capita (Male): 45497<br>\",\"Country: Austria<br>Development Index (Female): 0.856<br>Development Index (Male): 0.909<br>Life Expectancy (Female): 83.8<br>Life Expectancy (Male): 78.8<br>Mean Years of Education (Female): 9.9<br>Mean Years of Education (Male): 11.9<br>Estimated Gross National Income per Capita (Female): 29598<br>Estimated Gross National Income per Capita (Male): 58826<br>\",\"Country: Finland<br>Development Index (Female): 0.879<br>Development Index (Male): 0.882<br>Life Expectancy (Female): 83.6<br>Life Expectancy (Male): 78<br>Mean Years of Education (Female): 10.2<br>Mean Years of Education (Male): 10.2<br>Estimated Gross National Income per Capita (Female): 31644<br>Estimated Gross National Income per Capita (Male): 45994<br>\",\"Country: Slovenia<br>Development Index (Female): 0.877<br>Development Index (Male): 0.881<br>Life Expectancy (Female): 83.4<br>Life Expectancy (Male): 77.3<br>Mean Years of Education (Female): 11.8<br>Mean Years of Education (Male): 12<br>Estimated Gross National Income per Capita (Female): 22180<br>Estimated Gross National Income per Capita (Male): 33593<br>\",\"Country: Spain<br>Development Index (Female): 0.863<br>Development Index (Male): 0.885<br>Life Expectancy (Female): 85.3<br>Life Expectancy (Male): 79.8<br>Mean Years of Education (Female): 9.4<br>Mean Years of Education (Male): 9.8<br>Estimated Gross National Income per Capita (Female): 24059<br>Estimated Gross National Income per Capita (Male): 40221<br>\",\"Country: Italy<br>Development Index (Female): 0.851<br>Development Index (Male): 0.883<br>Life Expectancy (Female): 85.5<br>Life Expectancy (Male): 80.6<br>Mean Years of Education (Female): 9.5<br>Mean Years of Education (Male): 10.2<br>Estimated Gross National Income per Capita (Female): 22526<br>Estimated Gross National Income per Capita (Male): 44148<br>\",\"Country: Czech Republic<br>Development Index (Female): 0.859<br>Development Index (Male): 0.877<br>Life Expectancy (Female): 81.5<br>Life Expectancy (Male): 75.7<br>Mean Years of Education (Female): 12.1<br>Mean Years of Education (Male): 12.5<br>Estimated Gross National Income per Capita (Female): 19929<br>Estimated Gross National Income per Capita (Male): 33604<br>\",\"Country: Greece<br>Development Index (Female): 0.844<br>Development Index (Male): 0.879<br>Life Expectancy (Female): 83.8<br>Life Expectancy (Male): 78<br>Mean Years of Education (Female): 9.8<br>Mean Years of Education (Male): 10.5<br>Estimated Gross National Income per Capita (Female): 17288<br>Estimated Gross National Income per Capita (Male): 31952<br>\",\"Country: Estonia<br>Development Index (Female): 0.872<br>Development Index (Male): 0.847<br>Life Expectancy (Female): 81.3<br>Life Expectancy (Male): 72<br>Mean Years of Education (Female): 12.7<br>Mean Years of Education (Male): 12.2<br>Estimated Gross National Income per Capita (Female): 20854<br>Estimated Gross National Income per Capita (Male): 30254<br>\",\"Country: Brunei Darussalam<br>Development Index (Female): 0.84<br>Development Index (Male): 0.86<br>Life Expectancy (Female): 80.7<br>Life Expectancy (Male): 77<br>Mean Years of Education (Female): 8.5<br>Mean Years of Education (Male): 9<br>Estimated Gross National Income per Capita (Female): 54228<br>Estimated Gross National Income per Capita (Male): 90437<br>\",\"Country: Cyprus<br>Development Index (Female): 0.836<br>Development Index (Male): 0.861<br>Life Expectancy (Female): 82.4<br>Life Expectancy (Male): 78<br>Mean Years of Education (Female): 11.4<br>Mean Years of Education (Male): 11.8<br>Estimated Gross National Income per Capita (Female): 22613<br>Estimated Gross National Income per Capita (Male): 34400<br>\",\"Country: Qatar<br>Development Index (Female): 0.853<br>Development Index (Male): 0.854<br>Life Expectancy (Female): 79.9<br>Life Expectancy (Male): 77.3<br>Mean Years of Education (Female): 10.4<br>Mean Years of Education (Male): 8.8<br>Estimated Gross National Income per Capita (Female): 55123<br>Estimated Gross National Income per Capita (Male): 143979<br>\",\"Country: Andorra<br>Development Index (Female): ..<br>Development Index (Male): ..<br>Life Expectancy (Female): ..<br>Life Expectancy (Male): ..<br>Mean Years of Education (Female): ..<br>Mean Years of Education (Male): ..<br>Estimated Gross National Income per Capita (Female): ..<br>Estimated Gross National Income per Capita (Male): ..<br>\",\"Country: Slovakia<br>Development Index (Female): 0.841<br>Development Index (Male): 0.842<br>Life Expectancy (Female): 79.9<br>Life Expectancy (Male): 72.5<br>Mean Years of Education (Female): 12.3<br>Mean Years of Education (Male): 12.2<br>Estimated Gross National Income per Capita (Female): 19903<br>Estimated Gross National Income per Capita (Male): 32122<br>\",\"Country: Poland<br>Development Index (Female): 0.844<br>Development Index (Male): 0.839<br>Life Expectancy (Female): 81.4<br>Life Expectancy (Male): 73.4<br>Mean Years of Education (Female): 11.7<br>Mean Years of Education (Male): 11.9<br>Estimated Gross National Income per Capita (Female): 18423<br>Estimated Gross National Income per Capita (Male): 28271<br>\",\"Country: Lithuania<br>Development Index (Female): 0.851<br>Development Index (Male): 0.827<br>Life Expectancy (Female): 78.9<br>Life Expectancy (Male): 67.7<br>Mean Years of Education (Female): 12.3<br>Mean Years of Education (Male): 12.5<br>Estimated Gross National Income per Capita (Female): 20955<br>Estimated Gross National Income per Capita (Male): 28656<br>\",\"Country: Malta<br>Development Index (Female): 0.806<br>Development Index (Male): 0.861<br>Life Expectancy (Female): 82.2<br>Life Expectancy (Male): 78.8<br>Mean Years of Education (Female): 9.9<br>Mean Years of Education (Male): 10.8<br>Estimated Gross National Income per Capita (Female): 16435<br>Estimated Gross National Income per Capita (Male): 39432<br>\",\"Country: Saudi Arabia<br>Development Index (Female): 0.778<br>Development Index (Male): 0.864<br>Life Expectancy (Female): 75.7<br>Life Expectancy (Male): 73<br>Mean Years of Education (Female): 7.8<br>Mean Years of Education (Male): 9.3<br>Estimated Gross National Income per Capita (Female): 20094<br>Estimated Gross National Income per Capita (Male): 77044<br>\",\"Country: Argentina<br>Development Index (Female): 0.819<br>Development Index (Male): 0.834<br>Life Expectancy (Female): 80.1<br>Life Expectancy (Male): 72.4<br>Mean Years of Education (Female): 9.8<br>Mean Years of Education (Male): 9.8<br>Estimated Gross National Income per Capita (Female): 14202<br>Estimated Gross National Income per Capita (Male): 30237<br>\",\"Country: United Arab Emirates<br>Development Index (Female): 0.796<br>Development Index (Male): 0.835<br>Life Expectancy (Female): 78.5<br>Life Expectancy (Male): 76.3<br>Mean Years of Education (Female): 9.9<br>Mean Years of Education (Male): 8.5<br>Estimated Gross National Income per Capita (Female): 22391<br>Estimated Gross National Income per Capita (Male): 77300<br>\",\"Country: Chile<br>Development Index (Female): 0.815<br>Development Index (Male): 0.843<br>Life Expectancy (Female): 84.5<br>Life Expectancy (Male): 78.6<br>Mean Years of Education (Female): 9.7<br>Mean Years of Education (Male): 9.9<br>Estimated Gross National Income per Capita (Female): 14732<br>Estimated Gross National Income per Capita (Male): 27992<br>\",\"Country: Portugal<br>Development Index (Female): 0.823<br>Development Index (Male): 0.836<br>Life Expectancy (Female): 83.8<br>Life Expectancy (Male): 77.9<br>Mean Years of Education (Female): 8.1<br>Mean Years of Education (Male): 8.4<br>Estimated Gross National Income per Capita (Female): 21259<br>Estimated Gross National Income per Capita (Male): 30543<br>\",\"Country: Hungary<br>Development Index (Female): 0.818<br>Development Index (Male): 0.838<br>Life Expectancy (Female): 78.7<br>Life Expectancy (Male): 71.5<br>Mean Years of Education (Female): 11.3<br>Mean Years of Education (Male): 12.2<br>Estimated Gross National Income per Capita (Female): 17443<br>Estimated Gross National Income per Capita (Male): 28960<br>\",\"Country: Bahrain<br>Development Index (Female): 0.789<br>Development Index (Male): 0.839<br>Life Expectancy (Female): 77.6<br>Life Expectancy (Male): 75.8<br>Mean Years of Education (Female): 9.1<br>Mean Years of Education (Male): 9.6<br>Estimated Gross National Income per Capita (Female): 20038<br>Estimated Gross National Income per Capita (Male): 49890<br>\",\"Country: Latvia<br>Development Index (Female): 0.829<br>Development Index (Male): 0.805<br>Life Expectancy (Female): 78.9<br>Life Expectancy (Male): 69.1<br>Mean Years of Education (Female): 11.7<br>Mean Years of Education (Male): 11.2<br>Estimated Gross National Income per Capita (Female): 18437<br>Estimated Gross National Income per Capita (Male): 26845<br>\",\"Country: Croatia<br>Development Index (Female): 0.812<br>Development Index (Male): 0.823<br>Life Expectancy (Female): 80.6<br>Life Expectancy (Male): 74<br>Mean Years of Education (Female): 10.5<br>Mean Years of Education (Male): 11.6<br>Estimated Gross National Income per Capita (Female): 16200<br>Estimated Gross National Income per Capita (Male): 22853<br>\",\"Country: Kuwait<br>Development Index (Female): 0.793<br>Development Index (Male): 0.816<br>Life Expectancy (Female): 75.8<br>Life Expectancy (Male): 73.5<br>Mean Years of Education (Female): 7.3<br>Mean Years of Education (Male): 7.1<br>Estimated Gross National Income per Capita (Female): 42292<br>Estimated Gross National Income per Capita (Male): 111988<br>\",\"Country: Montenegro<br>Development Index (Female): 0.782<br>Development Index (Male): 0.819<br>Life Expectancy (Female): 78.4<br>Life Expectancy (Male): 74.1<br>Mean Years of Education (Female): 10.5<br>Mean Years of Education (Male): 11.8<br>Estimated Gross National Income per Capita (Female): 11106<br>Estimated Gross National Income per Capita (Male): 18094<br>\",\"Country: Belarus<br>Development Index (Female): 0.806<br>Development Index (Male): 0.789<br>Life Expectancy (Female): 77.2<br>Life Expectancy (Male): 65.5<br>Mean Years of Education (Female): 11.9<br>Mean Years of Education (Male): 12.1<br>Estimated Gross National Income per Capita (Female): 12922<br>Estimated Gross National Income per Capita (Male): 21010<br>\",\"Country: Russian Federation<br>Development Index (Female): 0.804<br>Development Index (Male): 0.789<br>Life Expectancy (Female): 75.8<br>Life Expectancy (Male): 64.4<br>Mean Years of Education (Female): 11.9<br>Mean Years of Education (Male): 12<br>Estimated Gross National Income per Capita (Female): 17269<br>Estimated Gross National Income per Capita (Male): 28287<br>\",\"Country: Oman<br>Development Index (Female): 0.741<br>Development Index (Male): 0.815<br>Life Expectancy (Female): 79.2<br>Life Expectancy (Male): 75.1<br>Mean Years of Education (Female): 7<br>Mean Years of Education (Male): 8.5<br>Estimated Gross National Income per Capita (Female): 14709<br>Estimated Gross National Income per Capita (Male): 46400<br>\",\"Country: Romania<br>Development Index (Female): 0.787<br>Development Index (Male): 0.796<br>Life Expectancy (Female): 78.3<br>Life Expectancy (Male): 71.2<br>Mean Years of Education (Female): 10.3<br>Mean Years of Education (Male): 11.1<br>Estimated Gross National Income per Capita (Female): 15250<br>Estimated Gross National Income per Capita (Male): 21117<br>\",\"Country: Uruguay<br>Development Index (Female): 0.797<br>Development Index (Male): 0.783<br>Life Expectancy (Female): 80.6<br>Life Expectancy (Male): 73.5<br>Mean Years of Education (Female): 8.7<br>Mean Years of Education (Male): 8.2<br>Estimated Gross National Income per Capita (Female): 14721<br>Estimated Gross National Income per Capita (Male): 24166<br>\",\"Country: Bahamas<br>Development Index (Female): ..<br>Development Index (Male): ..<br>Life Expectancy (Female): 78.3<br>Life Expectancy (Male): 72.3<br>Mean Years of Education (Female): 11.1<br>Mean Years of Education (Male): 10.7<br>Estimated Gross National Income per Capita (Female): 17868<br>Estimated Gross National Income per Capita (Male): 24957<br>\",\"Country: Kazakhstan<br>Development Index (Female): 0.787<br>Development Index (Male): 0.785<br>Life Expectancy (Female): 74.1<br>Life Expectancy (Male): 64.6<br>Mean Years of Education (Female): 11.3<br>Mean Years of Education (Male): 11.5<br>Estimated Gross National Income per Capita (Female): 15408<br>Estimated Gross National Income per Capita (Male): 26746<br>\",\"Country: Barbados<br>Development Index (Female): 0.791<br>Development Index (Male): 0.777<br>Life Expectancy (Female): 78<br>Life Expectancy (Male): 73.2<br>Mean Years of Education (Female): 10.6<br>Mean Years of Education (Male): 10.2<br>Estimated Gross National Income per Capita (Female): 10245<br>Estimated Gross National Income per Capita (Male): 14739<br>\",\"Country: Antigua and Barbuda<br>Development Index (Female): ..<br>Development Index (Male): ..<br>Life Expectancy (Female): 78.5<br>Life Expectancy (Male): 73.5<br>Mean Years of Education (Female): ..<br>Mean Years of Education (Male): ..<br>Estimated Gross National Income per Capita (Female): ..<br>Estimated Gross National Income per Capita (Male): ..<br>\",\"Country: Bulgaria<br>Development Index (Female): 0.777<br>Development Index (Male): 0.784<br>Life Expectancy (Female): 77.7<br>Life Expectancy (Male): 70.8<br>Mean Years of Education (Female): 10.6<br>Mean Years of Education (Male): 10.4<br>Estimated Gross National Income per Capita (Female): 12448<br>Estimated Gross National Income per Capita (Male): 18926<br>\",\"Country: Palau<br>Development Index (Female): ..<br>Development Index (Male): ..<br>Life Expectancy (Female): ..<br>Life Expectancy (Male): ..<br>Mean Years of Education (Female): ..<br>Mean Years of Education (Male): ..<br>Estimated Gross National Income per Capita (Female): ..<br>Estimated Gross National Income per Capita (Male): ..<br>\",\"Country: Panama<br>Development Index (Female): 0.776<br>Development Index (Male): 0.779<br>Life Expectancy (Female): 80.7<br>Life Expectancy (Male): 74.6<br>Mean Years of Education (Female): 9.6<br>Mean Years of Education (Male): 9.1<br>Estimated Gross National Income per Capita (Female): 13699<br>Estimated Gross National Income per Capita (Male): 22597<br>\",\"Country: Malaysia<br>Development Index (Female): 0.753<br>Development Index (Male): 0.795<br>Life Expectancy (Female): 77.1<br>Life Expectancy (Male): 72.4<br>Mean Years of Education (Female): 9.4<br>Mean Years of Education (Male): 10.1<br>Estimated Gross National Income per Capita (Female): 15635<br>Estimated Gross National Income per Capita (Male): 30320<br>\",\"Country: Mauritius<br>Development Index (Female): 0.752<br>Development Index (Male): 0.792<br>Life Expectancy (Female): 78<br>Life Expectancy (Male): 70.9<br>Mean Years of Education (Female): 8<br>Mean Years of Education (Male): 9.1<br>Estimated Gross National Income per Capita (Female): 10541<br>Estimated Gross National Income per Capita (Male): 24581<br>\",\"Country: Seychelles<br>Development Index (Female): ..<br>Development Index (Male): ..<br>Life Expectancy (Female): 78.1<br>Life Expectancy (Male): 68.9<br>Mean Years of Education (Female): ..<br>Mean Years of Education (Male): ..<br>Estimated Gross National Income per Capita (Female): ..<br>Estimated Gross National Income per Capita (Male): ..<br>\",\"Country: Trinidad and Tobago<br>Development Index (Female): 0.763<br>Development Index (Male): 0.774<br>Life Expectancy (Female): 74<br>Life Expectancy (Male): 67<br>Mean Years of Education (Female): 10.7<br>Mean Years of Education (Male): 10.9<br>Estimated Gross National Income per Capita (Female): 19669<br>Estimated Gross National Income per Capita (Male): 32656<br>\",\"Country: Serbia<br>Development Index (Female): 0.757<br>Development Index (Male): 0.784<br>Life Expectancy (Female): 77.7<br>Life Expectancy (Male): 72.1<br>Mean Years of Education (Female): 9.8<br>Mean Years of Education (Male): 11.2<br>Estimated Gross National Income per Capita (Female): 9697<br>Estimated Gross National Income per Capita (Male): 14799<br>\",\"Country: Cuba<br>Development Index (Female): 0.747<br>Development Index (Male): 0.783<br>Life Expectancy (Female): 81.5<br>Life Expectancy (Male): 77.4<br>Mean Years of Education (Female): 11.4<br>Mean Years of Education (Male): 11.6<br>Estimated Gross National Income per Capita (Female): 4912<br>Estimated Gross National Income per Capita (Male): 9665<br>\",\"Country: Lebanon<br>Development Index (Female): 0.718<br>Development Index (Male): 0.8<br>Life Expectancy (Female): 81.3<br>Life Expectancy (Male): 77.6<br>Mean Years of Education (Female): 7.6<br>Mean Years of Education (Male): 8.2<br>Estimated Gross National Income per Capita (Female): 7334<br>Estimated Gross National Income per Capita (Male): 25391<br>\",\"Country: Costa Rica<br>Development Index (Female): 0.753<br>Development Index (Male): 0.774<br>Life Expectancy (Female): 81.9<br>Life Expectancy (Male): 77<br>Mean Years of Education (Female): 8.4<br>Mean Years of Education (Male): 8.3<br>Estimated Gross National Income per Capita (Female): 9680<br>Estimated Gross National Income per Capita (Male): 17033<br>\",\"Country: Iran (Islamic Republic of)<br>Development Index (Female): 0.689<br>Development Index (Male): 0.804<br>Life Expectancy (Female): 76.5<br>Life Expectancy (Male): 74.3<br>Mean Years of Education (Female): 7.7<br>Mean Years of Education (Male): 8.6<br>Estimated Gross National Income per Capita (Female): 4828<br>Estimated Gross National Income per Capita (Male): 25924<br>\",\"Country: Venezuela (Bolivarian Republic of)<br>Development Index (Female): 0.772<br>Development Index (Male): 0.749<br>Life Expectancy (Female): 78.5<br>Life Expectancy (Male): 70.2<br>Mean Years of Education (Female): 9.2<br>Mean Years of Education (Male): 8.6<br>Estimated Gross National Income per Capita (Female): 12458<br>Estimated Gross National Income per Capita (Male): 19840<br>\",\"Country: Turkey<br>Development Index (Female): 0.716<br>Development Index (Male): 0.793<br>Life Expectancy (Female): 78.5<br>Life Expectancy (Male): 72<br>Mean Years of Education (Female): 6.7<br>Mean Years of Education (Male): 8.5<br>Estimated Gross National Income per Capita (Female): 10024<br>Estimated Gross National Income per Capita (Male): 27645<br>\",\"Country: Sri Lanka<br>Development Index (Female): 0.73<br>Development Index (Male): 0.769<br>Life Expectancy (Female): 78.2<br>Life Expectancy (Male): 71.5<br>Mean Years of Education (Female): 10.7<br>Mean Years of Education (Male): 10.9<br>Estimated Gross National Income per Capita (Female): 5452<br>Estimated Gross National Income per Capita (Male): 14307<br>\",\"Country: Mexico<br>Development Index (Female): 0.731<br>Development Index (Male): 0.775<br>Life Expectancy (Female): 79.2<br>Life Expectancy (Male): 74.4<br>Mean Years of Education (Female): 8.2<br>Mean Years of Education (Male): 8.8<br>Estimated Gross National Income per Capita (Female): 10233<br>Estimated Gross National Income per Capita (Male): 22252<br>\",\"Country: Brazil<br>Development Index (Female): 0.752<br>Development Index (Male): 0.754<br>Life Expectancy (Female): 78.3<br>Life Expectancy (Male): 70.7<br>Mean Years of Education (Female): 7.8<br>Mean Years of Education (Male): 7.5<br>Estimated Gross National Income per Capita (Female): 11393<br>Estimated Gross National Income per Capita (Male): 19084<br>\",\"Country: Georgia<br>Development Index (Female): 0.736<br>Development Index (Male): 0.765<br>Life Expectancy (Female): 78.4<br>Life Expectancy (Male): 71.2<br>Mean Years of Education (Female): 12<br>Mean Years of Education (Male): 12.3<br>Estimated Gross National Income per Capita (Female): 4887<br>Estimated Gross National Income per Capita (Male): 9718<br>\",\"Country: Saint Kitts and Nevis<br>Development Index (Female): ..<br>Development Index (Male): ..<br>Life Expectancy (Female): ..<br>Life Expectancy (Male): ..<br>Mean Years of Education (Female): ..<br>Mean Years of Education (Male): ..<br>Estimated Gross National Income per Capita (Female): ..<br>Estimated Gross National Income per Capita (Male): ..<br>\",\"Country: Azerbaijan<br>Development Index (Female): 0.721<br>Development Index (Male): 0.766<br>Life Expectancy (Female): 74<br>Life Expectancy (Male): 67.7<br>Mean Years of Education (Female): 10.5<br>Mean Years of Education (Male): 11.2<br>Estimated Gross National Income per Capita (Female): 10120<br>Estimated Gross National Income per Capita (Male): 22814<br>\",\"Country: Grenada<br>Development Index (Female): ..<br>Development Index (Male): ..<br>Life Expectancy (Female): 75.9<br>Life Expectancy (Male): 71<br>Mean Years of Education (Female): ..<br>Mean Years of Education (Male): ..<br>Estimated Gross National Income per Capita (Female): ..<br>Estimated Gross National Income per Capita (Male): ..<br>\",\"Country: Jordan<br>Development Index (Female): 0.674<br>Development Index (Male): 0.784<br>Life Expectancy (Female): 75.8<br>Life Expectancy (Male): 72.4<br>Mean Years of Education (Female): 9.3<br>Mean Years of Education (Male): 10.5<br>Estimated Gross National Income per Capita (Female): 3587<br>Estimated Gross National Income per Capita (Male): 18831<br>\",\"Country: The former Yugoslav Republic of Macedonia<br>Development Index (Female): 0.726<br>Development Index (Male): 0.765<br>Life Expectancy (Female): 77.7<br>Life Expectancy (Male): 73.1<br>Mean Years of Education (Female): 8.7<br>Mean Years of Education (Male): 9.8<br>Estimated Gross National Income per Capita (Female): 8796<br>Estimated Gross National Income per Capita (Male): 14754<br>\",\"Country: Ukraine<br>Development Index (Female): 0.747<br>Development Index (Male): 0.745<br>Life Expectancy (Female): 75.9<br>Life Expectancy (Male): 66<br>Mean Years of Education (Female): 11.3<br>Mean Years of Education (Male): 11.4<br>Estimated Gross National Income per Capita (Female): 6518<br>Estimated Gross National Income per Capita (Male): 10120<br>\",\"Country: Algeria<br>Development Index (Female): 0.637<br>Development Index (Male): 0.761<br>Life Expectancy (Female): 77.2<br>Life Expectancy (Male): 72.5<br>Mean Years of Education (Female): 4.8<br>Mean Years of Education (Male): 7.8<br>Estimated Gross National Income per Capita (Female): 3898<br>Estimated Gross National Income per Capita (Male): 22009<br>\",\"Country: Peru<br>Development Index (Female): 0.712<br>Development Index (Male): 0.752<br>Life Expectancy (Female): 77.2<br>Life Expectancy (Male): 71.9<br>Mean Years of Education (Female): 8.5<br>Mean Years of Education (Male): 9.6<br>Estimated Gross National Income per Capita (Female): 8040<br>Estimated Gross National Income per Capita (Male): 13977<br>\",\"Country: Albania<br>Development Index (Female): 0.711<br>Development Index (Male): 0.75<br>Life Expectancy (Female): 80.4<br>Life Expectancy (Male): 75.4<br>Mean Years of Education (Female): 8.9<br>Mean Years of Education (Male): 9.6<br>Estimated Gross National Income per Capita (Female): 7217<br>Estimated Gross National Income per Capita (Male): 12655<br>\",\"Country: Armenia<br>Development Index (Female): 0.734<br>Development Index (Male): 0.728<br>Life Expectancy (Female): 78.6<br>Life Expectancy (Male): 70.9<br>Mean Years of Education (Female): 10.8<br>Mean Years of Education (Male): 10.9<br>Estimated Gross National Income per Capita (Female): 6042<br>Estimated Gross National Income per Capita (Male): 10089<br>\",\"Country: Bosnia and Herzegovina<br>Development Index (Female): ..<br>Development Index (Male): ..<br>Life Expectancy (Female): 79<br>Life Expectancy (Male): 74<br>Mean Years of Education (Female): 6.6<br>Mean Years of Education (Male): 8.6<br>Estimated Gross National Income per Capita (Female): 6514<br>Estimated Gross National Income per Capita (Male): 12912<br>\",\"Country: Ecuador<br>Development Index (Female): 0.722<br>Development Index (Male): 0.737<br>Life Expectancy (Female): 78.7<br>Life Expectancy (Male): 73.2<br>Mean Years of Education (Female): 7.4<br>Mean Years of Education (Male): 7.6<br>Estimated Gross National Income per Capita (Female): 8487<br>Estimated Gross National Income per Capita (Male): 12723<br>\",\"Country: Saint Lucia<br>Development Index (Female): 0.725<br>Development Index (Male): 0.731<br>Life Expectancy (Female): 77.8<br>Life Expectancy (Male): 72.4<br>Mean Years of Education (Female): 9.4<br>Mean Years of Education (Male): 9.3<br>Estimated Gross National Income per Capita (Female): 8018<br>Estimated Gross National Income per Capita (Male): 11576<br>\",\"Country: China<br>Development Index (Female): 0.705<br>Development Index (Male): 0.747<br>Life Expectancy (Female): 77.3<br>Life Expectancy (Male): 74.3<br>Mean Years of Education (Female): 6.9<br>Mean Years of Education (Male): 8.2<br>Estimated Gross National Income per Capita (Female): 10128<br>Estimated Gross National Income per Capita (Male): 14795<br>\",\"Country: Fiji<br>Development Index (Female): 0.699<br>Development Index (Male): 0.743<br>Life Expectancy (Female): 73.2<br>Life Expectancy (Male): 67.2<br>Mean Years of Education (Female): 9.8<br>Mean Years of Education (Male): 10<br>Estimated Gross National Income per Capita (Female): 4274<br>Estimated Gross National Income per Capita (Male): 10592<br>\",\"Country: Mongolia<br>Development Index (Female): 0.737<br>Development Index (Male): 0.716<br>Life Expectancy (Female): 73.9<br>Life Expectancy (Male): 65.3<br>Mean Years of Education (Female): 9.5<br>Mean Years of Education (Male): 9<br>Estimated Gross National Income per Capita (Female): 9029<br>Estimated Gross National Income per Capita (Male): 12462<br>\",\"Country: Thailand<br>Development Index (Female): 0.726<br>Development Index (Male): 0.726<br>Life Expectancy (Female): 77.9<br>Life Expectancy (Male): 71.1<br>Mean Years of Education (Female): 7.1<br>Mean Years of Education (Male): 7.5<br>Estimated Gross National Income per Capita (Female): 11820<br>Estimated Gross National Income per Capita (Male): 14888<br>\",\"Country: Dominica<br>Development Index (Female): ..<br>Development Index (Male): ..<br>Life Expectancy (Female): ..<br>Life Expectancy (Male): ..<br>Mean Years of Education (Female): ..<br>Mean Years of Education (Male): ..<br>Estimated Gross National Income per Capita (Female): ..<br>Estimated Gross National Income per Capita (Male): ..<br>\",\"Country: Libya<br>Development Index (Female): 0.699<br>Development Index (Male): 0.736<br>Life Expectancy (Female): 74.6<br>Life Expectancy (Male): 68.9<br>Mean Years of Education (Female): 7.7<br>Mean Years of Education (Male): 7<br>Estimated Gross National Income per Capita (Female): 7427<br>Estimated Gross National Income per Capita (Male): 22392<br>\",\"Country: Tunisia<br>Development Index (Female): 0.671<br>Development Index (Male): 0.751<br>Life Expectancy (Female): 77.3<br>Life Expectancy (Male): 72.5<br>Mean Years of Education (Female): 5.9<br>Mean Years of Education (Male): 7.8<br>Estimated Gross National Income per Capita (Female): 4748<br>Estimated Gross National Income per Capita (Male): 16159<br>\",\"Country: Colombia<br>Development Index (Female): 0.719<br>Development Index (Male): 0.721<br>Life Expectancy (Female): 77.7<br>Life Expectancy (Male): 70.5<br>Mean Years of Education (Female): 7.4<br>Mean Years of Education (Male): 7.3<br>Estimated Gross National Income per Capita (Female): 9785<br>Estimated Gross National Income per Capita (Male): 14372<br>\",\"Country: Saint Vincent and the Grenadines<br>Development Index (Female): ..<br>Development Index (Male): ..<br>Life Expectancy (Female): 75.1<br>Life Expectancy (Male): 70.9<br>Mean Years of Education (Female): ..<br>Mean Years of Education (Male): ..<br>Estimated Gross National Income per Capita (Female): 7283<br>Estimated Gross National Income per Capita (Male): 12541<br>\",\"Country: Jamaica<br>Development Index (Female): 0.715<br>Development Index (Male): 0.719<br>Life Expectancy (Female): 78.1<br>Life Expectancy (Male): 73.3<br>Mean Years of Education (Female): 10<br>Mean Years of Education (Male): 9.4<br>Estimated Gross National Income per Capita (Female): 5820<br>Estimated Gross National Income per Capita (Male): 9059<br>\",\"Country: Tonga<br>Development Index (Female): 0.704<br>Development Index (Male): 0.727<br>Life Expectancy (Female): 75.8<br>Life Expectancy (Male): 69.9<br>Mean Years of Education (Female): 10.7<br>Mean Years of Education (Male): 10.8<br>Estimated Gross National Income per Capita (Female): 3796<br>Estimated Gross National Income per Capita (Male): 6336<br>\",\"Country: Belize<br>Development Index (Female): 0.696<br>Development Index (Male): 0.727<br>Life Expectancy (Female): 72.9<br>Life Expectancy (Male): 67.4<br>Mean Years of Education (Female): 10.5<br>Mean Years of Education (Male): 10.5<br>Estimated Gross National Income per Capita (Female): 5034<br>Estimated Gross National Income per Capita (Male): 10198<br>\",\"Country: Dominican Republic<br>Development Index (Female): 0.71<br>Development Index (Male): 0.713<br>Life Expectancy (Female): 76.7<br>Life Expectancy (Male): 70.4<br>Mean Years of Education (Female): 7.7<br>Mean Years of Education (Male): 7.2<br>Estimated Gross National Income per Capita (Female): 8860<br>Estimated Gross National Income per Capita (Male): 14903<br>\",\"Country: Suriname<br>Development Index (Female): 0.702<br>Development Index (Male): 0.72<br>Life Expectancy (Female): 74.4<br>Life Expectancy (Male): 68<br>Mean Years of Education (Female): 7.3<br>Mean Years of Education (Male): 8<br>Estimated Gross National Income per Capita (Female): 10241<br>Estimated Gross National Income per Capita (Male): 20970<br>\",\"Country: Maldives<br>Development Index (Female): 0.678<br>Development Index (Male): 0.723<br>Life Expectancy (Female): 77.8<br>Life Expectancy (Male): 75.8<br>Mean Years of Education (Female): 5.7<br>Mean Years of Education (Male): 6<br>Estimated Gross National Income per Capita (Female): 8531<br>Estimated Gross National Income per Capita (Male): 16073<br>\",\"Country: Samoa<br>Development Index (Female): 0.681<br>Development Index (Male): 0.713<br>Life Expectancy (Female): 76.8<br>Life Expectancy (Male): 70.4<br>Mean Years of Education (Female): 10.3<br>Mean Years of Education (Male): 10.3<br>Estimated Gross National Income per Capita (Female): 3416<br>Estimated Gross National Income per Capita (Male): 7124<br>\",\"Country: Botswana<br>Development Index (Female): 0.691<br>Development Index (Male): 0.704<br>Life Expectancy (Female): 66.8<br>Life Expectancy (Male): 62.1<br>Mean Years of Education (Female): 8.7<br>Mean Years of Education (Male): 9.1<br>Estimated Gross National Income per Capita (Female): 15179<br>Estimated Gross National Income per Capita (Male): 18096<br>\",\"Country: Moldova (Republic of)<br>Development Index (Female): 0.694<br>Development Index (Male): 0.692<br>Life Expectancy (Female): 75.7<br>Life Expectancy (Male): 67.4<br>Mean Years of Education (Female): 11.1<br>Mean Years of Education (Male): 11.3<br>Estimated Gross National Income per Capita (Female): 4599<br>Estimated Gross National Income per Capita (Male): 5915<br>\",\"Country: Egypt<br>Development Index (Female): 0.633<br>Development Index (Male): 0.729<br>Life Expectancy (Female): 73.4<br>Life Expectancy (Male): 69<br>Mean Years of Education (Female): 5.4<br>Mean Years of Education (Male): 7.7<br>Estimated Gross National Income per Capita (Female): 4928<br>Estimated Gross National Income per Capita (Male): 16049<br>\",\"Country: Turkmenistan<br>Development Index (Female): ..<br>Development Index (Male): ..<br>Life Expectancy (Female): 69.9<br>Life Expectancy (Male): 61.5<br>Mean Years of Education (Female): ..<br>Mean Years of Education (Male): ..<br>Estimated Gross National Income per Capita (Female): 8725<br>Estimated Gross National Income per Capita (Male): 17552<br>\",\"Country: Gabon<br>Development Index (Female): ..<br>Development Index (Male): ..<br>Life Expectancy (Female): 65<br>Life Expectancy (Male): 63.8<br>Mean Years of Education (Female): 8.9<br>Mean Years of Education (Male): 6.6<br>Estimated Gross National Income per Capita (Female): 13527<br>Estimated Gross National Income per Capita (Male): 19177<br>\",\"Country: Indonesia<br>Development Index (Female): 0.655<br>Development Index (Male): 0.706<br>Life Expectancy (Female): 71<br>Life Expectancy (Male): 66.9<br>Mean Years of Education (Female): 7<br>Mean Years of Education (Male): 8.2<br>Estimated Gross National Income per Capita (Female): 6485<br>Estimated Gross National Income per Capita (Male): 13052<br>\",\"Country: Paraguay<br>Development Index (Female): 0.662<br>Development Index (Male): 0.692<br>Life Expectancy (Female): 75.1<br>Life Expectancy (Male): 70.8<br>Mean Years of Education (Female): 7.5<br>Mean Years of Education (Male): 7.9<br>Estimated Gross National Income per Capita (Female): 5576<br>Estimated Gross National Income per Capita (Male): 9678<br>\",\"Country: Palestine, State of<br>Development Index (Female): 0.607<br>Development Index (Male): 0.706<br>Life Expectancy (Female): 74.9<br>Life Expectancy (Male): 71<br>Mean Years of Education (Female): 8.4<br>Mean Years of Education (Male): 9.3<br>Estimated Gross National Income per Capita (Female): 1580<br>Estimated Gross National Income per Capita (Male): 7726<br>\",\"Country: Uzbekistan<br>Development Index (Female): 0.64<br>Development Index (Male): 0.678<br>Life Expectancy (Female): 71.8<br>Life Expectancy (Male): 65<br>Mean Years of Education (Female): 9.5<br>Mean Years of Education (Male): 9.9<br>Estimated Gross National Income per Capita (Female): 3811<br>Estimated Gross National Income per Capita (Male): 7342<br>\",\"Country: Philippines<br>Development Index (Female): 0.649<br>Development Index (Male): 0.664<br>Life Expectancy (Female): 71.8<br>Life Expectancy (Male): 64.9<br>Mean Years of Education (Female): 8.4<br>Mean Years of Education (Male): 7.9<br>Estimated Gross National Income per Capita (Female): 5382<br>Estimated Gross National Income per Capita (Male): 10439<br>\",\"Country: El Salvador<br>Development Index (Female): 0.652<br>Development Index (Male): 0.676<br>Life Expectancy (Female): 77.4<br>Life Expectancy (Male): 68.3<br>Mean Years of Education (Female): 6.2<br>Mean Years of Education (Male): 6.9<br>Estimated Gross National Income per Capita (Female): 5497<br>Estimated Gross National Income per Capita (Male): 9406<br>\",\"Country: South Africa<br>Development Index (Female): 0.646<br>Development Index (Male): 0.681<br>Life Expectancy (Female): 59.3<br>Life Expectancy (Male): 55.2<br>Mean Years of Education (Female): 9.7<br>Mean Years of Education (Male): 10.2<br>Estimated Gross National Income per Capita (Female): 8713<br>Estimated Gross National Income per Capita (Male): 15737<br>\",\"Country: Viet Nam<br>Development Index (Female): ..<br>Development Index (Male): ..<br>Life Expectancy (Female): 80.5<br>Life Expectancy (Male): 71<br>Mean Years of Education (Female): 7<br>Mean Years of Education (Male): 7.9<br>Estimated Gross National Income per Capita (Female): 4624<br>Estimated Gross National Income per Capita (Male): 5570<br>\",\"Country: Bolivia (Plurinational State of)<br>Development Index (Female): 0.637<br>Development Index (Male): 0.684<br>Life Expectancy (Female): 70.9<br>Life Expectancy (Male): 65.9<br>Mean Years of Education (Female): 7.5<br>Mean Years of Education (Male): 8.9<br>Estimated Gross National Income per Capita (Female): 4383<br>Estimated Gross National Income per Capita (Male): 7140<br>\",\"Country: Kyrgyzstan<br>Development Index (Female): 0.638<br>Development Index (Male): 0.664<br>Life Expectancy (Female): 74.6<br>Life Expectancy (Male): 66.6<br>Mean Years of Education (Female): 10.5<br>Mean Years of Education (Male): 10.6<br>Estimated Gross National Income per Capita (Female): 2122<br>Estimated Gross National Income per Capita (Male): 3992<br>\",\"Country: Iraq<br>Development Index (Female): 0.561<br>Development Index (Male): 0.712<br>Life Expectancy (Female): 71.7<br>Life Expectancy (Male): 67.2<br>Mean Years of Education (Female): 5.1<br>Mean Years of Education (Male): 7.7<br>Estimated Gross National Income per Capita (Female): 4279<br>Estimated Gross National Income per Capita (Male): 23515<br>\",\"Country: Cabo Verde<br>Development Index (Female): ..<br>Development Index (Male): ..<br>Life Expectancy (Female): 75<br>Life Expectancy (Male): 71.4<br>Mean Years of Education (Female): ..<br>Mean Years of Education (Male): ..<br>Estimated Gross National Income per Capita (Female): 4098<br>Estimated Gross National Income per Capita (Male): 8105<br>\",\"Country: Micronesia (Federated States of)<br>Development Index (Female): ..<br>Development Index (Male): ..<br>Life Expectancy (Female): 70.1<br>Life Expectancy (Male): 68.1<br>Mean Years of Education (Female): ..<br>Mean Years of Education (Male): ..<br>Estimated Gross National Income per Capita (Female): ..<br>Estimated Gross National Income per Capita (Male): ..<br>\",\"Country: Guyana<br>Development Index (Female): 0.626<br>Development Index (Male): 0.636<br>Life Expectancy (Female): 68.8<br>Life Expectancy (Male): 64.2<br>Mean Years of Education (Female): 8.9<br>Mean Years of Education (Male): 8<br>Estimated Gross National Income per Capita (Female): 4164<br>Estimated Gross National Income per Capita (Male): 8804<br>\",\"Country: Nicaragua<br>Development Index (Female): 0.615<br>Development Index (Male): 0.64<br>Life Expectancy (Female): 77.9<br>Life Expectancy (Male): 71.9<br>Mean Years of Education (Female): 6.2<br>Mean Years of Education (Male): 5.8<br>Estimated Gross National Income per Capita (Female): 2967<br>Estimated Gross National Income per Capita (Male): 5979<br>\",\"Country: Morocco<br>Development Index (Female): 0.555<br>Development Index (Male): 0.67<br>Life Expectancy (Female): 75.1<br>Life Expectancy (Male): 73<br>Mean Years of Education (Female): 3.2<br>Mean Years of Education (Male): 5.3<br>Estimated Gross National Income per Capita (Female): 3222<br>Estimated Gross National Income per Capita (Male): 10573<br>\",\"Country: Namibia<br>Development Index (Female): 0.62<br>Development Index (Male): 0.632<br>Life Expectancy (Female): 67.3<br>Life Expectancy (Male): 62.1<br>Mean Years of Education (Female): 6.3<br>Mean Years of Education (Male): 6.1<br>Estimated Gross National Income per Capita (Female): 7672<br>Estimated Gross National Income per Capita (Male): 11267<br>\",\"Country: Guatemala<br>Development Index (Female): 0.608<br>Development Index (Male): 0.641<br>Life Expectancy (Female): 75.3<br>Life Expectancy (Male): 68.3<br>Mean Years of Education (Female): 5.5<br>Mean Years of Education (Male): 5.7<br>Estimated Gross National Income per Capita (Female): 5021<br>Estimated Gross National Income per Capita (Male): 8934<br>\",\"Country: Tajikistan<br>Development Index (Female): 0.6<br>Development Index (Male): 0.648<br>Life Expectancy (Female): 73.2<br>Life Expectancy (Male): 66.2<br>Mean Years of Education (Female): 9.6<br>Mean Years of Education (Male): 11.2<br>Estimated Gross National Income per Capita (Female): 2014<br>Estimated Gross National Income per Capita (Male): 3017<br>\",\"Country: India<br>Development Index (Female): 0.525<br>Development Index (Male): 0.66<br>Life Expectancy (Female): 69.5<br>Life Expectancy (Male): 66.6<br>Mean Years of Education (Female): 3.6<br>Mean Years of Education (Male): 7.2<br>Estimated Gross National Income per Capita (Female): 2116<br>Estimated Gross National Income per Capita (Male): 8656<br>\",\"Country: Honduras<br>Development Index (Female): 0.583<br>Development Index (Male): 0.618<br>Life Expectancy (Female): 75.7<br>Life Expectancy (Male): 70.7<br>Mean Years of Education (Female): 5.5<br>Mean Years of Education (Male): 5.4<br>Estimated Gross National Income per Capita (Female): 2365<br>Estimated Gross National Income per Capita (Male): 5508<br>\",\"Country: Bhutan<br>Development Index (Female): 0.572<br>Development Index (Male): 0.638<br>Life Expectancy (Female): 69.7<br>Life Expectancy (Male): 69.2<br>Mean Years of Education (Female): 2<br>Mean Years of Education (Male): 4.1<br>Estimated Gross National Income per Capita (Female): 5733<br>Estimated Gross National Income per Capita (Male): 8418<br>\",\"Country: Timor-Leste<br>Development Index (Female): 0.548<br>Development Index (Male): 0.631<br>Life Expectancy (Female): 70.1<br>Life Expectancy (Male): 66.5<br>Mean Years of Education (Female): 3.6<br>Mean Years of Education (Male): 5.3<br>Estimated Gross National Income per Capita (Female): 3122<br>Estimated Gross National Income per Capita (Male): 7530<br>\",\"Country: Syrian Arab Republic<br>Development Index (Female): 0.52<br>Development Index (Male): 0.623<br>Life Expectancy (Female): 76.5<br>Life Expectancy (Male): 64<br>Mean Years of Education (Female): 5.4<br>Mean Years of Education (Male): 7.4<br>Estimated Gross National Income per Capita (Female): 864<br>Estimated Gross National Income per Capita (Male): 4523<br>\",\"Country: Vanuatu<br>Development Index (Female): 0.587<br>Development Index (Male): 0.65<br>Life Expectancy (Female): 74<br>Life Expectancy (Male): 69.9<br>Mean Years of Education (Female): 8<br>Mean Years of Education (Male): 10<br>Estimated Gross National Income per Capita (Female): 2141<br>Estimated Gross National Income per Capita (Male): 3445<br>\",\"Country: Congo<br>Development Index (Female): 0.561<br>Development Index (Male): 0.609<br>Life Expectancy (Female): 63.9<br>Life Expectancy (Male): 60.8<br>Mean Years of Education (Female): 4.9<br>Mean Years of Education (Male): 6.5<br>Estimated Gross National Income per Capita (Female): 5165<br>Estimated Gross National Income per Capita (Male): 6859<br>\",\"Country: Kiribati<br>Development Index (Female): ..<br>Development Index (Male): ..<br>Life Expectancy (Female): 69.2<br>Life Expectancy (Male): 62.8<br>Mean Years of Education (Female): ..<br>Mean Years of Education (Male): ..<br>Estimated Gross National Income per Capita (Female): ..<br>Estimated Gross National Income per Capita (Male): ..<br>\",\"Country: Equatorial Guinea<br>Development Index (Female): ..<br>Development Index (Male): ..<br>Life Expectancy (Female): 59<br>Life Expectancy (Male): 56.3<br>Mean Years of Education (Female): 4<br>Mean Years of Education (Male): 7.2<br>Estimated Gross National Income per Capita (Female): 17073<br>Estimated Gross National Income per Capita (Male): 24850<br>\",\"Country: Zambia<br>Development Index (Female): 0.558<br>Development Index (Male): 0.609<br>Life Expectancy (Female): 62<br>Life Expectancy (Male): 58.2<br>Mean Years of Education (Female): 5.8<br>Mean Years of Education (Male): 7.3<br>Estimated Gross National Income per Capita (Female): 3019<br>Estimated Gross National Income per Capita (Male): 4452<br>\",\"Country: Ghana<br>Development Index (Female): 0.54<br>Development Index (Male): 0.61<br>Life Expectancy (Female): 62.3<br>Life Expectancy (Male): 60.4<br>Mean Years of Education (Female): 5.6<br>Mean Years of Education (Male): 7.9<br>Estimated Gross National Income per Capita (Female): 3200<br>Estimated Gross National Income per Capita (Male): 4515<br>\",\"Country: Lao People's Democratic Republic<br>Development Index (Female): 0.543<br>Development Index (Male): 0.606<br>Life Expectancy (Female): 67.5<br>Life Expectancy (Male): 64.8<br>Mean Years of Education (Female): 3.9<br>Mean Years of Education (Male): 6.1<br>Estimated Gross National Income per Capita (Female): 4086<br>Estimated Gross National Income per Capita (Male): 5279<br>\",\"Country: Bangladesh<br>Development Index (Female): 0.541<br>Development Index (Male): 0.59<br>Life Expectancy (Female): 72.9<br>Life Expectancy (Male): 70.4<br>Mean Years of Education (Female): 4.5<br>Mean Years of Education (Male): 5.5<br>Estimated Gross National Income per Capita (Female): 2278<br>Estimated Gross National Income per Capita (Male): 4083<br>\",\"Country: Cambodia<br>Development Index (Female): 0.519<br>Development Index (Male): 0.584<br>Life Expectancy (Female): 70.3<br>Life Expectancy (Male): 66.2<br>Mean Years of Education (Female): 3.2<br>Mean Years of Education (Male): 5.4<br>Estimated Gross National Income per Capita (Female): 2526<br>Estimated Gross National Income per Capita (Male): 3393<br>\",\"Country: Sao Tome and Principe<br>Development Index (Female): 0.52<br>Development Index (Male): 0.584<br>Life Expectancy (Female): 68.4<br>Life Expectancy (Male): 64.4<br>Mean Years of Education (Female): 4<br>Mean Years of Education (Male): 5.5<br>Estimated Gross National Income per Capita (Female): 1886<br>Estimated Gross National Income per Capita (Male): 3976<br>\",\"Country: Kenya<br>Development Index (Female): 0.527<br>Development Index (Male): 0.577<br>Life Expectancy (Female): 63.4<br>Life Expectancy (Male): 59.9<br>Mean Years of Education (Female): 5.9<br>Mean Years of Education (Male): 7.3<br>Estimated Gross National Income per Capita (Female): 2255<br>Estimated Gross National Income per Capita (Male): 3270<br>\",\"Country: Nepal<br>Development Index (Female): 0.521<br>Development Index (Male): 0.574<br>Life Expectancy (Female): 71.1<br>Life Expectancy (Male): 68.2<br>Mean Years of Education (Female): 2.3<br>Mean Years of Education (Male): 4.5<br>Estimated Gross National Income per Capita (Female): 1956<br>Estimated Gross National Income per Capita (Male): 2690<br>\",\"Country: Pakistan<br>Development Index (Female): 0.436<br>Development Index (Male): 0.601<br>Life Expectancy (Female): 67.2<br>Life Expectancy (Male): 65.3<br>Mean Years of Education (Female): 3.1<br>Mean Years of Education (Male): 6.2<br>Estimated Gross National Income per Capita (Female): 1450<br>Estimated Gross National Income per Capita (Male): 8100<br>\",\"Country: Myanmar<br>Development Index (Female): ..<br>Development Index (Male): ..<br>Life Expectancy (Female): 68<br>Life Expectancy (Male): 63.9<br>Mean Years of Education (Female): 4.3<br>Mean Years of Education (Male): 3.8<br>Estimated Gross National Income per Capita (Female): 3873<br>Estimated Gross National Income per Capita (Male): 5386<br>\",\"Country: Angola<br>Development Index (Female): ..<br>Development Index (Male): ..<br>Life Expectancy (Female): 53.8<br>Life Expectancy (Male): 50.8<br>Mean Years of Education (Female): ..<br>Mean Years of Education (Male): ..<br>Estimated Gross National Income per Capita (Female): 5497<br>Estimated Gross National Income per Capita (Male): 8169<br>\",\"Country: Swaziland<br>Development Index (Female): 0.494<br>Development Index (Male): 0.561<br>Life Expectancy (Female): 48.2<br>Life Expectancy (Male): 49.6<br>Mean Years of Education (Female): 7.4<br>Mean Years of Education (Male): 6.8<br>Estimated Gross National Income per Capita (Female): 3894<br>Estimated Gross National Income per Capita (Male): 7235<br>\",\"Country: Tanzania (United Republic of)<br>Development Index (Female): 0.504<br>Development Index (Male): 0.538<br>Life Expectancy (Female): 66.4<br>Life Expectancy (Male): 63.5<br>Mean Years of Education (Female): 4.5<br>Mean Years of Education (Male): 5.8<br>Estimated Gross National Income per Capita (Female): 2320<br>Estimated Gross National Income per Capita (Male): 2502<br>\",\"Country: Nigeria<br>Development Index (Female): 0.468<br>Development Index (Male): 0.556<br>Life Expectancy (Female): 53.1<br>Life Expectancy (Male): 52.4<br>Mean Years of Education (Female): 4.9<br>Mean Years of Education (Male): 7.1<br>Estimated Gross National Income per Capita (Female): 4052<br>Estimated Gross National Income per Capita (Male): 6585<br>\",\"Country: Cameroon<br>Development Index (Female): 0.478<br>Development Index (Male): 0.544<br>Life Expectancy (Female): 56.7<br>Life Expectancy (Male): 54.4<br>Mean Years of Education (Female): 5.3<br>Mean Years of Education (Male): 6.7<br>Estimated Gross National Income per Capita (Female): 2266<br>Estimated Gross National Income per Capita (Male): 3341<br>\",\"Country: Madagascar<br>Development Index (Female): 0.497<br>Development Index (Male): 0.526<br>Life Expectancy (Female): 66.6<br>Life Expectancy (Male): 63.6<br>Mean Years of Education (Female): 6.6<br>Mean Years of Education (Male): 6.1<br>Estimated Gross National Income per Capita (Female): 1098<br>Estimated Gross National Income per Capita (Male): 1560<br>\",\"Country: Zimbabwe<br>Development Index (Female): 0.487<br>Development Index (Male): 0.529<br>Life Expectancy (Female): 58.9<br>Life Expectancy (Male): 56.2<br>Mean Years of Education (Female): 6.7<br>Mean Years of Education (Male): 7.7<br>Estimated Gross National Income per Capita (Female): 1387<br>Estimated Gross National Income per Capita (Male): 1850<br>\",\"Country: Mauritania<br>Development Index (Female): 0.446<br>Development Index (Male): 0.546<br>Life Expectancy (Female): 64.5<br>Life Expectancy (Male): 61.6<br>Mean Years of Education (Female): 2.7<br>Mean Years of Education (Male): 4.8<br>Estimated Gross National Income per Capita (Female): 1625<br>Estimated Gross National Income per Capita (Male): 5468<br>\",\"Country: Solomon Islands<br>Development Index (Female): ..<br>Development Index (Male): ..<br>Life Expectancy (Female): 69.4<br>Life Expectancy (Male): 66.5<br>Mean Years of Education (Female): ..<br>Mean Years of Education (Male): ..<br>Estimated Gross National Income per Capita (Female): 1046<br>Estimated Gross National Income per Capita (Male): 2019<br>\",\"Country: Papua New Guinea<br>Development Index (Female): ..<br>Development Index (Male): ..<br>Life Expectancy (Female): 64.8<br>Life Expectancy (Male): 60.5<br>Mean Years of Education (Female): 3.2<br>Mean Years of Education (Male): 4.8<br>Estimated Gross National Income per Capita (Female): 2145<br>Estimated Gross National Income per Capita (Male): 2768<br>\",\"Country: Comoros<br>Development Index (Female): 0.443<br>Development Index (Male): 0.545<br>Life Expectancy (Female): 65<br>Life Expectancy (Male): 61.6<br>Mean Years of Education (Female): 3.7<br>Mean Years of Education (Male): 5.6<br>Estimated Gross National Income per Capita (Female): 778<br>Estimated Gross National Income per Capita (Male): 2123<br>\",\"Country: Yemen<br>Development Index (Female): 0.414<br>Development Index (Male): 0.56<br>Life Expectancy (Female): 65.2<br>Life Expectancy (Male): 62.5<br>Mean Years of Education (Female): 1.3<br>Mean Years of Education (Male): 3.8<br>Estimated Gross National Income per Capita (Female): 1595<br>Estimated Gross National Income per Capita (Male): 5412<br>\",\"Country: Lesotho<br>Development Index (Female): 0.482<br>Development Index (Male): 0.505<br>Life Expectancy (Female): 49.8<br>Life Expectancy (Male): 49.6<br>Mean Years of Education (Female): 6.5<br>Mean Years of Education (Male): 5.2<br>Estimated Gross National Income per Capita (Female): 2613<br>Estimated Gross National Income per Capita (Male): 4017<br>\",\"Country: Togo<br>Development Index (Female): 0.439<br>Development Index (Male): 0.527<br>Life Expectancy (Female): 60.4<br>Life Expectancy (Male): 58.9<br>Mean Years of Education (Female): 3<br>Mean Years of Education (Male): 6.3<br>Estimated Gross National Income per Capita (Female): 1084<br>Estimated Gross National Income per Capita (Male): 1376<br>\",\"Country: Haiti<br>Development Index (Female): ..<br>Development Index (Male): ..<br>Life Expectancy (Female): 64.9<br>Life Expectancy (Male): 60.7<br>Mean Years of Education (Female): 4.2<br>Mean Years of Education (Male): 5.6<br>Estimated Gross National Income per Capita (Female): 1379<br>Estimated Gross National Income per Capita (Male): 1966<br>\",\"Country: Rwanda<br>Development Index (Female): 0.472<br>Development Index (Male): 0.493<br>Life Expectancy (Female): 67<br>Life Expectancy (Male): 61.1<br>Mean Years of Education (Female): 3.2<br>Mean Years of Education (Male): 4.3<br>Estimated Gross National Income per Capita (Female): 1312<br>Estimated Gross National Income per Capita (Male): 1612<br>\",\"Country: Uganda<br>Development Index (Female): 0.452<br>Development Index (Male): 0.51<br>Life Expectancy (Female): 60.3<br>Life Expectancy (Male): 56.7<br>Mean Years of Education (Female): 4.5<br>Mean Years of Education (Male): 6.3<br>Estimated Gross National Income per Capita (Female): 1226<br>Estimated Gross National Income per Capita (Male): 1997<br>\",\"Country: Benin<br>Development Index (Female): 0.431<br>Development Index (Male): 0.524<br>Life Expectancy (Female): 61<br>Life Expectancy (Male): 58.1<br>Mean Years of Education (Female): 2.1<br>Mean Years of Education (Male): 4.6<br>Estimated Gross National Income per Capita (Female): 1493<br>Estimated Gross National Income per Capita (Male): 2043<br>\",\"Country: Sudan<br>Development Index (Female): 0.428<br>Development Index (Male): 0.516<br>Life Expectancy (Female): 65<br>Life Expectancy (Male): 62<br>Mean Years of Education (Female): 2.5<br>Mean Years of Education (Male): 3.8<br>Estimated Gross National Income per Capita (Female): 1882<br>Estimated Gross National Income per Capita (Male): 5722<br>\",\"Country: Djibouti<br>Development Index (Female): ..<br>Development Index (Male): ..<br>Life Expectancy (Female): 63.7<br>Life Expectancy (Male): 60.4<br>Mean Years of Education (Female): ..<br>Mean Years of Education (Male): ..<br>Estimated Gross National Income per Capita (Female): 2019<br>Estimated Gross National Income per Capita (Male): 4522<br>\",\"Country: South Sudan<br>Development Index (Female): ..<br>Development Index (Male): ..<br>Life Expectancy (Female): 56.7<br>Life Expectancy (Male): 54.7<br>Mean Years of Education (Female): 4.5<br>Mean Years of Education (Male): 5.8<br>Estimated Gross National Income per Capita (Female): ..<br>Estimated Gross National Income per Capita (Male): ..<br>\",\"Country: Senegal<br>Development Index (Female): 0.436<br>Development Index (Male): 0.494<br>Life Expectancy (Female): 68.3<br>Life Expectancy (Male): 64.5<br>Mean Years of Education (Female): 1.8<br>Mean Years of Education (Male): 3.2<br>Estimated Gross National Income per Capita (Female): 1657<br>Estimated Gross National Income per Capita (Male): 2739<br>\",\"Country: Afghanistan<br>Development Index (Female): 0.328<br>Development Index (Male): 0.546<br>Life Expectancy (Female): 61.6<br>Life Expectancy (Male): 59.2<br>Mean Years of Education (Female): 1.2<br>Mean Years of Education (Male): 5.1<br>Estimated Gross National Income per Capita (Female): 506<br>Estimated Gross National Income per Capita (Male): 3227<br>\",\"Country: C\\u00f4te d'Ivoire<br>Development Index (Female): 0.41<br>Development Index (Male): 0.507<br>Life Expectancy (Female): 52.4<br>Life Expectancy (Male): 50.7<br>Mean Years of Education (Female): 3.2<br>Mean Years of Education (Male): 5.3<br>Estimated Gross National Income per Capita (Female): 2146<br>Estimated Gross National Income per Capita (Male): 4157<br>\",\"Country: Malawi<br>Development Index (Female): 0.423<br>Development Index (Male): 0.467<br>Life Expectancy (Female): 63.7<br>Life Expectancy (Male): 61.7<br>Mean Years of Education (Female): 3.4<br>Mean Years of Education (Male): 5.2<br>Estimated Gross National Income per Capita (Female): 679<br>Estimated Gross National Income per Capita (Male): 815<br>\",\"Country: Ethiopia<br>Development Index (Female): 0.403<br>Development Index (Male): 0.479<br>Life Expectancy (Female): 66<br>Life Expectancy (Male): 62.2<br>Mean Years of Education (Female): 1.4<br>Mean Years of Education (Male): 3.6<br>Estimated Gross National Income per Capita (Female): 1090<br>Estimated Gross National Income per Capita (Male): 1765<br>\",\"Country: Gambia<br>Development Index (Female): 0.414<br>Development Index (Male): 0.466<br>Life Expectancy (Female): 61.6<br>Life Expectancy (Male): 58.9<br>Mean Years of Education (Female): 2<br>Mean Years of Education (Male): 3.7<br>Estimated Gross National Income per Capita (Female): 1267<br>Estimated Gross National Income per Capita (Male): 1753<br>\",\"Country: Congo (Democratic Republic of the)<br>Development Index (Female): 0.393<br>Development Index (Male): 0.472<br>Life Expectancy (Female): 60.1<br>Life Expectancy (Male): 57.2<br>Mean Years of Education (Female): 4.5<br>Mean Years of Education (Male): 7.7<br>Estimated Gross National Income per Capita (Female): 597<br>Estimated Gross National Income per Capita (Male): 765<br>\",\"Country: Liberia<br>Development Index (Female): 0.387<br>Development Index (Male): 0.491<br>Life Expectancy (Female): 61.8<br>Life Expectancy (Male): 59.9<br>Mean Years of Education (Female): 2.6<br>Mean Years of Education (Male): 5.8<br>Estimated Gross National Income per Capita (Female): 678<br>Estimated Gross National Income per Capita (Male): 930<br>\",\"Country: Guinea-Bissau<br>Development Index (Female): ..<br>Development Index (Male): ..<br>Life Expectancy (Female): 57<br>Life Expectancy (Male): 53.4<br>Mean Years of Education (Female): ..<br>Mean Years of Education (Male): ..<br>Estimated Gross National Income per Capita (Female): 1135<br>Estimated Gross National Income per Capita (Male): 1593<br>\",\"Country: Mali<br>Development Index (Female): 0.363<br>Development Index (Male): 0.468<br>Life Expectancy (Female): 57.8<br>Life Expectancy (Male): 58.2<br>Mean Years of Education (Female): 1.5<br>Mean Years of Education (Male): 2.7<br>Estimated Gross National Income per Capita (Female): 961<br>Estimated Gross National Income per Capita (Male): 2195<br>\",\"Country: Mozambique<br>Development Index (Female): 0.39<br>Development Index (Male): 0.443<br>Life Expectancy (Female): 56.5<br>Life Expectancy (Male): 53.6<br>Mean Years of Education (Female): 2.4<br>Mean Years of Education (Male): 4.3<br>Estimated Gross National Income per Capita (Female): 1040<br>Estimated Gross National Income per Capita (Male): 1210<br>\",\"Country: Sierra Leone<br>Development Index (Female): 0.37<br>Development Index (Male): 0.454<br>Life Expectancy (Female): 51.4<br>Life Expectancy (Male): 50.4<br>Mean Years of Education (Female): 2.2<br>Mean Years of Education (Male): 4<br>Estimated Gross National Income per Capita (Female): 1582<br>Estimated Gross National Income per Capita (Male): 1981<br>\",\"Country: Guinea<br>Development Index (Female): 0.358<br>Development Index (Male): 0.46<br>Life Expectancy (Female): 59.2<br>Life Expectancy (Male): 58.3<br>Mean Years of Education (Female): 1.4<br>Mean Years of Education (Male): 3.7<br>Estimated Gross National Income per Capita (Female): 877<br>Estimated Gross National Income per Capita (Male): 1314<br>\",\"Country: Burkina Faso<br>Development Index (Female): 0.376<br>Development Index (Male): 0.427<br>Life Expectancy (Female): 59.9<br>Life Expectancy (Male): 57.3<br>Mean Years of Education (Female): 1<br>Mean Years of Education (Male): 1.9<br>Estimated Gross National Income per Capita (Female): 1325<br>Estimated Gross National Income per Capita (Male): 1859<br>\",\"Country: Burundi<br>Development Index (Female): 0.381<br>Development Index (Male): 0.418<br>Life Expectancy (Female): 58.7<br>Life Expectancy (Male): 54.8<br>Mean Years of Education (Female): 2.2<br>Mean Years of Education (Male): 3.1<br>Estimated Gross National Income per Capita (Female): 693<br>Estimated Gross National Income per Capita (Male): 825<br>\",\"Country: Chad<br>Development Index (Female): 0.338<br>Development Index (Male): 0.44<br>Life Expectancy (Female): 52.7<br>Life Expectancy (Male): 50.5<br>Mean Years of Education (Female): 1<br>Mean Years of Education (Male): 2.9<br>Estimated Gross National Income per Capita (Female): 1657<br>Estimated Gross National Income per Capita (Male): 2513<br>\",\"Country: Eritrea<br>Development Index (Female): ..<br>Development Index (Male): ..<br>Life Expectancy (Female): 65.9<br>Life Expectancy (Male): 61.6<br>Mean Years of Education (Female): ..<br>Mean Years of Education (Male): ..<br>Estimated Gross National Income per Capita (Female): 971<br>Estimated Gross National Income per Capita (Male): 1290<br>\",\"Country: Central African Republic<br>Development Index (Female): 0.303<br>Development Index (Male): 0.392<br>Life Expectancy (Female): 52.6<br>Life Expectancy (Male): 48.8<br>Mean Years of Education (Female): 2.8<br>Mean Years of Education (Male): 5.7<br>Estimated Gross National Income per Capita (Female): 476<br>Estimated Gross National Income per Capita (Male): 689<br>\",\"Country: Niger<br>Development Index (Female): 0.287<br>Development Index (Male): 0.394<br>Life Expectancy (Female): 62.4<br>Life Expectancy (Male): 60.6<br>Mean Years of Education (Female): 0.8<br>Mean Years of Education (Male): 2<br>Estimated Gross National Income per Capita (Female): 491<br>Estimated Gross National Income per Capita (Male): 1319<br>\",\"Country: Arab States<br>Development Index (Female): 0.611<br>Development Index (Male): 0.719<br>Life Expectancy (Female): 72.7<br>Life Expectancy (Male): 68.8<br>Mean Years of Education (Female): 4.9<br>Mean Years of Education (Male): 6.9<br>Estimated Gross National Income per Capita (Female): 5686<br>Estimated Gross National Income per Capita (Male): 24985<br>\",\"Country: East Asia and the Pacific<br>Development Index (Female): 0.692<br>Development Index (Male): 0.73<br>Life Expectancy (Female): 76<br>Life Expectancy (Male): 72.2<br>Mean Years of Education (Female): 6.9<br>Mean Years of Education (Male): 8<br>Estimated Gross National Income per Capita (Female): 9017<br>Estimated Gross National Income per Capita (Male): 13780<br>\",\"Country: Europe and Central Asia<br>Development Index (Female): 0.719<br>Development Index (Male): 0.76<br>Life Expectancy (Female): 76.1<br>Life Expectancy (Male): 68.5<br>Mean Years of Education (Female): 9<br>Mean Years of Education (Male): 10<br>Estimated Gross National Income per Capita (Female): 8238<br>Estimated Gross National Income per Capita (Male): 17607<br>\",\"Country: Latin America and the Caribbean<br>Development Index (Female): 0.736<br>Development Index (Male): 0.754<br>Life Expectancy (Female): 78.2<br>Life Expectancy (Male): 71.7<br>Mean Years of Education (Female): 8<br>Mean Years of Education (Male): 8.1<br>Estimated Gross National Income per Capita (Female): 10194<br>Estimated Gross National Income per Capita (Male): 18435<br>\",\"Country: South Asia<br>Development Index (Female): 0.525<br>Development Index (Male): 0.655<br>Life Expectancy (Female): 69.9<br>Life Expectancy (Male): 67.1<br>Mean Years of Education (Female): 3.7<br>Mean Years of Education (Male): 6.9<br>Estimated Gross National Income per Capita (Female): 2198<br>Estimated Gross National Income per Capita (Male): 8827<br>\",\"Country: Sub-Saharan Africa<br>Development Index (Female): 0.48<br>Development Index (Male): 0.55<br>Life Expectancy (Female): 59.7<br>Life Expectancy (Male): 57.1<br>Mean Years of Education (Female): 4.2<br>Mean Years of Education (Male): 6<br>Estimated Gross National Income per Capita (Female): 2626<br>Estimated Gross National Income per Capita (Male): 4148<br>\",\"Country: World<br>Development Index (Female): 0.67<br>Development Index (Male): 0.725<br>Life Expectancy (Female): 73.7<br>Life Expectancy (Male): 69.5<br>Mean Years of Education (Female): 6.2<br>Mean Years of Education (Male): 7.9<br>Estimated Gross National Income per Capita (Female): 10296<br>Estimated Gross National Income per Capita (Male): 18373<br>\"],\"type\":\"choropleth\",\"z\":[\"0.996\",\"0.976\",\"0.95\",\"0.977\",\"0.947\",\"0.963\",\"0.973\",\"0.995\",\"0.982\",\"0.961\",\"0.985\",\"0.958\",\"..\",\"0.999\",\"0.965\",\"0.975\",\"0.93\",\"0.971\",\"0.971\",\"0.961\",\"0.975\",\"0.987\",\"0.943\",\"0.996\",\"0.996\",\"0.975\",\"0.964\",\"0.98\",\"0.961\",\"1.03\",\"0.977\",\"0.971\",\"0.998\",\"..\",\"0.999\",\"1.007\",\"1.03\",\"0.937\",\"0.901\",\"0.982\",\"0.954\",\"0.967\",\"0.985\",\"0.976\",\"0.94\",\"1.029\",\"0.987\",\"0.972\",\"0.954\",\"1.021\",\"1.019\",\"0.909\",\"0.989\",\"1.018\",\"..\",\"1.002\",\"1.018\",\"..\",\"0.991\",\"..\",\"0.996\",\"0.947\",\"0.95\",\"..\",\"0.985\",\"0.966\",\"0.954\",\"0.899\",\"0.974\",\"0.858\",\"1.03\",\"0.902\",\"0.948\",\"0.943\",\"0.997\",\"0.962\",\"..\",\"0.942\",\"..\",\"0.86\",\"0.949\",\"1.003\",\"0.837\",\"0.947\",\"0.948\",\"1.008\",\"..\",\"0.98\",\"0.991\",\"0.943\",\"0.941\",\"1.028\",\"1\",\"..\",\"0.95\",\"0.894\",\"0.997\",\"..\",\"0.995\",\"0.967\",\"0.958\",\"0.995\",\"0.975\",\"0.937\",\"0.956\",\"0.982\",\"1.003\",\"0.868\",\"..\",\"..\",\"0.927\",\"0.956\",\"0.86\",\"0.945\",\"0.977\",\"0.965\",\"0.948\",\"..\",\"0.931\",\"0.961\",\"0.787\",\"..\",\"..\",\"0.984\",\"0.96\",\"0.828\",\"0.981\",\"0.949\",\"0.926\",\"0.795\",\"0.944\",\"0.897\",\"0.868\",\"0.834\",\"0.903\",\"0.922\",\"..\",\"..\",\"0.917\",\"0.885\",\"0.896\",\"0.917\",\"0.89\",\"0.891\",\"0.913\",\"0.908\",\"0.726\",\"..\",\"..\",\"0.879\",\"0.938\",\"0.841\",\"0.879\",\"0.945\",\"0.922\",\"0.816\",\"..\",\"..\",\"0.813\",\"0.739\",\"0.953\",\"0.831\",\"..\",\"0.957\",\"0.886\",\"0.823\",\"0.83\",\"..\",\"..\",\"0.883\",\"0.6\",\"0.81\",\"0.907\",\"0.84\",\"0.889\",\"0.833\",\"0.789\",\"..\",\"0.776\",\"0.881\",\"0.814\",\"0.778\",\"0.881\",\"0.911\",\"0.768\",\"..\",\"0.773\",\"0.729\",\"0.849\",\"0.948\",\"0.945\",\"0.976\",\"0.801\",\"0.872\",\"0.924\"]}],                        {\"geo\":{\"projection\":{\"type\":\"equirectangular\"},\"showcoastlines\":false,\"showframe\":false},\"template\":{\"data\":{\"bar\":[{\"error_x\":{\"color\":\"#2a3f5f\"},\"error_y\":{\"color\":\"#2a3f5f\"},\"marker\":{\"line\":{\"color\":\"#E5ECF6\",\"width\":0.5},\"pattern\":{\"fillmode\":\"overlay\",\"size\":10,\"solidity\":0.2}},\"type\":\"bar\"}],\"barpolar\":[{\"marker\":{\"line\":{\"color\":\"#E5ECF6\",\"width\":0.5},\"pattern\":{\"fillmode\":\"overlay\",\"size\":10,\"solidity\":0.2}},\"type\":\"barpolar\"}],\"carpet\":[{\"aaxis\":{\"endlinecolor\":\"#2a3f5f\",\"gridcolor\":\"white\",\"linecolor\":\"white\",\"minorgridcolor\":\"white\",\"startlinecolor\":\"#2a3f5f\"},\"baxis\":{\"endlinecolor\":\"#2a3f5f\",\"gridcolor\":\"white\",\"linecolor\":\"white\",\"minorgridcolor\":\"white\",\"startlinecolor\":\"#2a3f5f\"},\"type\":\"carpet\"}],\"choropleth\":[{\"colorbar\":{\"outlinewidth\":0,\"ticks\":\"\"},\"type\":\"choropleth\"}],\"contour\":[{\"colorbar\":{\"outlinewidth\":0,\"ticks\":\"\"},\"colorscale\":[[0.0,\"#0d0887\"],[0.1111111111111111,\"#46039f\"],[0.2222222222222222,\"#7201a8\"],[0.3333333333333333,\"#9c179e\"],[0.4444444444444444,\"#bd3786\"],[0.5555555555555556,\"#d8576b\"],[0.6666666666666666,\"#ed7953\"],[0.7777777777777778,\"#fb9f3a\"],[0.8888888888888888,\"#fdca26\"],[1.0,\"#f0f921\"]],\"type\":\"contour\"}],\"contourcarpet\":[{\"colorbar\":{\"outlinewidth\":0,\"ticks\":\"\"},\"type\":\"contourcarpet\"}],\"heatmap\":[{\"colorbar\":{\"outlinewidth\":0,\"ticks\":\"\"},\"colorscale\":[[0.0,\"#0d0887\"],[0.1111111111111111,\"#46039f\"],[0.2222222222222222,\"#7201a8\"],[0.3333333333333333,\"#9c179e\"],[0.4444444444444444,\"#bd3786\"],[0.5555555555555556,\"#d8576b\"],[0.6666666666666666,\"#ed7953\"],[0.7777777777777778,\"#fb9f3a\"],[0.8888888888888888,\"#fdca26\"],[1.0,\"#f0f921\"]],\"type\":\"heatmap\"}],\"heatmapgl\":[{\"colorbar\":{\"outlinewidth\":0,\"ticks\":\"\"},\"colorscale\":[[0.0,\"#0d0887\"],[0.1111111111111111,\"#46039f\"],[0.2222222222222222,\"#7201a8\"],[0.3333333333333333,\"#9c179e\"],[0.4444444444444444,\"#bd3786\"],[0.5555555555555556,\"#d8576b\"],[0.6666666666666666,\"#ed7953\"],[0.7777777777777778,\"#fb9f3a\"],[0.8888888888888888,\"#fdca26\"],[1.0,\"#f0f921\"]],\"type\":\"heatmapgl\"}],\"histogram\":[{\"marker\":{\"pattern\":{\"fillmode\":\"overlay\",\"size\":10,\"solidity\":0.2}},\"type\":\"histogram\"}],\"histogram2d\":[{\"colorbar\":{\"outlinewidth\":0,\"ticks\":\"\"},\"colorscale\":[[0.0,\"#0d0887\"],[0.1111111111111111,\"#46039f\"],[0.2222222222222222,\"#7201a8\"],[0.3333333333333333,\"#9c179e\"],[0.4444444444444444,\"#bd3786\"],[0.5555555555555556,\"#d8576b\"],[0.6666666666666666,\"#ed7953\"],[0.7777777777777778,\"#fb9f3a\"],[0.8888888888888888,\"#fdca26\"],[1.0,\"#f0f921\"]],\"type\":\"histogram2d\"}],\"histogram2dcontour\":[{\"colorbar\":{\"outlinewidth\":0,\"ticks\":\"\"},\"colorscale\":[[0.0,\"#0d0887\"],[0.1111111111111111,\"#46039f\"],[0.2222222222222222,\"#7201a8\"],[0.3333333333333333,\"#9c179e\"],[0.4444444444444444,\"#bd3786\"],[0.5555555555555556,\"#d8576b\"],[0.6666666666666666,\"#ed7953\"],[0.7777777777777778,\"#fb9f3a\"],[0.8888888888888888,\"#fdca26\"],[1.0,\"#f0f921\"]],\"type\":\"histogram2dcontour\"}],\"mesh3d\":[{\"colorbar\":{\"outlinewidth\":0,\"ticks\":\"\"},\"type\":\"mesh3d\"}],\"parcoords\":[{\"line\":{\"colorbar\":{\"outlinewidth\":0,\"ticks\":\"\"}},\"type\":\"parcoords\"}],\"pie\":[{\"automargin\":true,\"type\":\"pie\"}],\"scatter\":[{\"marker\":{\"colorbar\":{\"outlinewidth\":0,\"ticks\":\"\"}},\"type\":\"scatter\"}],\"scatter3d\":[{\"line\":{\"colorbar\":{\"outlinewidth\":0,\"ticks\":\"\"}},\"marker\":{\"colorbar\":{\"outlinewidth\":0,\"ticks\":\"\"}},\"type\":\"scatter3d\"}],\"scattercarpet\":[{\"marker\":{\"colorbar\":{\"outlinewidth\":0,\"ticks\":\"\"}},\"type\":\"scattercarpet\"}],\"scattergeo\":[{\"marker\":{\"colorbar\":{\"outlinewidth\":0,\"ticks\":\"\"}},\"type\":\"scattergeo\"}],\"scattergl\":[{\"marker\":{\"colorbar\":{\"outlinewidth\":0,\"ticks\":\"\"}},\"type\":\"scattergl\"}],\"scattermapbox\":[{\"marker\":{\"colorbar\":{\"outlinewidth\":0,\"ticks\":\"\"}},\"type\":\"scattermapbox\"}],\"scatterpolar\":[{\"marker\":{\"colorbar\":{\"outlinewidth\":0,\"ticks\":\"\"}},\"type\":\"scatterpolar\"}],\"scatterpolargl\":[{\"marker\":{\"colorbar\":{\"outlinewidth\":0,\"ticks\":\"\"}},\"type\":\"scatterpolargl\"}],\"scatterternary\":[{\"marker\":{\"colorbar\":{\"outlinewidth\":0,\"ticks\":\"\"}},\"type\":\"scatterternary\"}],\"surface\":[{\"colorbar\":{\"outlinewidth\":0,\"ticks\":\"\"},\"colorscale\":[[0.0,\"#0d0887\"],[0.1111111111111111,\"#46039f\"],[0.2222222222222222,\"#7201a8\"],[0.3333333333333333,\"#9c179e\"],[0.4444444444444444,\"#bd3786\"],[0.5555555555555556,\"#d8576b\"],[0.6666666666666666,\"#ed7953\"],[0.7777777777777778,\"#fb9f3a\"],[0.8888888888888888,\"#fdca26\"],[1.0,\"#f0f921\"]],\"type\":\"surface\"}],\"table\":[{\"cells\":{\"fill\":{\"color\":\"#EBF0F8\"},\"line\":{\"color\":\"white\"}},\"header\":{\"fill\":{\"color\":\"#C8D4E3\"},\"line\":{\"color\":\"white\"}},\"type\":\"table\"}]},\"layout\":{\"annotationdefaults\":{\"arrowcolor\":\"#2a3f5f\",\"arrowhead\":0,\"arrowwidth\":1},\"autotypenumbers\":\"strict\",\"coloraxis\":{\"colorbar\":{\"outlinewidth\":0,\"ticks\":\"\"}},\"colorscale\":{\"diverging\":[[0,\"#8e0152\"],[0.1,\"#c51b7d\"],[0.2,\"#de77ae\"],[0.3,\"#f1b6da\"],[0.4,\"#fde0ef\"],[0.5,\"#f7f7f7\"],[0.6,\"#e6f5d0\"],[0.7,\"#b8e186\"],[0.8,\"#7fbc41\"],[0.9,\"#4d9221\"],[1,\"#276419\"]],\"sequential\":[[0.0,\"#0d0887\"],[0.1111111111111111,\"#46039f\"],[0.2222222222222222,\"#7201a8\"],[0.3333333333333333,\"#9c179e\"],[0.4444444444444444,\"#bd3786\"],[0.5555555555555556,\"#d8576b\"],[0.6666666666666666,\"#ed7953\"],[0.7777777777777778,\"#fb9f3a\"],[0.8888888888888888,\"#fdca26\"],[1.0,\"#f0f921\"]],\"sequentialminus\":[[0.0,\"#0d0887\"],[0.1111111111111111,\"#46039f\"],[0.2222222222222222,\"#7201a8\"],[0.3333333333333333,\"#9c179e\"],[0.4444444444444444,\"#bd3786\"],[0.5555555555555556,\"#d8576b\"],[0.6666666666666666,\"#ed7953\"],[0.7777777777777778,\"#fb9f3a\"],[0.8888888888888888,\"#fdca26\"],[1.0,\"#f0f921\"]]},\"colorway\":[\"#636efa\",\"#EF553B\",\"#00cc96\",\"#ab63fa\",\"#FFA15A\",\"#19d3f3\",\"#FF6692\",\"#B6E880\",\"#FF97FF\",\"#FECB52\"],\"font\":{\"color\":\"#2a3f5f\"},\"geo\":{\"bgcolor\":\"white\",\"lakecolor\":\"white\",\"landcolor\":\"#E5ECF6\",\"showlakes\":true,\"showland\":true,\"subunitcolor\":\"white\"},\"hoverlabel\":{\"align\":\"left\"},\"hovermode\":\"closest\",\"mapbox\":{\"style\":\"light\"},\"paper_bgcolor\":\"white\",\"plot_bgcolor\":\"#E5ECF6\",\"polar\":{\"angularaxis\":{\"gridcolor\":\"white\",\"linecolor\":\"white\",\"ticks\":\"\"},\"bgcolor\":\"#E5ECF6\",\"radialaxis\":{\"gridcolor\":\"white\",\"linecolor\":\"white\",\"ticks\":\"\"}},\"scene\":{\"xaxis\":{\"backgroundcolor\":\"#E5ECF6\",\"gridcolor\":\"white\",\"gridwidth\":2,\"linecolor\":\"white\",\"showbackground\":true,\"ticks\":\"\",\"zerolinecolor\":\"white\"},\"yaxis\":{\"backgroundcolor\":\"#E5ECF6\",\"gridcolor\":\"white\",\"gridwidth\":2,\"linecolor\":\"white\",\"showbackground\":true,\"ticks\":\"\",\"zerolinecolor\":\"white\"},\"zaxis\":{\"backgroundcolor\":\"#E5ECF6\",\"gridcolor\":\"white\",\"gridwidth\":2,\"linecolor\":\"white\",\"showbackground\":true,\"ticks\":\"\",\"zerolinecolor\":\"white\"}},\"shapedefaults\":{\"line\":{\"color\":\"#2a3f5f\"}},\"ternary\":{\"aaxis\":{\"gridcolor\":\"white\",\"linecolor\":\"white\",\"ticks\":\"\"},\"baxis\":{\"gridcolor\":\"white\",\"linecolor\":\"white\",\"ticks\":\"\"},\"bgcolor\":\"#E5ECF6\",\"caxis\":{\"gridcolor\":\"white\",\"linecolor\":\"white\",\"ticks\":\"\"}},\"title\":{\"x\":0.05},\"xaxis\":{\"automargin\":true,\"gridcolor\":\"white\",\"linecolor\":\"white\",\"ticks\":\"\",\"title\":{\"standoff\":15},\"zerolinecolor\":\"white\",\"zerolinewidth\":2},\"yaxis\":{\"automargin\":true,\"gridcolor\":\"white\",\"linecolor\":\"white\",\"ticks\":\"\",\"title\":{\"standoff\":15},\"zerolinecolor\":\"white\",\"zerolinewidth\":2}}},\"title\":{\"text\":\"2015 Global Gender Development\"}},                        {\"responsive\": true}                    ).then(function(){\n",
       "                            \n",
       "var gd = document.getElementById('08f19f01-53c1-4827-8395-a36acfcecd89');\n",
       "var x = new MutationObserver(function (mutations, observer) {{\n",
       "        var display = window.getComputedStyle(gd).display;\n",
       "        if (!display || display === 'none') {{\n",
       "            console.log([gd, 'removed!']);\n",
       "            Plotly.purge(gd);\n",
       "            observer.disconnect();\n",
       "        }}\n",
       "}});\n",
       "\n",
       "// Listen for the removal of the full notebook cells\n",
       "var notebookContainer = gd.closest('#notebook-container');\n",
       "if (notebookContainer) {{\n",
       "    x.observe(notebookContainer, {childList: true});\n",
       "}}\n",
       "\n",
       "// Listen for the clearing of the current output cell\n",
       "var outputEl = gd.closest('.output');\n",
       "if (outputEl) {{\n",
       "    x.observe(outputEl, {childList: true});\n",
       "}}\n",
       "\n",
       "                        })                };                });            </script>        </div>"
      ]
     },
     "metadata": {},
     "output_type": "display_data"
    }
   ],
   "source": [
    "csv_file = \"gender_development.csv\"\n",
    "df = pd.read_csv(csv_file)\n",
    "\n",
    "fig = go.Figure(data=go.Choropleth(\n",
    "    locations = df['Code'],\n",
    "    z = df['Gender Development Index (GDI)'],\n",
    "    text = ('Country: ' + df['Country'] + '<br>' \n",
    "            + 'Development Index (Female): ' + df['Human Development Index (Female)'] + '<br>'\n",
    "            + 'Development Index (Male): ' + df['Human Development Index (Male)'] + '<br>'\n",
    "            + 'Life Expectancy (Female): ' + df['Life Expectancy at Birth (Female)'] + '<br>'\n",
    "            + 'Life Expectancy (Male): ' + df['Life Expectancy at Birth (Male)'] + '<br>'\n",
    "            + 'Mean Years of Education (Female): ' + df['Mean Years of Education (Female)'] + '<br>'\n",
    "            + 'Mean Years of Education (Male): ' + df['Mean Years of Education (Male)'] + '<br>'\n",
    "            + 'Estimated Gross National Income per Capita (Female): ' + df['Estimated Gross National Income per Capita (Female)'] + '<br>'\n",
    "            + 'Estimated Gross National Income per Capita (Male): ' + df['Estimated Gross National Income per Capita (Male)'] + '<br>'\n",
    "           ),\n",
    "    colorscale=[[0.0, 'rgb(53,0,176)'],[0.2, 'rgb(121,0,158)'],\n",
    "         [0.4, 'rgb(181,0,176)'],[0.6, 'rgb(255, 86, 75)'],\n",
    "         [0.8, 'rgb(255,161,45)'],[1.0, 'rgb(255,215,0)']],\n",
    "    autocolorscale=False,\n",
    "    reversescale=True,\n",
    "    marker_line_color='darkgray',\n",
    "    marker_line_width=0.5,\n",
    "    colorbar_title = 'GDI',\n",
    "))\n",
    "\n",
    "fig.update_layout(\n",
    "    title_text='2015 Global Gender Development',\n",
    "    geo=dict(\n",
    "        showframe=False,\n",
    "        showcoastlines=False,\n",
    "        projection_type='equirectangular'\n",
    "    )\n",
    ")\n",
    "\n",
    "fig.show()"
   ]
  },
  {
   "cell_type": "code",
   "execution_count": 62,
   "metadata": {},
   "outputs": [
    {
     "data": {
      "application/vnd.plotly.v1+json": {
       "config": {
        "plotlyServerURL": "https://plot.ly"
       },
       "data": [
        {
         "hovertemplate": "Mean Years of Education (Female)=%{x}<br>Life Expectancy at Birth (Female)=%{y}<br>Human Development Index (Female)=%{marker.size}<br>Estimated Gross National Income per Capita (Female)=%{marker.color}<extra></extra>",
         "legendgroup": "",
         "marker": {
          "color": [
           491,
           1657,
           1325,
           506,
           1595,
           877,
           1090,
           961,
           1657,
           1267,
           5733,
           1493,
           1582,
           693,
           1956,
           1040,
           1882,
           678,
           1625,
           476,
           1084,
           1450,
           2146,
           1312,
           2526,
           3222,
           679,
           2116,
           3122,
           778,
           2198,
           4086,
           1886,
           2626,
           597,
           1226,
           2320,
           2278,
           3898,
           4052,
           5165,
           5686,
           4279,
           2266,
           4928,
           864,
           5021,
           2365,
           3200,
           8531,
           3019,
           2255,
           4748,
           10296,
           5497,
           2967,
           7672,
           2613,
           1098,
           1387,
           10024,
           9017,
           10128,
           6485,
           14709,
           11820,
           10241,
           42292,
           3894,
           9785,
           8487,
           4383,
           5576,
           7334,
           7427,
           4828,
           8860,
           20094,
           11393,
           2141,
           10541,
           10194,
           21259,
           10233,
           5382,
           1580,
           9680,
           8040,
           54228,
           15179,
           8796,
           14721,
           4164,
           7217,
           8238,
           20038,
           12458,
           3587,
           15635,
           8018,
           24059,
           3811,
           9029,
           22526,
           2014,
           13699,
           8713,
           14732,
           4274,
           9697,
           14202,
           17288,
           22391,
           16435,
           29598,
           5820,
           59994,
           31644,
           3416,
           15250,
           55123,
           5034,
           10120,
           2122,
           11106,
           16200,
           12448,
           10245,
           31879,
           19669,
           3796,
           5452,
           6042,
           28792,
           38060,
           31073,
           4599,
           21896,
           15408,
           6518,
           17443,
           47723,
           24975,
           4912,
           22613,
           44132,
           29500,
           18437,
           18423,
           22180,
           17269,
           12922,
           4887,
           19929,
           40222,
           20955,
           19903,
           30104,
           24309,
           22451,
           20854,
           57140,
           36439,
           27259,
           34886,
           43054,
           33587,
           33688
          ],
          "coloraxis": "coloraxis",
          "size": [
           0.287,
           0.338,
           0.376,
           0.328,
           0.414,
           0.358,
           0.403,
           0.363,
           0.436,
           0.414,
           0.572,
           0.431,
           0.37,
           0.381,
           0.521,
           0.39,
           0.428,
           0.387,
           0.446,
           0.303,
           0.439,
           0.436,
           0.41,
           0.472,
           0.519,
           0.555,
           0.423,
           0.525,
           0.548,
           0.443,
           0.525,
           0.543,
           0.52,
           0.48,
           0.393,
           0.452,
           0.504,
           0.541,
           0.637,
           0.468,
           0.561,
           0.611,
           0.561,
           0.478,
           0.633,
           0.52,
           0.608,
           0.583,
           0.54,
           0.678,
           0.558,
           0.527,
           0.671,
           0.67,
           0.652,
           0.615,
           0.62,
           0.482,
           0.497,
           0.487,
           0.716,
           0.692,
           0.705,
           0.655,
           0.741,
           0.726,
           0.702,
           0.793,
           0.494,
           0.719,
           0.722,
           0.637,
           0.662,
           0.718,
           0.699,
           0.689,
           0.71,
           0.778,
           0.752,
           0.587,
           0.752,
           0.736,
           0.823,
           0.731,
           0.649,
           0.607,
           0.753,
           0.712,
           0.84,
           0.691,
           0.726,
           0.797,
           0.626,
           0.711,
           0.719,
           0.789,
           0.772,
           0.674,
           0.753,
           0.725,
           0.863,
           0.64,
           0.737,
           0.851,
           0.6,
           0.776,
           0.646,
           0.815,
           0.699,
           0.757,
           0.819,
           0.844,
           0.796,
           0.806,
           0.856,
           0.715,
           0.898,
           0.879,
           0.681,
           0.787,
           0.853,
           0.696,
           0.721,
           0.638,
           0.782,
           0.812,
           0.777,
           0.791,
           0.872,
           0.763,
           0.704,
           0.73,
           0.734,
           0.886,
           0.892,
           0.881,
           0.694,
           0.861,
           0.787,
           0.747,
           0.818,
           0.877,
           0.87,
           0.747,
           0.836,
           0.898,
           0.893,
           0.829,
           0.844,
           0.877,
           0.804,
           0.806,
           0.736,
           0.859,
           0.906,
           0.851,
           0.841,
           0.901,
           0.894,
           0.879,
           0.872,
           0.94,
           0.912,
           0.888,
           0.901,
           0.911,
           0.904,
           0.922
          ],
          "sizemode": "area",
          "sizeref": 0.0023499999999999997,
          "symbol": "circle"
         },
         "mode": "markers",
         "name": "",
         "orientation": "v",
         "showlegend": false,
         "type": "scatter",
         "x": [
          0.8,
          1,
          1,
          1.2,
          1.3,
          1.4,
          1.4,
          1.5,
          1.8,
          2,
          2,
          2.1,
          2.2,
          2.2,
          2.3,
          2.4,
          2.5,
          2.6,
          2.7,
          2.8,
          3,
          3.1,
          3.2,
          3.2,
          3.2,
          3.2,
          3.4,
          3.6,
          3.6,
          3.7,
          3.7,
          3.9,
          4,
          4.2,
          4.5,
          4.5,
          4.5,
          4.5,
          4.8,
          4.9,
          4.9,
          4.9,
          5.1,
          5.3,
          5.4,
          5.4,
          5.5,
          5.5,
          5.6,
          5.7,
          5.8,
          5.9,
          5.9,
          6.2,
          6.2,
          6.2,
          6.3,
          6.5,
          6.6,
          6.7,
          6.7,
          6.9,
          6.9,
          7,
          7,
          7.1,
          7.3,
          7.3,
          7.4,
          7.4,
          7.4,
          7.5,
          7.5,
          7.6,
          7.7,
          7.7,
          7.7,
          7.8,
          7.8,
          8,
          8,
          8,
          8.1,
          8.2,
          8.4,
          8.4,
          8.4,
          8.5,
          8.5,
          8.7,
          8.7,
          8.7,
          8.9,
          8.9,
          9,
          9.1,
          9.2,
          9.3,
          9.4,
          9.4,
          9.4,
          9.5,
          9.5,
          9.5,
          9.6,
          9.6,
          9.7,
          9.7,
          9.8,
          9.8,
          9.8,
          9.8,
          9.9,
          9.9,
          9.9,
          10,
          10.1,
          10.2,
          10.3,
          10.3,
          10.4,
          10.5,
          10.5,
          10.5,
          10.5,
          10.5,
          10.6,
          10.6,
          10.6,
          10.7,
          10.7,
          10.7,
          10.8,
          10.8,
          10.9,
          11,
          11.1,
          11.2,
          11.3,
          11.3,
          11.3,
          11.3,
          11.3,
          11.4,
          11.4,
          11.5,
          11.6,
          11.7,
          11.7,
          11.8,
          11.9,
          11.9,
          12,
          12.1,
          12.2,
          12.3,
          12.3,
          12.3,
          12.5,
          12.5,
          12.7,
          12.7,
          12.8,
          12.9,
          12.9,
          13,
          13.1,
          13.1
         ],
         "xaxis": "x",
         "y": [
          62.4,
          52.7,
          59.9,
          61.6,
          65.2,
          59.2,
          66,
          57.8,
          68.3,
          61.6,
          69.7,
          61,
          51.4,
          58.7,
          71.1,
          56.5,
          65,
          61.8,
          64.5,
          52.6,
          60.4,
          67.2,
          52.4,
          67,
          70.3,
          75.1,
          63.7,
          69.5,
          70.1,
          65,
          69.9,
          67.5,
          68.4,
          59.7,
          60.1,
          60.3,
          66.4,
          72.9,
          77.2,
          53.1,
          63.9,
          72.7,
          71.7,
          56.7,
          73.4,
          76.5,
          75.3,
          75.7,
          62.3,
          77.8,
          62,
          63.4,
          77.3,
          73.7,
          77.4,
          77.9,
          67.3,
          49.8,
          66.6,
          58.9,
          78.5,
          76,
          77.3,
          71,
          79.2,
          77.9,
          74.4,
          75.8,
          48.2,
          77.7,
          78.7,
          70.9,
          75.1,
          81.3,
          74.6,
          76.5,
          76.7,
          75.7,
          78.3,
          74,
          78,
          78.2,
          83.8,
          79.2,
          71.8,
          74.9,
          81.9,
          77.2,
          80.7,
          66.8,
          77.7,
          80.6,
          68.8,
          80.4,
          76.1,
          77.6,
          78.5,
          75.8,
          77.1,
          77.8,
          85.3,
          71.8,
          73.9,
          85.5,
          73.2,
          80.7,
          59.3,
          84.5,
          73.2,
          77.7,
          80.1,
          83.8,
          78.5,
          82.2,
          83.8,
          78.1,
          86,
          83.6,
          76.8,
          78.3,
          79.9,
          72.9,
          74,
          74.6,
          78.4,
          80.6,
          77.7,
          78,
          83.2,
          74,
          75.8,
          78.2,
          78.6,
          84,
          86.8,
          85.1,
          75.7,
          85,
          74.1,
          75.9,
          78.7,
          83.9,
          86.7,
          81.5,
          82.4,
          85,
          83.3,
          78.9,
          81.4,
          83.4,
          75.8,
          77.2,
          78.4,
          81.5,
          83.9,
          78.9,
          79.9,
          83,
          83.6,
          84.1,
          81.3,
          83.6,
          82.2,
          82.6,
          83.3,
          81.4,
          84,
          84.5
         ],
         "yaxis": "y"
        }
       ],
       "layout": {
        "coloraxis": {
         "colorbar": {
          "title": {
           "text": "Estimated Gross National Income per Capita (Female)"
          }
         },
         "colorscale": [
          [
           0,
           "#0d0887"
          ],
          [
           0.1111111111111111,
           "#46039f"
          ],
          [
           0.2222222222222222,
           "#7201a8"
          ],
          [
           0.3333333333333333,
           "#9c179e"
          ],
          [
           0.4444444444444444,
           "#bd3786"
          ],
          [
           0.5555555555555556,
           "#d8576b"
          ],
          [
           0.6666666666666666,
           "#ed7953"
          ],
          [
           0.7777777777777778,
           "#fb9f3a"
          ],
          [
           0.8888888888888888,
           "#fdca26"
          ],
          [
           1,
           "#f0f921"
          ]
         ]
        },
        "legend": {
         "itemsizing": "constant",
         "tracegroupgap": 0
        },
        "margin": {
         "t": 60
        },
        "template": {
         "data": {
          "bar": [
           {
            "error_x": {
             "color": "#2a3f5f"
            },
            "error_y": {
             "color": "#2a3f5f"
            },
            "marker": {
             "line": {
              "color": "#E5ECF6",
              "width": 0.5
             },
             "pattern": {
              "fillmode": "overlay",
              "size": 10,
              "solidity": 0.2
             }
            },
            "type": "bar"
           }
          ],
          "barpolar": [
           {
            "marker": {
             "line": {
              "color": "#E5ECF6",
              "width": 0.5
             },
             "pattern": {
              "fillmode": "overlay",
              "size": 10,
              "solidity": 0.2
             }
            },
            "type": "barpolar"
           }
          ],
          "carpet": [
           {
            "aaxis": {
             "endlinecolor": "#2a3f5f",
             "gridcolor": "white",
             "linecolor": "white",
             "minorgridcolor": "white",
             "startlinecolor": "#2a3f5f"
            },
            "baxis": {
             "endlinecolor": "#2a3f5f",
             "gridcolor": "white",
             "linecolor": "white",
             "minorgridcolor": "white",
             "startlinecolor": "#2a3f5f"
            },
            "type": "carpet"
           }
          ],
          "choropleth": [
           {
            "colorbar": {
             "outlinewidth": 0,
             "ticks": ""
            },
            "type": "choropleth"
           }
          ],
          "contour": [
           {
            "colorbar": {
             "outlinewidth": 0,
             "ticks": ""
            },
            "colorscale": [
             [
              0,
              "#0d0887"
             ],
             [
              0.1111111111111111,
              "#46039f"
             ],
             [
              0.2222222222222222,
              "#7201a8"
             ],
             [
              0.3333333333333333,
              "#9c179e"
             ],
             [
              0.4444444444444444,
              "#bd3786"
             ],
             [
              0.5555555555555556,
              "#d8576b"
             ],
             [
              0.6666666666666666,
              "#ed7953"
             ],
             [
              0.7777777777777778,
              "#fb9f3a"
             ],
             [
              0.8888888888888888,
              "#fdca26"
             ],
             [
              1,
              "#f0f921"
             ]
            ],
            "type": "contour"
           }
          ],
          "contourcarpet": [
           {
            "colorbar": {
             "outlinewidth": 0,
             "ticks": ""
            },
            "type": "contourcarpet"
           }
          ],
          "heatmap": [
           {
            "colorbar": {
             "outlinewidth": 0,
             "ticks": ""
            },
            "colorscale": [
             [
              0,
              "#0d0887"
             ],
             [
              0.1111111111111111,
              "#46039f"
             ],
             [
              0.2222222222222222,
              "#7201a8"
             ],
             [
              0.3333333333333333,
              "#9c179e"
             ],
             [
              0.4444444444444444,
              "#bd3786"
             ],
             [
              0.5555555555555556,
              "#d8576b"
             ],
             [
              0.6666666666666666,
              "#ed7953"
             ],
             [
              0.7777777777777778,
              "#fb9f3a"
             ],
             [
              0.8888888888888888,
              "#fdca26"
             ],
             [
              1,
              "#f0f921"
             ]
            ],
            "type": "heatmap"
           }
          ],
          "heatmapgl": [
           {
            "colorbar": {
             "outlinewidth": 0,
             "ticks": ""
            },
            "colorscale": [
             [
              0,
              "#0d0887"
             ],
             [
              0.1111111111111111,
              "#46039f"
             ],
             [
              0.2222222222222222,
              "#7201a8"
             ],
             [
              0.3333333333333333,
              "#9c179e"
             ],
             [
              0.4444444444444444,
              "#bd3786"
             ],
             [
              0.5555555555555556,
              "#d8576b"
             ],
             [
              0.6666666666666666,
              "#ed7953"
             ],
             [
              0.7777777777777778,
              "#fb9f3a"
             ],
             [
              0.8888888888888888,
              "#fdca26"
             ],
             [
              1,
              "#f0f921"
             ]
            ],
            "type": "heatmapgl"
           }
          ],
          "histogram": [
           {
            "marker": {
             "pattern": {
              "fillmode": "overlay",
              "size": 10,
              "solidity": 0.2
             }
            },
            "type": "histogram"
           }
          ],
          "histogram2d": [
           {
            "colorbar": {
             "outlinewidth": 0,
             "ticks": ""
            },
            "colorscale": [
             [
              0,
              "#0d0887"
             ],
             [
              0.1111111111111111,
              "#46039f"
             ],
             [
              0.2222222222222222,
              "#7201a8"
             ],
             [
              0.3333333333333333,
              "#9c179e"
             ],
             [
              0.4444444444444444,
              "#bd3786"
             ],
             [
              0.5555555555555556,
              "#d8576b"
             ],
             [
              0.6666666666666666,
              "#ed7953"
             ],
             [
              0.7777777777777778,
              "#fb9f3a"
             ],
             [
              0.8888888888888888,
              "#fdca26"
             ],
             [
              1,
              "#f0f921"
             ]
            ],
            "type": "histogram2d"
           }
          ],
          "histogram2dcontour": [
           {
            "colorbar": {
             "outlinewidth": 0,
             "ticks": ""
            },
            "colorscale": [
             [
              0,
              "#0d0887"
             ],
             [
              0.1111111111111111,
              "#46039f"
             ],
             [
              0.2222222222222222,
              "#7201a8"
             ],
             [
              0.3333333333333333,
              "#9c179e"
             ],
             [
              0.4444444444444444,
              "#bd3786"
             ],
             [
              0.5555555555555556,
              "#d8576b"
             ],
             [
              0.6666666666666666,
              "#ed7953"
             ],
             [
              0.7777777777777778,
              "#fb9f3a"
             ],
             [
              0.8888888888888888,
              "#fdca26"
             ],
             [
              1,
              "#f0f921"
             ]
            ],
            "type": "histogram2dcontour"
           }
          ],
          "mesh3d": [
           {
            "colorbar": {
             "outlinewidth": 0,
             "ticks": ""
            },
            "type": "mesh3d"
           }
          ],
          "parcoords": [
           {
            "line": {
             "colorbar": {
              "outlinewidth": 0,
              "ticks": ""
             }
            },
            "type": "parcoords"
           }
          ],
          "pie": [
           {
            "automargin": true,
            "type": "pie"
           }
          ],
          "scatter": [
           {
            "marker": {
             "colorbar": {
              "outlinewidth": 0,
              "ticks": ""
             }
            },
            "type": "scatter"
           }
          ],
          "scatter3d": [
           {
            "line": {
             "colorbar": {
              "outlinewidth": 0,
              "ticks": ""
             }
            },
            "marker": {
             "colorbar": {
              "outlinewidth": 0,
              "ticks": ""
             }
            },
            "type": "scatter3d"
           }
          ],
          "scattercarpet": [
           {
            "marker": {
             "colorbar": {
              "outlinewidth": 0,
              "ticks": ""
             }
            },
            "type": "scattercarpet"
           }
          ],
          "scattergeo": [
           {
            "marker": {
             "colorbar": {
              "outlinewidth": 0,
              "ticks": ""
             }
            },
            "type": "scattergeo"
           }
          ],
          "scattergl": [
           {
            "marker": {
             "colorbar": {
              "outlinewidth": 0,
              "ticks": ""
             }
            },
            "type": "scattergl"
           }
          ],
          "scattermapbox": [
           {
            "marker": {
             "colorbar": {
              "outlinewidth": 0,
              "ticks": ""
             }
            },
            "type": "scattermapbox"
           }
          ],
          "scatterpolar": [
           {
            "marker": {
             "colorbar": {
              "outlinewidth": 0,
              "ticks": ""
             }
            },
            "type": "scatterpolar"
           }
          ],
          "scatterpolargl": [
           {
            "marker": {
             "colorbar": {
              "outlinewidth": 0,
              "ticks": ""
             }
            },
            "type": "scatterpolargl"
           }
          ],
          "scatterternary": [
           {
            "marker": {
             "colorbar": {
              "outlinewidth": 0,
              "ticks": ""
             }
            },
            "type": "scatterternary"
           }
          ],
          "surface": [
           {
            "colorbar": {
             "outlinewidth": 0,
             "ticks": ""
            },
            "colorscale": [
             [
              0,
              "#0d0887"
             ],
             [
              0.1111111111111111,
              "#46039f"
             ],
             [
              0.2222222222222222,
              "#7201a8"
             ],
             [
              0.3333333333333333,
              "#9c179e"
             ],
             [
              0.4444444444444444,
              "#bd3786"
             ],
             [
              0.5555555555555556,
              "#d8576b"
             ],
             [
              0.6666666666666666,
              "#ed7953"
             ],
             [
              0.7777777777777778,
              "#fb9f3a"
             ],
             [
              0.8888888888888888,
              "#fdca26"
             ],
             [
              1,
              "#f0f921"
             ]
            ],
            "type": "surface"
           }
          ],
          "table": [
           {
            "cells": {
             "fill": {
              "color": "#EBF0F8"
             },
             "line": {
              "color": "white"
             }
            },
            "header": {
             "fill": {
              "color": "#C8D4E3"
             },
             "line": {
              "color": "white"
             }
            },
            "type": "table"
           }
          ]
         },
         "layout": {
          "annotationdefaults": {
           "arrowcolor": "#2a3f5f",
           "arrowhead": 0,
           "arrowwidth": 1
          },
          "autotypenumbers": "strict",
          "coloraxis": {
           "colorbar": {
            "outlinewidth": 0,
            "ticks": ""
           }
          },
          "colorscale": {
           "diverging": [
            [
             0,
             "#8e0152"
            ],
            [
             0.1,
             "#c51b7d"
            ],
            [
             0.2,
             "#de77ae"
            ],
            [
             0.3,
             "#f1b6da"
            ],
            [
             0.4,
             "#fde0ef"
            ],
            [
             0.5,
             "#f7f7f7"
            ],
            [
             0.6,
             "#e6f5d0"
            ],
            [
             0.7,
             "#b8e186"
            ],
            [
             0.8,
             "#7fbc41"
            ],
            [
             0.9,
             "#4d9221"
            ],
            [
             1,
             "#276419"
            ]
           ],
           "sequential": [
            [
             0,
             "#0d0887"
            ],
            [
             0.1111111111111111,
             "#46039f"
            ],
            [
             0.2222222222222222,
             "#7201a8"
            ],
            [
             0.3333333333333333,
             "#9c179e"
            ],
            [
             0.4444444444444444,
             "#bd3786"
            ],
            [
             0.5555555555555556,
             "#d8576b"
            ],
            [
             0.6666666666666666,
             "#ed7953"
            ],
            [
             0.7777777777777778,
             "#fb9f3a"
            ],
            [
             0.8888888888888888,
             "#fdca26"
            ],
            [
             1,
             "#f0f921"
            ]
           ],
           "sequentialminus": [
            [
             0,
             "#0d0887"
            ],
            [
             0.1111111111111111,
             "#46039f"
            ],
            [
             0.2222222222222222,
             "#7201a8"
            ],
            [
             0.3333333333333333,
             "#9c179e"
            ],
            [
             0.4444444444444444,
             "#bd3786"
            ],
            [
             0.5555555555555556,
             "#d8576b"
            ],
            [
             0.6666666666666666,
             "#ed7953"
            ],
            [
             0.7777777777777778,
             "#fb9f3a"
            ],
            [
             0.8888888888888888,
             "#fdca26"
            ],
            [
             1,
             "#f0f921"
            ]
           ]
          },
          "colorway": [
           "#636efa",
           "#EF553B",
           "#00cc96",
           "#ab63fa",
           "#FFA15A",
           "#19d3f3",
           "#FF6692",
           "#B6E880",
           "#FF97FF",
           "#FECB52"
          ],
          "font": {
           "color": "#2a3f5f"
          },
          "geo": {
           "bgcolor": "white",
           "lakecolor": "white",
           "landcolor": "#E5ECF6",
           "showlakes": true,
           "showland": true,
           "subunitcolor": "white"
          },
          "hoverlabel": {
           "align": "left"
          },
          "hovermode": "closest",
          "mapbox": {
           "style": "light"
          },
          "paper_bgcolor": "white",
          "plot_bgcolor": "#E5ECF6",
          "polar": {
           "angularaxis": {
            "gridcolor": "white",
            "linecolor": "white",
            "ticks": ""
           },
           "bgcolor": "#E5ECF6",
           "radialaxis": {
            "gridcolor": "white",
            "linecolor": "white",
            "ticks": ""
           }
          },
          "scene": {
           "xaxis": {
            "backgroundcolor": "#E5ECF6",
            "gridcolor": "white",
            "gridwidth": 2,
            "linecolor": "white",
            "showbackground": true,
            "ticks": "",
            "zerolinecolor": "white"
           },
           "yaxis": {
            "backgroundcolor": "#E5ECF6",
            "gridcolor": "white",
            "gridwidth": 2,
            "linecolor": "white",
            "showbackground": true,
            "ticks": "",
            "zerolinecolor": "white"
           },
           "zaxis": {
            "backgroundcolor": "#E5ECF6",
            "gridcolor": "white",
            "gridwidth": 2,
            "linecolor": "white",
            "showbackground": true,
            "ticks": "",
            "zerolinecolor": "white"
           }
          },
          "shapedefaults": {
           "line": {
            "color": "#2a3f5f"
           }
          },
          "ternary": {
           "aaxis": {
            "gridcolor": "white",
            "linecolor": "white",
            "ticks": ""
           },
           "baxis": {
            "gridcolor": "white",
            "linecolor": "white",
            "ticks": ""
           },
           "bgcolor": "#E5ECF6",
           "caxis": {
            "gridcolor": "white",
            "linecolor": "white",
            "ticks": ""
           }
          },
          "title": {
           "x": 0.05
          },
          "xaxis": {
           "automargin": true,
           "gridcolor": "white",
           "linecolor": "white",
           "ticks": "",
           "title": {
            "standoff": 15
           },
           "zerolinecolor": "white",
           "zerolinewidth": 2
          },
          "yaxis": {
           "automargin": true,
           "gridcolor": "white",
           "linecolor": "white",
           "ticks": "",
           "title": {
            "standoff": 15
           },
           "zerolinecolor": "white",
           "zerolinewidth": 2
          }
         }
        },
        "xaxis": {
         "anchor": "y",
         "domain": [
          0,
          1
         ],
         "title": {
          "text": "Mean Years of Education (Female)"
         }
        },
        "yaxis": {
         "anchor": "x",
         "domain": [
          0,
          1
         ],
         "title": {
          "text": "Life Expectancy at Birth (Female)"
         }
        }
       }
      },
      "text/html": [
       "<div>                            <div id=\"52a6e973-d63d-4ee3-aa32-6566af0bcb65\" class=\"plotly-graph-div\" style=\"height:525px; width:100%;\"></div>            <script type=\"text/javascript\">                require([\"plotly\"], function(Plotly) {                    window.PLOTLYENV=window.PLOTLYENV || {};                                    if (document.getElementById(\"52a6e973-d63d-4ee3-aa32-6566af0bcb65\")) {                    Plotly.newPlot(                        \"52a6e973-d63d-4ee3-aa32-6566af0bcb65\",                        [{\"hovertemplate\":\"Mean Years of Education (Female)=%{x}<br>Life Expectancy at Birth (Female)=%{y}<br>Human Development Index (Female)=%{marker.size}<br>Estimated Gross National Income per Capita (Female)=%{marker.color}<extra></extra>\",\"legendgroup\":\"\",\"marker\":{\"color\":[491.0,1657.0,1325.0,506.0,1595.0,877.0,1090.0,961.0,1657.0,1267.0,5733.0,1493.0,1582.0,693.0,1956.0,1040.0,1882.0,678.0,1625.0,476.0,1084.0,1450.0,2146.0,1312.0,2526.0,3222.0,679.0,2116.0,3122.0,778.0,2198.0,4086.0,1886.0,2626.0,597.0,1226.0,2320.0,2278.0,3898.0,4052.0,5165.0,5686.0,4279.0,2266.0,4928.0,864.0,5021.0,2365.0,3200.0,8531.0,3019.0,2255.0,4748.0,10296.0,5497.0,2967.0,7672.0,2613.0,1098.0,1387.0,10024.0,9017.0,10128.0,6485.0,14709.0,11820.0,10241.0,42292.0,3894.0,9785.0,8487.0,4383.0,5576.0,7334.0,7427.0,4828.0,8860.0,20094.0,11393.0,2141.0,10541.0,10194.0,21259.0,10233.0,5382.0,1580.0,9680.0,8040.0,54228.0,15179.0,8796.0,14721.0,4164.0,7217.0,8238.0,20038.0,12458.0,3587.0,15635.0,8018.0,24059.0,3811.0,9029.0,22526.0,2014.0,13699.0,8713.0,14732.0,4274.0,9697.0,14202.0,17288.0,22391.0,16435.0,29598.0,5820.0,59994.0,31644.0,3416.0,15250.0,55123.0,5034.0,10120.0,2122.0,11106.0,16200.0,12448.0,10245.0,31879.0,19669.0,3796.0,5452.0,6042.0,28792.0,38060.0,31073.0,4599.0,21896.0,15408.0,6518.0,17443.0,47723.0,24975.0,4912.0,22613.0,44132.0,29500.0,18437.0,18423.0,22180.0,17269.0,12922.0,4887.0,19929.0,40222.0,20955.0,19903.0,30104.0,24309.0,22451.0,20854.0,57140.0,36439.0,27259.0,34886.0,43054.0,33587.0,33688.0],\"coloraxis\":\"coloraxis\",\"size\":[0.287,0.338,0.376,0.328,0.414,0.358,0.403,0.363,0.436,0.414,0.572,0.431,0.37,0.381,0.521,0.39,0.428,0.387,0.446,0.303,0.439,0.436,0.41,0.472,0.519,0.555,0.423,0.525,0.548,0.443,0.525,0.543,0.52,0.48,0.393,0.452,0.504,0.541,0.637,0.468,0.561,0.611,0.561,0.478,0.633,0.52,0.608,0.583,0.54,0.678,0.558,0.527,0.671,0.67,0.652,0.615,0.62,0.482,0.497,0.487,0.716,0.692,0.705,0.655,0.741,0.726,0.702,0.793,0.494,0.719,0.722,0.637,0.662,0.718,0.699,0.689,0.71,0.778,0.752,0.587,0.752,0.736,0.823,0.731,0.649,0.607,0.753,0.712,0.84,0.691,0.726,0.797,0.626,0.711,0.719,0.789,0.772,0.674,0.753,0.725,0.863,0.64,0.737,0.851,0.6,0.776,0.646,0.815,0.699,0.757,0.819,0.844,0.796,0.806,0.856,0.715,0.898,0.879,0.681,0.787,0.853,0.696,0.721,0.638,0.782,0.812,0.777,0.791,0.872,0.763,0.704,0.73,0.734,0.886,0.892,0.881,0.694,0.861,0.787,0.747,0.818,0.877,0.87,0.747,0.836,0.898,0.893,0.829,0.844,0.877,0.804,0.806,0.736,0.859,0.906,0.851,0.841,0.901,0.894,0.879,0.872,0.94,0.912,0.888,0.901,0.911,0.904,0.922],\"sizemode\":\"area\",\"sizeref\":0.0023499999999999997,\"symbol\":\"circle\"},\"mode\":\"markers\",\"name\":\"\",\"orientation\":\"v\",\"showlegend\":false,\"type\":\"scatter\",\"x\":[0.8,1.0,1.0,1.2,1.3,1.4,1.4,1.5,1.8,2.0,2.0,2.1,2.2,2.2,2.3,2.4,2.5,2.6,2.7,2.8,3.0,3.1,3.2,3.2,3.2,3.2,3.4,3.6,3.6,3.7,3.7,3.9,4.0,4.2,4.5,4.5,4.5,4.5,4.8,4.9,4.9,4.9,5.1,5.3,5.4,5.4,5.5,5.5,5.6,5.7,5.8,5.9,5.9,6.2,6.2,6.2,6.3,6.5,6.6,6.7,6.7,6.9,6.9,7.0,7.0,7.1,7.3,7.3,7.4,7.4,7.4,7.5,7.5,7.6,7.7,7.7,7.7,7.8,7.8,8.0,8.0,8.0,8.1,8.2,8.4,8.4,8.4,8.5,8.5,8.7,8.7,8.7,8.9,8.9,9.0,9.1,9.2,9.3,9.4,9.4,9.4,9.5,9.5,9.5,9.6,9.6,9.7,9.7,9.8,9.8,9.8,9.8,9.9,9.9,9.9,10.0,10.1,10.2,10.3,10.3,10.4,10.5,10.5,10.5,10.5,10.5,10.6,10.6,10.6,10.7,10.7,10.7,10.8,10.8,10.9,11.0,11.1,11.2,11.3,11.3,11.3,11.3,11.3,11.4,11.4,11.5,11.6,11.7,11.7,11.8,11.9,11.9,12.0,12.1,12.2,12.3,12.3,12.3,12.5,12.5,12.7,12.7,12.8,12.9,12.9,13.0,13.1,13.1],\"xaxis\":\"x\",\"y\":[62.4,52.7,59.9,61.6,65.2,59.2,66.0,57.8,68.3,61.6,69.7,61.0,51.4,58.7,71.1,56.5,65.0,61.8,64.5,52.6,60.4,67.2,52.4,67.0,70.3,75.1,63.7,69.5,70.1,65.0,69.9,67.5,68.4,59.7,60.1,60.3,66.4,72.9,77.2,53.1,63.9,72.7,71.7,56.7,73.4,76.5,75.3,75.7,62.3,77.8,62.0,63.4,77.3,73.7,77.4,77.9,67.3,49.8,66.6,58.9,78.5,76.0,77.3,71.0,79.2,77.9,74.4,75.8,48.2,77.7,78.7,70.9,75.1,81.3,74.6,76.5,76.7,75.7,78.3,74.0,78.0,78.2,83.8,79.2,71.8,74.9,81.9,77.2,80.7,66.8,77.7,80.6,68.8,80.4,76.1,77.6,78.5,75.8,77.1,77.8,85.3,71.8,73.9,85.5,73.2,80.7,59.3,84.5,73.2,77.7,80.1,83.8,78.5,82.2,83.8,78.1,86.0,83.6,76.8,78.3,79.9,72.9,74.0,74.6,78.4,80.6,77.7,78.0,83.2,74.0,75.8,78.2,78.6,84.0,86.8,85.1,75.7,85.0,74.1,75.9,78.7,83.9,86.7,81.5,82.4,85.0,83.3,78.9,81.4,83.4,75.8,77.2,78.4,81.5,83.9,78.9,79.9,83.0,83.6,84.1,81.3,83.6,82.2,82.6,83.3,81.4,84.0,84.5],\"yaxis\":\"y\"}],                        {\"coloraxis\":{\"colorbar\":{\"title\":{\"text\":\"Estimated Gross National Income per Capita (Female)\"}},\"colorscale\":[[0.0,\"#0d0887\"],[0.1111111111111111,\"#46039f\"],[0.2222222222222222,\"#7201a8\"],[0.3333333333333333,\"#9c179e\"],[0.4444444444444444,\"#bd3786\"],[0.5555555555555556,\"#d8576b\"],[0.6666666666666666,\"#ed7953\"],[0.7777777777777778,\"#fb9f3a\"],[0.8888888888888888,\"#fdca26\"],[1.0,\"#f0f921\"]]},\"legend\":{\"itemsizing\":\"constant\",\"tracegroupgap\":0},\"margin\":{\"t\":60},\"template\":{\"data\":{\"bar\":[{\"error_x\":{\"color\":\"#2a3f5f\"},\"error_y\":{\"color\":\"#2a3f5f\"},\"marker\":{\"line\":{\"color\":\"#E5ECF6\",\"width\":0.5},\"pattern\":{\"fillmode\":\"overlay\",\"size\":10,\"solidity\":0.2}},\"type\":\"bar\"}],\"barpolar\":[{\"marker\":{\"line\":{\"color\":\"#E5ECF6\",\"width\":0.5},\"pattern\":{\"fillmode\":\"overlay\",\"size\":10,\"solidity\":0.2}},\"type\":\"barpolar\"}],\"carpet\":[{\"aaxis\":{\"endlinecolor\":\"#2a3f5f\",\"gridcolor\":\"white\",\"linecolor\":\"white\",\"minorgridcolor\":\"white\",\"startlinecolor\":\"#2a3f5f\"},\"baxis\":{\"endlinecolor\":\"#2a3f5f\",\"gridcolor\":\"white\",\"linecolor\":\"white\",\"minorgridcolor\":\"white\",\"startlinecolor\":\"#2a3f5f\"},\"type\":\"carpet\"}],\"choropleth\":[{\"colorbar\":{\"outlinewidth\":0,\"ticks\":\"\"},\"type\":\"choropleth\"}],\"contour\":[{\"colorbar\":{\"outlinewidth\":0,\"ticks\":\"\"},\"colorscale\":[[0.0,\"#0d0887\"],[0.1111111111111111,\"#46039f\"],[0.2222222222222222,\"#7201a8\"],[0.3333333333333333,\"#9c179e\"],[0.4444444444444444,\"#bd3786\"],[0.5555555555555556,\"#d8576b\"],[0.6666666666666666,\"#ed7953\"],[0.7777777777777778,\"#fb9f3a\"],[0.8888888888888888,\"#fdca26\"],[1.0,\"#f0f921\"]],\"type\":\"contour\"}],\"contourcarpet\":[{\"colorbar\":{\"outlinewidth\":0,\"ticks\":\"\"},\"type\":\"contourcarpet\"}],\"heatmap\":[{\"colorbar\":{\"outlinewidth\":0,\"ticks\":\"\"},\"colorscale\":[[0.0,\"#0d0887\"],[0.1111111111111111,\"#46039f\"],[0.2222222222222222,\"#7201a8\"],[0.3333333333333333,\"#9c179e\"],[0.4444444444444444,\"#bd3786\"],[0.5555555555555556,\"#d8576b\"],[0.6666666666666666,\"#ed7953\"],[0.7777777777777778,\"#fb9f3a\"],[0.8888888888888888,\"#fdca26\"],[1.0,\"#f0f921\"]],\"type\":\"heatmap\"}],\"heatmapgl\":[{\"colorbar\":{\"outlinewidth\":0,\"ticks\":\"\"},\"colorscale\":[[0.0,\"#0d0887\"],[0.1111111111111111,\"#46039f\"],[0.2222222222222222,\"#7201a8\"],[0.3333333333333333,\"#9c179e\"],[0.4444444444444444,\"#bd3786\"],[0.5555555555555556,\"#d8576b\"],[0.6666666666666666,\"#ed7953\"],[0.7777777777777778,\"#fb9f3a\"],[0.8888888888888888,\"#fdca26\"],[1.0,\"#f0f921\"]],\"type\":\"heatmapgl\"}],\"histogram\":[{\"marker\":{\"pattern\":{\"fillmode\":\"overlay\",\"size\":10,\"solidity\":0.2}},\"type\":\"histogram\"}],\"histogram2d\":[{\"colorbar\":{\"outlinewidth\":0,\"ticks\":\"\"},\"colorscale\":[[0.0,\"#0d0887\"],[0.1111111111111111,\"#46039f\"],[0.2222222222222222,\"#7201a8\"],[0.3333333333333333,\"#9c179e\"],[0.4444444444444444,\"#bd3786\"],[0.5555555555555556,\"#d8576b\"],[0.6666666666666666,\"#ed7953\"],[0.7777777777777778,\"#fb9f3a\"],[0.8888888888888888,\"#fdca26\"],[1.0,\"#f0f921\"]],\"type\":\"histogram2d\"}],\"histogram2dcontour\":[{\"colorbar\":{\"outlinewidth\":0,\"ticks\":\"\"},\"colorscale\":[[0.0,\"#0d0887\"],[0.1111111111111111,\"#46039f\"],[0.2222222222222222,\"#7201a8\"],[0.3333333333333333,\"#9c179e\"],[0.4444444444444444,\"#bd3786\"],[0.5555555555555556,\"#d8576b\"],[0.6666666666666666,\"#ed7953\"],[0.7777777777777778,\"#fb9f3a\"],[0.8888888888888888,\"#fdca26\"],[1.0,\"#f0f921\"]],\"type\":\"histogram2dcontour\"}],\"mesh3d\":[{\"colorbar\":{\"outlinewidth\":0,\"ticks\":\"\"},\"type\":\"mesh3d\"}],\"parcoords\":[{\"line\":{\"colorbar\":{\"outlinewidth\":0,\"ticks\":\"\"}},\"type\":\"parcoords\"}],\"pie\":[{\"automargin\":true,\"type\":\"pie\"}],\"scatter\":[{\"marker\":{\"colorbar\":{\"outlinewidth\":0,\"ticks\":\"\"}},\"type\":\"scatter\"}],\"scatter3d\":[{\"line\":{\"colorbar\":{\"outlinewidth\":0,\"ticks\":\"\"}},\"marker\":{\"colorbar\":{\"outlinewidth\":0,\"ticks\":\"\"}},\"type\":\"scatter3d\"}],\"scattercarpet\":[{\"marker\":{\"colorbar\":{\"outlinewidth\":0,\"ticks\":\"\"}},\"type\":\"scattercarpet\"}],\"scattergeo\":[{\"marker\":{\"colorbar\":{\"outlinewidth\":0,\"ticks\":\"\"}},\"type\":\"scattergeo\"}],\"scattergl\":[{\"marker\":{\"colorbar\":{\"outlinewidth\":0,\"ticks\":\"\"}},\"type\":\"scattergl\"}],\"scattermapbox\":[{\"marker\":{\"colorbar\":{\"outlinewidth\":0,\"ticks\":\"\"}},\"type\":\"scattermapbox\"}],\"scatterpolar\":[{\"marker\":{\"colorbar\":{\"outlinewidth\":0,\"ticks\":\"\"}},\"type\":\"scatterpolar\"}],\"scatterpolargl\":[{\"marker\":{\"colorbar\":{\"outlinewidth\":0,\"ticks\":\"\"}},\"type\":\"scatterpolargl\"}],\"scatterternary\":[{\"marker\":{\"colorbar\":{\"outlinewidth\":0,\"ticks\":\"\"}},\"type\":\"scatterternary\"}],\"surface\":[{\"colorbar\":{\"outlinewidth\":0,\"ticks\":\"\"},\"colorscale\":[[0.0,\"#0d0887\"],[0.1111111111111111,\"#46039f\"],[0.2222222222222222,\"#7201a8\"],[0.3333333333333333,\"#9c179e\"],[0.4444444444444444,\"#bd3786\"],[0.5555555555555556,\"#d8576b\"],[0.6666666666666666,\"#ed7953\"],[0.7777777777777778,\"#fb9f3a\"],[0.8888888888888888,\"#fdca26\"],[1.0,\"#f0f921\"]],\"type\":\"surface\"}],\"table\":[{\"cells\":{\"fill\":{\"color\":\"#EBF0F8\"},\"line\":{\"color\":\"white\"}},\"header\":{\"fill\":{\"color\":\"#C8D4E3\"},\"line\":{\"color\":\"white\"}},\"type\":\"table\"}]},\"layout\":{\"annotationdefaults\":{\"arrowcolor\":\"#2a3f5f\",\"arrowhead\":0,\"arrowwidth\":1},\"autotypenumbers\":\"strict\",\"coloraxis\":{\"colorbar\":{\"outlinewidth\":0,\"ticks\":\"\"}},\"colorscale\":{\"diverging\":[[0,\"#8e0152\"],[0.1,\"#c51b7d\"],[0.2,\"#de77ae\"],[0.3,\"#f1b6da\"],[0.4,\"#fde0ef\"],[0.5,\"#f7f7f7\"],[0.6,\"#e6f5d0\"],[0.7,\"#b8e186\"],[0.8,\"#7fbc41\"],[0.9,\"#4d9221\"],[1,\"#276419\"]],\"sequential\":[[0.0,\"#0d0887\"],[0.1111111111111111,\"#46039f\"],[0.2222222222222222,\"#7201a8\"],[0.3333333333333333,\"#9c179e\"],[0.4444444444444444,\"#bd3786\"],[0.5555555555555556,\"#d8576b\"],[0.6666666666666666,\"#ed7953\"],[0.7777777777777778,\"#fb9f3a\"],[0.8888888888888888,\"#fdca26\"],[1.0,\"#f0f921\"]],\"sequentialminus\":[[0.0,\"#0d0887\"],[0.1111111111111111,\"#46039f\"],[0.2222222222222222,\"#7201a8\"],[0.3333333333333333,\"#9c179e\"],[0.4444444444444444,\"#bd3786\"],[0.5555555555555556,\"#d8576b\"],[0.6666666666666666,\"#ed7953\"],[0.7777777777777778,\"#fb9f3a\"],[0.8888888888888888,\"#fdca26\"],[1.0,\"#f0f921\"]]},\"colorway\":[\"#636efa\",\"#EF553B\",\"#00cc96\",\"#ab63fa\",\"#FFA15A\",\"#19d3f3\",\"#FF6692\",\"#B6E880\",\"#FF97FF\",\"#FECB52\"],\"font\":{\"color\":\"#2a3f5f\"},\"geo\":{\"bgcolor\":\"white\",\"lakecolor\":\"white\",\"landcolor\":\"#E5ECF6\",\"showlakes\":true,\"showland\":true,\"subunitcolor\":\"white\"},\"hoverlabel\":{\"align\":\"left\"},\"hovermode\":\"closest\",\"mapbox\":{\"style\":\"light\"},\"paper_bgcolor\":\"white\",\"plot_bgcolor\":\"#E5ECF6\",\"polar\":{\"angularaxis\":{\"gridcolor\":\"white\",\"linecolor\":\"white\",\"ticks\":\"\"},\"bgcolor\":\"#E5ECF6\",\"radialaxis\":{\"gridcolor\":\"white\",\"linecolor\":\"white\",\"ticks\":\"\"}},\"scene\":{\"xaxis\":{\"backgroundcolor\":\"#E5ECF6\",\"gridcolor\":\"white\",\"gridwidth\":2,\"linecolor\":\"white\",\"showbackground\":true,\"ticks\":\"\",\"zerolinecolor\":\"white\"},\"yaxis\":{\"backgroundcolor\":\"#E5ECF6\",\"gridcolor\":\"white\",\"gridwidth\":2,\"linecolor\":\"white\",\"showbackground\":true,\"ticks\":\"\",\"zerolinecolor\":\"white\"},\"zaxis\":{\"backgroundcolor\":\"#E5ECF6\",\"gridcolor\":\"white\",\"gridwidth\":2,\"linecolor\":\"white\",\"showbackground\":true,\"ticks\":\"\",\"zerolinecolor\":\"white\"}},\"shapedefaults\":{\"line\":{\"color\":\"#2a3f5f\"}},\"ternary\":{\"aaxis\":{\"gridcolor\":\"white\",\"linecolor\":\"white\",\"ticks\":\"\"},\"baxis\":{\"gridcolor\":\"white\",\"linecolor\":\"white\",\"ticks\":\"\"},\"bgcolor\":\"#E5ECF6\",\"caxis\":{\"gridcolor\":\"white\",\"linecolor\":\"white\",\"ticks\":\"\"}},\"title\":{\"x\":0.05},\"xaxis\":{\"automargin\":true,\"gridcolor\":\"white\",\"linecolor\":\"white\",\"ticks\":\"\",\"title\":{\"standoff\":15},\"zerolinecolor\":\"white\",\"zerolinewidth\":2},\"yaxis\":{\"automargin\":true,\"gridcolor\":\"white\",\"linecolor\":\"white\",\"ticks\":\"\",\"title\":{\"standoff\":15},\"zerolinecolor\":\"white\",\"zerolinewidth\":2}}},\"xaxis\":{\"anchor\":\"y\",\"domain\":[0.0,1.0],\"title\":{\"text\":\"Mean Years of Education (Female)\"}},\"yaxis\":{\"anchor\":\"x\",\"domain\":[0.0,1.0],\"title\":{\"text\":\"Life Expectancy at Birth (Female)\"}}},                        {\"responsive\": true}                    ).then(function(){\n",
       "                            \n",
       "var gd = document.getElementById('52a6e973-d63d-4ee3-aa32-6566af0bcb65');\n",
       "var x = new MutationObserver(function (mutations, observer) {{\n",
       "        var display = window.getComputedStyle(gd).display;\n",
       "        if (!display || display === 'none') {{\n",
       "            console.log([gd, 'removed!']);\n",
       "            Plotly.purge(gd);\n",
       "            observer.disconnect();\n",
       "        }}\n",
       "}});\n",
       "\n",
       "// Listen for the removal of the full notebook cells\n",
       "var notebookContainer = gd.closest('#notebook-container');\n",
       "if (notebookContainer) {{\n",
       "    x.observe(notebookContainer, {childList: true});\n",
       "}}\n",
       "\n",
       "// Listen for the clearing of the current output cell\n",
       "var outputEl = gd.closest('.output');\n",
       "if (outputEl) {{\n",
       "    x.observe(outputEl, {childList: true});\n",
       "}}\n",
       "\n",
       "                        })                };                });            </script>        </div>"
      ]
     },
     "metadata": {},
     "output_type": "display_data"
    }
   ],
   "source": [
    "csv_file = \"gender_development.csv\"\n",
    "df = pd.read_csv(csv_file)\n",
    "df.drop(df.index[df['Mean Years of Education (Female)'] == '..'], inplace = True)\n",
    "df.drop(df.index[df['Life Expectancy at Birth (Female)'] == '..'], inplace = True)\n",
    "df.drop(df.index[df['Estimated Gross National Income per Capita (Female)'] == '..'], inplace = True)\n",
    "df.drop(df.index[df['Human Development Index (Female)'] == '..'], inplace = True)\n",
    "\n",
    "df[\"Mean Years of Education (Female)\"] = df[\"Mean Years of Education (Female)\"].astype(float)\n",
    "df[\"Life Expectancy at Birth (Female)\"] = df[\"Life Expectancy at Birth (Female)\"].astype(float)\n",
    "df[\"Estimated Gross National Income per Capita (Female)\"] = df[\"Estimated Gross National Income per Capita (Female)\"].astype(float)\n",
    "df[\"Human Development Index (Female)\"] = df[\"Human Development Index (Female)\"].astype(float)\n",
    "\n",
    "df.sort_values(by=['Mean Years of Education (Female)', 'Life Expectancy at Birth (Female)', \n",
    "                   'Estimated Gross National Income per Capita (Female)', 'Human Development Index (Female)'], inplace=True)\n",
    "\n",
    "fig = px.scatter(df, x=\"Mean Years of Education (Female)\", \n",
    "                 y=\"Life Expectancy at Birth (Female)\", color=\"Estimated Gross National Income per Capita (Female)\", size=\"Human Development Index (Female)\")\n",
    "fig.show()"
   ]
  },
  {
   "cell_type": "code",
   "execution_count": 56,
   "metadata": {},
   "outputs": [
    {
     "data": {
      "application/vnd.plotly.v1+json": {
       "config": {
        "plotlyServerURL": "https://plot.ly"
       },
       "data": [
        {
         "hovertemplate": "Mean Years of Education (Male)=%{x}<br>Life Expectancy at Birth (Male)=%{y}<br>Human Development Index (Male)=%{marker.size}<br>Estimated Gross National Income per Capita (Male)=%{marker.color}<extra></extra>",
         "legendgroup": "",
         "marker": {
          "color": [
           1859,
           1319,
           2195,
           2513,
           825,
           2739,
           1765,
           1314,
           1753,
           5722,
           5412,
           1981,
           8418,
           1210,
           1612,
           2690,
           2043,
           5468,
           3227,
           4017,
           815,
           4157,
           7530,
           10573,
           3393,
           5508,
           3976,
           4083,
           2123,
           689,
           8934,
           930,
           2502,
           5979,
           4148,
           16073,
           11267,
           1560,
           5279,
           8100,
           1997,
           1376,
           6859,
           3341,
           7235,
           8827,
           9406,
           24985,
           22392,
           6585,
           111988,
           8656,
           14903,
           4452,
           3270,
           14372,
           4523,
           19084,
           14888,
           12723,
           1850,
           765,
           23515,
           16049,
           16159,
           22009,
           4515,
           10439,
           18373,
           9678,
           8804,
           20970,
           13780,
           18435,
           13052,
           24166,
           14795,
           25391,
           17033,
           30543,
           27645,
           46400,
           77300,
           19840,
           25924,
           22252,
           143979,
           7140,
           12462,
           90437,
           18096,
           24581,
           22597,
           7726,
           11576,
           77044,
           9059,
           13977,
           12655,
           49890,
           30237,
           14754,
           40221,
           7342,
           27992,
           10592,
           17607,
           3445,
           30320,
           15737,
           14739,
           45994,
           44148,
           7124,
           18926,
           41486,
           10198,
           18831,
           31952,
           3992,
           6336,
           39432,
           32656,
           10089,
           14307,
           93699,
           21117,
           50845,
           3017,
           22814,
           26845,
           14799,
           5915,
           45497,
           10120,
           26746,
           22853,
           9665,
           49541,
           18094,
           34400,
           28271,
           58826,
           72052,
           28287,
           33593,
           49166,
           51084,
           21010,
           69800,
           28960,
           30254,
           32122,
           61641,
           9718,
           28656,
           33604,
           72825,
           41372,
           39064,
           51727,
           46018,
           63158,
           50914,
           50853,
           69077,
           51628,
           53290
          ],
          "coloraxis": "coloraxis",
          "size": [
           0.427,
           0.394,
           0.468,
           0.44,
           0.418,
           0.494,
           0.479,
           0.46,
           0.466,
           0.516,
           0.56,
           0.454,
           0.638,
           0.443,
           0.493,
           0.574,
           0.524,
           0.546,
           0.546,
           0.505,
           0.467,
           0.507,
           0.631,
           0.67,
           0.584,
           0.618,
           0.584,
           0.59,
           0.545,
           0.392,
           0.641,
           0.491,
           0.538,
           0.64,
           0.55,
           0.723,
           0.632,
           0.526,
           0.606,
           0.601,
           0.51,
           0.527,
           0.609,
           0.544,
           0.561,
           0.655,
           0.676,
           0.719,
           0.736,
           0.556,
           0.816,
           0.66,
           0.713,
           0.609,
           0.577,
           0.721,
           0.623,
           0.754,
           0.726,
           0.737,
           0.529,
           0.472,
           0.712,
           0.729,
           0.751,
           0.761,
           0.61,
           0.664,
           0.725,
           0.692,
           0.636,
           0.72,
           0.73,
           0.754,
           0.706,
           0.783,
           0.747,
           0.8,
           0.774,
           0.836,
           0.793,
           0.815,
           0.835,
           0.749,
           0.804,
           0.775,
           0.854,
           0.684,
           0.716,
           0.86,
           0.704,
           0.792,
           0.779,
           0.706,
           0.731,
           0.864,
           0.719,
           0.752,
           0.75,
           0.839,
           0.834,
           0.765,
           0.885,
           0.678,
           0.843,
           0.743,
           0.76,
           0.65,
           0.795,
           0.681,
           0.777,
           0.882,
           0.883,
           0.713,
           0.784,
           0.909,
           0.727,
           0.784,
           0.879,
           0.664,
           0.727,
           0.861,
           0.774,
           0.728,
           0.769,
           0.912,
           0.796,
           0.895,
           0.648,
           0.766,
           0.805,
           0.784,
           0.692,
           0.893,
           0.745,
           0.785,
           0.823,
           0.783,
           0.905,
           0.819,
           0.861,
           0.839,
           0.909,
           0.931,
           0.789,
           0.881,
           0.926,
           0.906,
           0.789,
           0.903,
           0.838,
           0.847,
           0.842,
           0.943,
           0.765,
           0.827,
           0.877,
           0.944,
           0.93,
           0.905,
           0.934,
           0.926,
           0.916,
           0.945,
           0.921,
           0.945,
           0.92,
           0.936
          ],
          "sizemode": "area",
          "sizeref": 0.0023625,
          "symbol": "circle"
         },
         "mode": "markers",
         "name": "",
         "orientation": "v",
         "showlegend": false,
         "type": "scatter",
         "x": [
          1.9,
          2,
          2.7,
          2.9,
          3.1,
          3.2,
          3.6,
          3.7,
          3.7,
          3.8,
          3.8,
          4,
          4.1,
          4.3,
          4.3,
          4.5,
          4.6,
          4.8,
          5.1,
          5.2,
          5.2,
          5.3,
          5.3,
          5.3,
          5.4,
          5.4,
          5.5,
          5.5,
          5.6,
          5.7,
          5.7,
          5.8,
          5.8,
          5.8,
          6,
          6,
          6.1,
          6.1,
          6.1,
          6.2,
          6.3,
          6.3,
          6.5,
          6.7,
          6.8,
          6.9,
          6.9,
          6.9,
          7,
          7.1,
          7.1,
          7.2,
          7.2,
          7.3,
          7.3,
          7.3,
          7.4,
          7.5,
          7.5,
          7.6,
          7.7,
          7.7,
          7.7,
          7.7,
          7.8,
          7.8,
          7.9,
          7.9,
          7.9,
          7.9,
          8,
          8,
          8,
          8.1,
          8.2,
          8.2,
          8.2,
          8.2,
          8.3,
          8.4,
          8.5,
          8.5,
          8.5,
          8.6,
          8.6,
          8.8,
          8.8,
          8.9,
          9,
          9,
          9.1,
          9.1,
          9.1,
          9.3,
          9.3,
          9.3,
          9.4,
          9.6,
          9.6,
          9.6,
          9.8,
          9.8,
          9.8,
          9.9,
          9.9,
          10,
          10,
          10,
          10.1,
          10.2,
          10.2,
          10.2,
          10.2,
          10.3,
          10.4,
          10.4,
          10.5,
          10.5,
          10.5,
          10.6,
          10.8,
          10.8,
          10.9,
          10.9,
          10.9,
          10.9,
          11.1,
          11.1,
          11.2,
          11.2,
          11.2,
          11.2,
          11.3,
          11.3,
          11.4,
          11.5,
          11.6,
          11.6,
          11.7,
          11.8,
          11.8,
          11.9,
          11.9,
          11.9,
          12,
          12,
          12,
          12,
          12.1,
          12.1,
          12.2,
          12.2,
          12.2,
          12.2,
          12.3,
          12.5,
          12.5,
          12.5,
          12.6,
          12.6,
          12.7,
          12.7,
          12.9,
          12.9,
          13,
          13.1,
          13.2,
          13.8
         ],
         "xaxis": "x",
         "y": [
          57.3,
          60.6,
          58.2,
          50.5,
          54.8,
          64.5,
          62.2,
          58.3,
          58.9,
          62,
          62.5,
          50.4,
          69.2,
          53.6,
          61.1,
          68.2,
          58.1,
          61.6,
          59.2,
          49.6,
          61.7,
          50.7,
          66.5,
          73,
          66.2,
          70.7,
          64.4,
          70.4,
          61.6,
          48.8,
          68.3,
          59.9,
          63.5,
          71.9,
          57.1,
          75.8,
          62.1,
          63.6,
          64.8,
          65.3,
          56.7,
          58.9,
          60.8,
          54.4,
          49.6,
          67.1,
          68.3,
          68.8,
          68.9,
          52.4,
          73.5,
          66.6,
          70.4,
          58.2,
          59.9,
          70.5,
          64,
          70.7,
          71.1,
          73.2,
          56.2,
          57.2,
          67.2,
          69,
          72.5,
          72.5,
          60.4,
          64.9,
          69.5,
          70.8,
          64.2,
          68,
          72.2,
          71.7,
          66.9,
          73.5,
          74.3,
          77.6,
          77,
          77.9,
          72,
          75.1,
          76.3,
          70.2,
          74.3,
          74.4,
          77.3,
          65.9,
          65.3,
          77,
          62.1,
          70.9,
          74.6,
          71,
          72.4,
          73,
          73.3,
          71.9,
          75.4,
          75.8,
          72.4,
          73.1,
          79.8,
          65,
          78.6,
          67.2,
          68.5,
          69.9,
          72.4,
          55.2,
          73.2,
          78,
          80.6,
          70.4,
          70.8,
          81,
          67.4,
          72.4,
          78,
          66.6,
          69.9,
          78.8,
          67,
          70.9,
          71.5,
          79.9,
          71.2,
          78.3,
          66.2,
          67.7,
          69.1,
          72.1,
          67.4,
          79.2,
          66,
          64.6,
          74,
          77.4,
          80.2,
          74.1,
          78,
          73.4,
          78.8,
          81.2,
          64.4,
          77.3,
          78.8,
          80.4,
          65.5,
          79.3,
          71.5,
          72,
          72.5,
          79.7,
          71.2,
          67.7,
          75.7,
          79.5,
          80,
          80.5,
          78.3,
          78.5,
          76.7,
          80.3,
          80,
          80.8,
          78.7,
          78.5
         ],
         "yaxis": "y"
        }
       ],
       "layout": {
        "coloraxis": {
         "colorbar": {
          "title": {
           "text": "Estimated Gross National Income per Capita (Male)"
          }
         },
         "colorscale": [
          [
           0,
           "#0d0887"
          ],
          [
           0.1111111111111111,
           "#46039f"
          ],
          [
           0.2222222222222222,
           "#7201a8"
          ],
          [
           0.3333333333333333,
           "#9c179e"
          ],
          [
           0.4444444444444444,
           "#bd3786"
          ],
          [
           0.5555555555555556,
           "#d8576b"
          ],
          [
           0.6666666666666666,
           "#ed7953"
          ],
          [
           0.7777777777777778,
           "#fb9f3a"
          ],
          [
           0.8888888888888888,
           "#fdca26"
          ],
          [
           1,
           "#f0f921"
          ]
         ]
        },
        "legend": {
         "itemsizing": "constant",
         "tracegroupgap": 0
        },
        "margin": {
         "t": 60
        },
        "template": {
         "data": {
          "bar": [
           {
            "error_x": {
             "color": "#2a3f5f"
            },
            "error_y": {
             "color": "#2a3f5f"
            },
            "marker": {
             "line": {
              "color": "#E5ECF6",
              "width": 0.5
             },
             "pattern": {
              "fillmode": "overlay",
              "size": 10,
              "solidity": 0.2
             }
            },
            "type": "bar"
           }
          ],
          "barpolar": [
           {
            "marker": {
             "line": {
              "color": "#E5ECF6",
              "width": 0.5
             },
             "pattern": {
              "fillmode": "overlay",
              "size": 10,
              "solidity": 0.2
             }
            },
            "type": "barpolar"
           }
          ],
          "carpet": [
           {
            "aaxis": {
             "endlinecolor": "#2a3f5f",
             "gridcolor": "white",
             "linecolor": "white",
             "minorgridcolor": "white",
             "startlinecolor": "#2a3f5f"
            },
            "baxis": {
             "endlinecolor": "#2a3f5f",
             "gridcolor": "white",
             "linecolor": "white",
             "minorgridcolor": "white",
             "startlinecolor": "#2a3f5f"
            },
            "type": "carpet"
           }
          ],
          "choropleth": [
           {
            "colorbar": {
             "outlinewidth": 0,
             "ticks": ""
            },
            "type": "choropleth"
           }
          ],
          "contour": [
           {
            "colorbar": {
             "outlinewidth": 0,
             "ticks": ""
            },
            "colorscale": [
             [
              0,
              "#0d0887"
             ],
             [
              0.1111111111111111,
              "#46039f"
             ],
             [
              0.2222222222222222,
              "#7201a8"
             ],
             [
              0.3333333333333333,
              "#9c179e"
             ],
             [
              0.4444444444444444,
              "#bd3786"
             ],
             [
              0.5555555555555556,
              "#d8576b"
             ],
             [
              0.6666666666666666,
              "#ed7953"
             ],
             [
              0.7777777777777778,
              "#fb9f3a"
             ],
             [
              0.8888888888888888,
              "#fdca26"
             ],
             [
              1,
              "#f0f921"
             ]
            ],
            "type": "contour"
           }
          ],
          "contourcarpet": [
           {
            "colorbar": {
             "outlinewidth": 0,
             "ticks": ""
            },
            "type": "contourcarpet"
           }
          ],
          "heatmap": [
           {
            "colorbar": {
             "outlinewidth": 0,
             "ticks": ""
            },
            "colorscale": [
             [
              0,
              "#0d0887"
             ],
             [
              0.1111111111111111,
              "#46039f"
             ],
             [
              0.2222222222222222,
              "#7201a8"
             ],
             [
              0.3333333333333333,
              "#9c179e"
             ],
             [
              0.4444444444444444,
              "#bd3786"
             ],
             [
              0.5555555555555556,
              "#d8576b"
             ],
             [
              0.6666666666666666,
              "#ed7953"
             ],
             [
              0.7777777777777778,
              "#fb9f3a"
             ],
             [
              0.8888888888888888,
              "#fdca26"
             ],
             [
              1,
              "#f0f921"
             ]
            ],
            "type": "heatmap"
           }
          ],
          "heatmapgl": [
           {
            "colorbar": {
             "outlinewidth": 0,
             "ticks": ""
            },
            "colorscale": [
             [
              0,
              "#0d0887"
             ],
             [
              0.1111111111111111,
              "#46039f"
             ],
             [
              0.2222222222222222,
              "#7201a8"
             ],
             [
              0.3333333333333333,
              "#9c179e"
             ],
             [
              0.4444444444444444,
              "#bd3786"
             ],
             [
              0.5555555555555556,
              "#d8576b"
             ],
             [
              0.6666666666666666,
              "#ed7953"
             ],
             [
              0.7777777777777778,
              "#fb9f3a"
             ],
             [
              0.8888888888888888,
              "#fdca26"
             ],
             [
              1,
              "#f0f921"
             ]
            ],
            "type": "heatmapgl"
           }
          ],
          "histogram": [
           {
            "marker": {
             "pattern": {
              "fillmode": "overlay",
              "size": 10,
              "solidity": 0.2
             }
            },
            "type": "histogram"
           }
          ],
          "histogram2d": [
           {
            "colorbar": {
             "outlinewidth": 0,
             "ticks": ""
            },
            "colorscale": [
             [
              0,
              "#0d0887"
             ],
             [
              0.1111111111111111,
              "#46039f"
             ],
             [
              0.2222222222222222,
              "#7201a8"
             ],
             [
              0.3333333333333333,
              "#9c179e"
             ],
             [
              0.4444444444444444,
              "#bd3786"
             ],
             [
              0.5555555555555556,
              "#d8576b"
             ],
             [
              0.6666666666666666,
              "#ed7953"
             ],
             [
              0.7777777777777778,
              "#fb9f3a"
             ],
             [
              0.8888888888888888,
              "#fdca26"
             ],
             [
              1,
              "#f0f921"
             ]
            ],
            "type": "histogram2d"
           }
          ],
          "histogram2dcontour": [
           {
            "colorbar": {
             "outlinewidth": 0,
             "ticks": ""
            },
            "colorscale": [
             [
              0,
              "#0d0887"
             ],
             [
              0.1111111111111111,
              "#46039f"
             ],
             [
              0.2222222222222222,
              "#7201a8"
             ],
             [
              0.3333333333333333,
              "#9c179e"
             ],
             [
              0.4444444444444444,
              "#bd3786"
             ],
             [
              0.5555555555555556,
              "#d8576b"
             ],
             [
              0.6666666666666666,
              "#ed7953"
             ],
             [
              0.7777777777777778,
              "#fb9f3a"
             ],
             [
              0.8888888888888888,
              "#fdca26"
             ],
             [
              1,
              "#f0f921"
             ]
            ],
            "type": "histogram2dcontour"
           }
          ],
          "mesh3d": [
           {
            "colorbar": {
             "outlinewidth": 0,
             "ticks": ""
            },
            "type": "mesh3d"
           }
          ],
          "parcoords": [
           {
            "line": {
             "colorbar": {
              "outlinewidth": 0,
              "ticks": ""
             }
            },
            "type": "parcoords"
           }
          ],
          "pie": [
           {
            "automargin": true,
            "type": "pie"
           }
          ],
          "scatter": [
           {
            "marker": {
             "colorbar": {
              "outlinewidth": 0,
              "ticks": ""
             }
            },
            "type": "scatter"
           }
          ],
          "scatter3d": [
           {
            "line": {
             "colorbar": {
              "outlinewidth": 0,
              "ticks": ""
             }
            },
            "marker": {
             "colorbar": {
              "outlinewidth": 0,
              "ticks": ""
             }
            },
            "type": "scatter3d"
           }
          ],
          "scattercarpet": [
           {
            "marker": {
             "colorbar": {
              "outlinewidth": 0,
              "ticks": ""
             }
            },
            "type": "scattercarpet"
           }
          ],
          "scattergeo": [
           {
            "marker": {
             "colorbar": {
              "outlinewidth": 0,
              "ticks": ""
             }
            },
            "type": "scattergeo"
           }
          ],
          "scattergl": [
           {
            "marker": {
             "colorbar": {
              "outlinewidth": 0,
              "ticks": ""
             }
            },
            "type": "scattergl"
           }
          ],
          "scattermapbox": [
           {
            "marker": {
             "colorbar": {
              "outlinewidth": 0,
              "ticks": ""
             }
            },
            "type": "scattermapbox"
           }
          ],
          "scatterpolar": [
           {
            "marker": {
             "colorbar": {
              "outlinewidth": 0,
              "ticks": ""
             }
            },
            "type": "scatterpolar"
           }
          ],
          "scatterpolargl": [
           {
            "marker": {
             "colorbar": {
              "outlinewidth": 0,
              "ticks": ""
             }
            },
            "type": "scatterpolargl"
           }
          ],
          "scatterternary": [
           {
            "marker": {
             "colorbar": {
              "outlinewidth": 0,
              "ticks": ""
             }
            },
            "type": "scatterternary"
           }
          ],
          "surface": [
           {
            "colorbar": {
             "outlinewidth": 0,
             "ticks": ""
            },
            "colorscale": [
             [
              0,
              "#0d0887"
             ],
             [
              0.1111111111111111,
              "#46039f"
             ],
             [
              0.2222222222222222,
              "#7201a8"
             ],
             [
              0.3333333333333333,
              "#9c179e"
             ],
             [
              0.4444444444444444,
              "#bd3786"
             ],
             [
              0.5555555555555556,
              "#d8576b"
             ],
             [
              0.6666666666666666,
              "#ed7953"
             ],
             [
              0.7777777777777778,
              "#fb9f3a"
             ],
             [
              0.8888888888888888,
              "#fdca26"
             ],
             [
              1,
              "#f0f921"
             ]
            ],
            "type": "surface"
           }
          ],
          "table": [
           {
            "cells": {
             "fill": {
              "color": "#EBF0F8"
             },
             "line": {
              "color": "white"
             }
            },
            "header": {
             "fill": {
              "color": "#C8D4E3"
             },
             "line": {
              "color": "white"
             }
            },
            "type": "table"
           }
          ]
         },
         "layout": {
          "annotationdefaults": {
           "arrowcolor": "#2a3f5f",
           "arrowhead": 0,
           "arrowwidth": 1
          },
          "autotypenumbers": "strict",
          "coloraxis": {
           "colorbar": {
            "outlinewidth": 0,
            "ticks": ""
           }
          },
          "colorscale": {
           "diverging": [
            [
             0,
             "#8e0152"
            ],
            [
             0.1,
             "#c51b7d"
            ],
            [
             0.2,
             "#de77ae"
            ],
            [
             0.3,
             "#f1b6da"
            ],
            [
             0.4,
             "#fde0ef"
            ],
            [
             0.5,
             "#f7f7f7"
            ],
            [
             0.6,
             "#e6f5d0"
            ],
            [
             0.7,
             "#b8e186"
            ],
            [
             0.8,
             "#7fbc41"
            ],
            [
             0.9,
             "#4d9221"
            ],
            [
             1,
             "#276419"
            ]
           ],
           "sequential": [
            [
             0,
             "#0d0887"
            ],
            [
             0.1111111111111111,
             "#46039f"
            ],
            [
             0.2222222222222222,
             "#7201a8"
            ],
            [
             0.3333333333333333,
             "#9c179e"
            ],
            [
             0.4444444444444444,
             "#bd3786"
            ],
            [
             0.5555555555555556,
             "#d8576b"
            ],
            [
             0.6666666666666666,
             "#ed7953"
            ],
            [
             0.7777777777777778,
             "#fb9f3a"
            ],
            [
             0.8888888888888888,
             "#fdca26"
            ],
            [
             1,
             "#f0f921"
            ]
           ],
           "sequentialminus": [
            [
             0,
             "#0d0887"
            ],
            [
             0.1111111111111111,
             "#46039f"
            ],
            [
             0.2222222222222222,
             "#7201a8"
            ],
            [
             0.3333333333333333,
             "#9c179e"
            ],
            [
             0.4444444444444444,
             "#bd3786"
            ],
            [
             0.5555555555555556,
             "#d8576b"
            ],
            [
             0.6666666666666666,
             "#ed7953"
            ],
            [
             0.7777777777777778,
             "#fb9f3a"
            ],
            [
             0.8888888888888888,
             "#fdca26"
            ],
            [
             1,
             "#f0f921"
            ]
           ]
          },
          "colorway": [
           "#636efa",
           "#EF553B",
           "#00cc96",
           "#ab63fa",
           "#FFA15A",
           "#19d3f3",
           "#FF6692",
           "#B6E880",
           "#FF97FF",
           "#FECB52"
          ],
          "font": {
           "color": "#2a3f5f"
          },
          "geo": {
           "bgcolor": "white",
           "lakecolor": "white",
           "landcolor": "#E5ECF6",
           "showlakes": true,
           "showland": true,
           "subunitcolor": "white"
          },
          "hoverlabel": {
           "align": "left"
          },
          "hovermode": "closest",
          "mapbox": {
           "style": "light"
          },
          "paper_bgcolor": "white",
          "plot_bgcolor": "#E5ECF6",
          "polar": {
           "angularaxis": {
            "gridcolor": "white",
            "linecolor": "white",
            "ticks": ""
           },
           "bgcolor": "#E5ECF6",
           "radialaxis": {
            "gridcolor": "white",
            "linecolor": "white",
            "ticks": ""
           }
          },
          "scene": {
           "xaxis": {
            "backgroundcolor": "#E5ECF6",
            "gridcolor": "white",
            "gridwidth": 2,
            "linecolor": "white",
            "showbackground": true,
            "ticks": "",
            "zerolinecolor": "white"
           },
           "yaxis": {
            "backgroundcolor": "#E5ECF6",
            "gridcolor": "white",
            "gridwidth": 2,
            "linecolor": "white",
            "showbackground": true,
            "ticks": "",
            "zerolinecolor": "white"
           },
           "zaxis": {
            "backgroundcolor": "#E5ECF6",
            "gridcolor": "white",
            "gridwidth": 2,
            "linecolor": "white",
            "showbackground": true,
            "ticks": "",
            "zerolinecolor": "white"
           }
          },
          "shapedefaults": {
           "line": {
            "color": "#2a3f5f"
           }
          },
          "ternary": {
           "aaxis": {
            "gridcolor": "white",
            "linecolor": "white",
            "ticks": ""
           },
           "baxis": {
            "gridcolor": "white",
            "linecolor": "white",
            "ticks": ""
           },
           "bgcolor": "#E5ECF6",
           "caxis": {
            "gridcolor": "white",
            "linecolor": "white",
            "ticks": ""
           }
          },
          "title": {
           "x": 0.05
          },
          "xaxis": {
           "automargin": true,
           "gridcolor": "white",
           "linecolor": "white",
           "ticks": "",
           "title": {
            "standoff": 15
           },
           "zerolinecolor": "white",
           "zerolinewidth": 2
          },
          "yaxis": {
           "automargin": true,
           "gridcolor": "white",
           "linecolor": "white",
           "ticks": "",
           "title": {
            "standoff": 15
           },
           "zerolinecolor": "white",
           "zerolinewidth": 2
          }
         }
        },
        "xaxis": {
         "anchor": "y",
         "domain": [
          0,
          1
         ],
         "title": {
          "text": "Mean Years of Education (Male)"
         }
        },
        "yaxis": {
         "anchor": "x",
         "domain": [
          0,
          1
         ],
         "title": {
          "text": "Life Expectancy at Birth (Male)"
         }
        }
       }
      },
      "text/html": [
       "<div>                            <div id=\"0ca746ce-c394-41a6-a63a-312010627cfe\" class=\"plotly-graph-div\" style=\"height:525px; width:100%;\"></div>            <script type=\"text/javascript\">                require([\"plotly\"], function(Plotly) {                    window.PLOTLYENV=window.PLOTLYENV || {};                                    if (document.getElementById(\"0ca746ce-c394-41a6-a63a-312010627cfe\")) {                    Plotly.newPlot(                        \"0ca746ce-c394-41a6-a63a-312010627cfe\",                        [{\"hovertemplate\":\"Mean Years of Education (Male)=%{x}<br>Life Expectancy at Birth (Male)=%{y}<br>Human Development Index (Male)=%{marker.size}<br>Estimated Gross National Income per Capita (Male)=%{marker.color}<extra></extra>\",\"legendgroup\":\"\",\"marker\":{\"color\":[1859.0,1319.0,2195.0,2513.0,825.0,2739.0,1765.0,1314.0,1753.0,5722.0,5412.0,1981.0,8418.0,1210.0,1612.0,2690.0,2043.0,5468.0,3227.0,4017.0,815.0,4157.0,7530.0,10573.0,3393.0,5508.0,3976.0,4083.0,2123.0,689.0,8934.0,930.0,2502.0,5979.0,4148.0,16073.0,11267.0,1560.0,5279.0,8100.0,1997.0,1376.0,6859.0,3341.0,7235.0,8827.0,9406.0,24985.0,22392.0,6585.0,111988.0,8656.0,14903.0,4452.0,3270.0,14372.0,4523.0,19084.0,14888.0,12723.0,1850.0,765.0,23515.0,16049.0,16159.0,22009.0,4515.0,10439.0,18373.0,9678.0,8804.0,20970.0,13780.0,18435.0,13052.0,24166.0,14795.0,25391.0,17033.0,30543.0,27645.0,46400.0,77300.0,19840.0,25924.0,22252.0,143979.0,7140.0,12462.0,90437.0,18096.0,24581.0,22597.0,7726.0,11576.0,77044.0,9059.0,13977.0,12655.0,49890.0,30237.0,14754.0,40221.0,7342.0,27992.0,10592.0,17607.0,3445.0,30320.0,15737.0,14739.0,45994.0,44148.0,7124.0,18926.0,41486.0,10198.0,18831.0,31952.0,3992.0,6336.0,39432.0,32656.0,10089.0,14307.0,93699.0,21117.0,50845.0,3017.0,22814.0,26845.0,14799.0,5915.0,45497.0,10120.0,26746.0,22853.0,9665.0,49541.0,18094.0,34400.0,28271.0,58826.0,72052.0,28287.0,33593.0,49166.0,51084.0,21010.0,69800.0,28960.0,30254.0,32122.0,61641.0,9718.0,28656.0,33604.0,72825.0,41372.0,39064.0,51727.0,46018.0,63158.0,50914.0,50853.0,69077.0,51628.0,53290.0],\"coloraxis\":\"coloraxis\",\"size\":[0.427,0.394,0.468,0.44,0.418,0.494,0.479,0.46,0.466,0.516,0.56,0.454,0.638,0.443,0.493,0.574,0.524,0.546,0.546,0.505,0.467,0.507,0.631,0.67,0.584,0.618,0.584,0.59,0.545,0.392,0.641,0.491,0.538,0.64,0.55,0.723,0.632,0.526,0.606,0.601,0.51,0.527,0.609,0.544,0.561,0.655,0.676,0.719,0.736,0.556,0.816,0.66,0.713,0.609,0.577,0.721,0.623,0.754,0.726,0.737,0.529,0.472,0.712,0.729,0.751,0.761,0.61,0.664,0.725,0.692,0.636,0.72,0.73,0.754,0.706,0.783,0.747,0.8,0.774,0.836,0.793,0.815,0.835,0.749,0.804,0.775,0.854,0.684,0.716,0.86,0.704,0.792,0.779,0.706,0.731,0.864,0.719,0.752,0.75,0.839,0.834,0.765,0.885,0.678,0.843,0.743,0.76,0.65,0.795,0.681,0.777,0.882,0.883,0.713,0.784,0.909,0.727,0.784,0.879,0.664,0.727,0.861,0.774,0.728,0.769,0.912,0.796,0.895,0.648,0.766,0.805,0.784,0.692,0.893,0.745,0.785,0.823,0.783,0.905,0.819,0.861,0.839,0.909,0.931,0.789,0.881,0.926,0.906,0.789,0.903,0.838,0.847,0.842,0.943,0.765,0.827,0.877,0.944,0.93,0.905,0.934,0.926,0.916,0.945,0.921,0.945,0.92,0.936],\"sizemode\":\"area\",\"sizeref\":0.0023625,\"symbol\":\"circle\"},\"mode\":\"markers\",\"name\":\"\",\"orientation\":\"v\",\"showlegend\":false,\"type\":\"scatter\",\"x\":[1.9,2.0,2.7,2.9,3.1,3.2,3.6,3.7,3.7,3.8,3.8,4.0,4.1,4.3,4.3,4.5,4.6,4.8,5.1,5.2,5.2,5.3,5.3,5.3,5.4,5.4,5.5,5.5,5.6,5.7,5.7,5.8,5.8,5.8,6.0,6.0,6.1,6.1,6.1,6.2,6.3,6.3,6.5,6.7,6.8,6.9,6.9,6.9,7.0,7.1,7.1,7.2,7.2,7.3,7.3,7.3,7.4,7.5,7.5,7.6,7.7,7.7,7.7,7.7,7.8,7.8,7.9,7.9,7.9,7.9,8.0,8.0,8.0,8.1,8.2,8.2,8.2,8.2,8.3,8.4,8.5,8.5,8.5,8.6,8.6,8.8,8.8,8.9,9.0,9.0,9.1,9.1,9.1,9.3,9.3,9.3,9.4,9.6,9.6,9.6,9.8,9.8,9.8,9.9,9.9,10.0,10.0,10.0,10.1,10.2,10.2,10.2,10.2,10.3,10.4,10.4,10.5,10.5,10.5,10.6,10.8,10.8,10.9,10.9,10.9,10.9,11.1,11.1,11.2,11.2,11.2,11.2,11.3,11.3,11.4,11.5,11.6,11.6,11.7,11.8,11.8,11.9,11.9,11.9,12.0,12.0,12.0,12.0,12.1,12.1,12.2,12.2,12.2,12.2,12.3,12.5,12.5,12.5,12.6,12.6,12.7,12.7,12.9,12.9,13.0,13.1,13.2,13.8],\"xaxis\":\"x\",\"y\":[57.3,60.6,58.2,50.5,54.8,64.5,62.2,58.3,58.9,62.0,62.5,50.4,69.2,53.6,61.1,68.2,58.1,61.6,59.2,49.6,61.7,50.7,66.5,73.0,66.2,70.7,64.4,70.4,61.6,48.8,68.3,59.9,63.5,71.9,57.1,75.8,62.1,63.6,64.8,65.3,56.7,58.9,60.8,54.4,49.6,67.1,68.3,68.8,68.9,52.4,73.5,66.6,70.4,58.2,59.9,70.5,64.0,70.7,71.1,73.2,56.2,57.2,67.2,69.0,72.5,72.5,60.4,64.9,69.5,70.8,64.2,68.0,72.2,71.7,66.9,73.5,74.3,77.6,77.0,77.9,72.0,75.1,76.3,70.2,74.3,74.4,77.3,65.9,65.3,77.0,62.1,70.9,74.6,71.0,72.4,73.0,73.3,71.9,75.4,75.8,72.4,73.1,79.8,65.0,78.6,67.2,68.5,69.9,72.4,55.2,73.2,78.0,80.6,70.4,70.8,81.0,67.4,72.4,78.0,66.6,69.9,78.8,67.0,70.9,71.5,79.9,71.2,78.3,66.2,67.7,69.1,72.1,67.4,79.2,66.0,64.6,74.0,77.4,80.2,74.1,78.0,73.4,78.8,81.2,64.4,77.3,78.8,80.4,65.5,79.3,71.5,72.0,72.5,79.7,71.2,67.7,75.7,79.5,80.0,80.5,78.3,78.5,76.7,80.3,80.0,80.8,78.7,78.5],\"yaxis\":\"y\"}],                        {\"coloraxis\":{\"colorbar\":{\"title\":{\"text\":\"Estimated Gross National Income per Capita (Male)\"}},\"colorscale\":[[0.0,\"#0d0887\"],[0.1111111111111111,\"#46039f\"],[0.2222222222222222,\"#7201a8\"],[0.3333333333333333,\"#9c179e\"],[0.4444444444444444,\"#bd3786\"],[0.5555555555555556,\"#d8576b\"],[0.6666666666666666,\"#ed7953\"],[0.7777777777777778,\"#fb9f3a\"],[0.8888888888888888,\"#fdca26\"],[1.0,\"#f0f921\"]]},\"legend\":{\"itemsizing\":\"constant\",\"tracegroupgap\":0},\"margin\":{\"t\":60},\"template\":{\"data\":{\"bar\":[{\"error_x\":{\"color\":\"#2a3f5f\"},\"error_y\":{\"color\":\"#2a3f5f\"},\"marker\":{\"line\":{\"color\":\"#E5ECF6\",\"width\":0.5},\"pattern\":{\"fillmode\":\"overlay\",\"size\":10,\"solidity\":0.2}},\"type\":\"bar\"}],\"barpolar\":[{\"marker\":{\"line\":{\"color\":\"#E5ECF6\",\"width\":0.5},\"pattern\":{\"fillmode\":\"overlay\",\"size\":10,\"solidity\":0.2}},\"type\":\"barpolar\"}],\"carpet\":[{\"aaxis\":{\"endlinecolor\":\"#2a3f5f\",\"gridcolor\":\"white\",\"linecolor\":\"white\",\"minorgridcolor\":\"white\",\"startlinecolor\":\"#2a3f5f\"},\"baxis\":{\"endlinecolor\":\"#2a3f5f\",\"gridcolor\":\"white\",\"linecolor\":\"white\",\"minorgridcolor\":\"white\",\"startlinecolor\":\"#2a3f5f\"},\"type\":\"carpet\"}],\"choropleth\":[{\"colorbar\":{\"outlinewidth\":0,\"ticks\":\"\"},\"type\":\"choropleth\"}],\"contour\":[{\"colorbar\":{\"outlinewidth\":0,\"ticks\":\"\"},\"colorscale\":[[0.0,\"#0d0887\"],[0.1111111111111111,\"#46039f\"],[0.2222222222222222,\"#7201a8\"],[0.3333333333333333,\"#9c179e\"],[0.4444444444444444,\"#bd3786\"],[0.5555555555555556,\"#d8576b\"],[0.6666666666666666,\"#ed7953\"],[0.7777777777777778,\"#fb9f3a\"],[0.8888888888888888,\"#fdca26\"],[1.0,\"#f0f921\"]],\"type\":\"contour\"}],\"contourcarpet\":[{\"colorbar\":{\"outlinewidth\":0,\"ticks\":\"\"},\"type\":\"contourcarpet\"}],\"heatmap\":[{\"colorbar\":{\"outlinewidth\":0,\"ticks\":\"\"},\"colorscale\":[[0.0,\"#0d0887\"],[0.1111111111111111,\"#46039f\"],[0.2222222222222222,\"#7201a8\"],[0.3333333333333333,\"#9c179e\"],[0.4444444444444444,\"#bd3786\"],[0.5555555555555556,\"#d8576b\"],[0.6666666666666666,\"#ed7953\"],[0.7777777777777778,\"#fb9f3a\"],[0.8888888888888888,\"#fdca26\"],[1.0,\"#f0f921\"]],\"type\":\"heatmap\"}],\"heatmapgl\":[{\"colorbar\":{\"outlinewidth\":0,\"ticks\":\"\"},\"colorscale\":[[0.0,\"#0d0887\"],[0.1111111111111111,\"#46039f\"],[0.2222222222222222,\"#7201a8\"],[0.3333333333333333,\"#9c179e\"],[0.4444444444444444,\"#bd3786\"],[0.5555555555555556,\"#d8576b\"],[0.6666666666666666,\"#ed7953\"],[0.7777777777777778,\"#fb9f3a\"],[0.8888888888888888,\"#fdca26\"],[1.0,\"#f0f921\"]],\"type\":\"heatmapgl\"}],\"histogram\":[{\"marker\":{\"pattern\":{\"fillmode\":\"overlay\",\"size\":10,\"solidity\":0.2}},\"type\":\"histogram\"}],\"histogram2d\":[{\"colorbar\":{\"outlinewidth\":0,\"ticks\":\"\"},\"colorscale\":[[0.0,\"#0d0887\"],[0.1111111111111111,\"#46039f\"],[0.2222222222222222,\"#7201a8\"],[0.3333333333333333,\"#9c179e\"],[0.4444444444444444,\"#bd3786\"],[0.5555555555555556,\"#d8576b\"],[0.6666666666666666,\"#ed7953\"],[0.7777777777777778,\"#fb9f3a\"],[0.8888888888888888,\"#fdca26\"],[1.0,\"#f0f921\"]],\"type\":\"histogram2d\"}],\"histogram2dcontour\":[{\"colorbar\":{\"outlinewidth\":0,\"ticks\":\"\"},\"colorscale\":[[0.0,\"#0d0887\"],[0.1111111111111111,\"#46039f\"],[0.2222222222222222,\"#7201a8\"],[0.3333333333333333,\"#9c179e\"],[0.4444444444444444,\"#bd3786\"],[0.5555555555555556,\"#d8576b\"],[0.6666666666666666,\"#ed7953\"],[0.7777777777777778,\"#fb9f3a\"],[0.8888888888888888,\"#fdca26\"],[1.0,\"#f0f921\"]],\"type\":\"histogram2dcontour\"}],\"mesh3d\":[{\"colorbar\":{\"outlinewidth\":0,\"ticks\":\"\"},\"type\":\"mesh3d\"}],\"parcoords\":[{\"line\":{\"colorbar\":{\"outlinewidth\":0,\"ticks\":\"\"}},\"type\":\"parcoords\"}],\"pie\":[{\"automargin\":true,\"type\":\"pie\"}],\"scatter\":[{\"marker\":{\"colorbar\":{\"outlinewidth\":0,\"ticks\":\"\"}},\"type\":\"scatter\"}],\"scatter3d\":[{\"line\":{\"colorbar\":{\"outlinewidth\":0,\"ticks\":\"\"}},\"marker\":{\"colorbar\":{\"outlinewidth\":0,\"ticks\":\"\"}},\"type\":\"scatter3d\"}],\"scattercarpet\":[{\"marker\":{\"colorbar\":{\"outlinewidth\":0,\"ticks\":\"\"}},\"type\":\"scattercarpet\"}],\"scattergeo\":[{\"marker\":{\"colorbar\":{\"outlinewidth\":0,\"ticks\":\"\"}},\"type\":\"scattergeo\"}],\"scattergl\":[{\"marker\":{\"colorbar\":{\"outlinewidth\":0,\"ticks\":\"\"}},\"type\":\"scattergl\"}],\"scattermapbox\":[{\"marker\":{\"colorbar\":{\"outlinewidth\":0,\"ticks\":\"\"}},\"type\":\"scattermapbox\"}],\"scatterpolar\":[{\"marker\":{\"colorbar\":{\"outlinewidth\":0,\"ticks\":\"\"}},\"type\":\"scatterpolar\"}],\"scatterpolargl\":[{\"marker\":{\"colorbar\":{\"outlinewidth\":0,\"ticks\":\"\"}},\"type\":\"scatterpolargl\"}],\"scatterternary\":[{\"marker\":{\"colorbar\":{\"outlinewidth\":0,\"ticks\":\"\"}},\"type\":\"scatterternary\"}],\"surface\":[{\"colorbar\":{\"outlinewidth\":0,\"ticks\":\"\"},\"colorscale\":[[0.0,\"#0d0887\"],[0.1111111111111111,\"#46039f\"],[0.2222222222222222,\"#7201a8\"],[0.3333333333333333,\"#9c179e\"],[0.4444444444444444,\"#bd3786\"],[0.5555555555555556,\"#d8576b\"],[0.6666666666666666,\"#ed7953\"],[0.7777777777777778,\"#fb9f3a\"],[0.8888888888888888,\"#fdca26\"],[1.0,\"#f0f921\"]],\"type\":\"surface\"}],\"table\":[{\"cells\":{\"fill\":{\"color\":\"#EBF0F8\"},\"line\":{\"color\":\"white\"}},\"header\":{\"fill\":{\"color\":\"#C8D4E3\"},\"line\":{\"color\":\"white\"}},\"type\":\"table\"}]},\"layout\":{\"annotationdefaults\":{\"arrowcolor\":\"#2a3f5f\",\"arrowhead\":0,\"arrowwidth\":1},\"autotypenumbers\":\"strict\",\"coloraxis\":{\"colorbar\":{\"outlinewidth\":0,\"ticks\":\"\"}},\"colorscale\":{\"diverging\":[[0,\"#8e0152\"],[0.1,\"#c51b7d\"],[0.2,\"#de77ae\"],[0.3,\"#f1b6da\"],[0.4,\"#fde0ef\"],[0.5,\"#f7f7f7\"],[0.6,\"#e6f5d0\"],[0.7,\"#b8e186\"],[0.8,\"#7fbc41\"],[0.9,\"#4d9221\"],[1,\"#276419\"]],\"sequential\":[[0.0,\"#0d0887\"],[0.1111111111111111,\"#46039f\"],[0.2222222222222222,\"#7201a8\"],[0.3333333333333333,\"#9c179e\"],[0.4444444444444444,\"#bd3786\"],[0.5555555555555556,\"#d8576b\"],[0.6666666666666666,\"#ed7953\"],[0.7777777777777778,\"#fb9f3a\"],[0.8888888888888888,\"#fdca26\"],[1.0,\"#f0f921\"]],\"sequentialminus\":[[0.0,\"#0d0887\"],[0.1111111111111111,\"#46039f\"],[0.2222222222222222,\"#7201a8\"],[0.3333333333333333,\"#9c179e\"],[0.4444444444444444,\"#bd3786\"],[0.5555555555555556,\"#d8576b\"],[0.6666666666666666,\"#ed7953\"],[0.7777777777777778,\"#fb9f3a\"],[0.8888888888888888,\"#fdca26\"],[1.0,\"#f0f921\"]]},\"colorway\":[\"#636efa\",\"#EF553B\",\"#00cc96\",\"#ab63fa\",\"#FFA15A\",\"#19d3f3\",\"#FF6692\",\"#B6E880\",\"#FF97FF\",\"#FECB52\"],\"font\":{\"color\":\"#2a3f5f\"},\"geo\":{\"bgcolor\":\"white\",\"lakecolor\":\"white\",\"landcolor\":\"#E5ECF6\",\"showlakes\":true,\"showland\":true,\"subunitcolor\":\"white\"},\"hoverlabel\":{\"align\":\"left\"},\"hovermode\":\"closest\",\"mapbox\":{\"style\":\"light\"},\"paper_bgcolor\":\"white\",\"plot_bgcolor\":\"#E5ECF6\",\"polar\":{\"angularaxis\":{\"gridcolor\":\"white\",\"linecolor\":\"white\",\"ticks\":\"\"},\"bgcolor\":\"#E5ECF6\",\"radialaxis\":{\"gridcolor\":\"white\",\"linecolor\":\"white\",\"ticks\":\"\"}},\"scene\":{\"xaxis\":{\"backgroundcolor\":\"#E5ECF6\",\"gridcolor\":\"white\",\"gridwidth\":2,\"linecolor\":\"white\",\"showbackground\":true,\"ticks\":\"\",\"zerolinecolor\":\"white\"},\"yaxis\":{\"backgroundcolor\":\"#E5ECF6\",\"gridcolor\":\"white\",\"gridwidth\":2,\"linecolor\":\"white\",\"showbackground\":true,\"ticks\":\"\",\"zerolinecolor\":\"white\"},\"zaxis\":{\"backgroundcolor\":\"#E5ECF6\",\"gridcolor\":\"white\",\"gridwidth\":2,\"linecolor\":\"white\",\"showbackground\":true,\"ticks\":\"\",\"zerolinecolor\":\"white\"}},\"shapedefaults\":{\"line\":{\"color\":\"#2a3f5f\"}},\"ternary\":{\"aaxis\":{\"gridcolor\":\"white\",\"linecolor\":\"white\",\"ticks\":\"\"},\"baxis\":{\"gridcolor\":\"white\",\"linecolor\":\"white\",\"ticks\":\"\"},\"bgcolor\":\"#E5ECF6\",\"caxis\":{\"gridcolor\":\"white\",\"linecolor\":\"white\",\"ticks\":\"\"}},\"title\":{\"x\":0.05},\"xaxis\":{\"automargin\":true,\"gridcolor\":\"white\",\"linecolor\":\"white\",\"ticks\":\"\",\"title\":{\"standoff\":15},\"zerolinecolor\":\"white\",\"zerolinewidth\":2},\"yaxis\":{\"automargin\":true,\"gridcolor\":\"white\",\"linecolor\":\"white\",\"ticks\":\"\",\"title\":{\"standoff\":15},\"zerolinecolor\":\"white\",\"zerolinewidth\":2}}},\"xaxis\":{\"anchor\":\"y\",\"domain\":[0.0,1.0],\"title\":{\"text\":\"Mean Years of Education (Male)\"}},\"yaxis\":{\"anchor\":\"x\",\"domain\":[0.0,1.0],\"title\":{\"text\":\"Life Expectancy at Birth (Male)\"}}},                        {\"responsive\": true}                    ).then(function(){\n",
       "                            \n",
       "var gd = document.getElementById('0ca746ce-c394-41a6-a63a-312010627cfe');\n",
       "var x = new MutationObserver(function (mutations, observer) {{\n",
       "        var display = window.getComputedStyle(gd).display;\n",
       "        if (!display || display === 'none') {{\n",
       "            console.log([gd, 'removed!']);\n",
       "            Plotly.purge(gd);\n",
       "            observer.disconnect();\n",
       "        }}\n",
       "}});\n",
       "\n",
       "// Listen for the removal of the full notebook cells\n",
       "var notebookContainer = gd.closest('#notebook-container');\n",
       "if (notebookContainer) {{\n",
       "    x.observe(notebookContainer, {childList: true});\n",
       "}}\n",
       "\n",
       "// Listen for the clearing of the current output cell\n",
       "var outputEl = gd.closest('.output');\n",
       "if (outputEl) {{\n",
       "    x.observe(outputEl, {childList: true});\n",
       "}}\n",
       "\n",
       "                        })                };                });            </script>        </div>"
      ]
     },
     "metadata": {},
     "output_type": "display_data"
    }
   ],
   "source": [
    "csv_file = \"gender_development.csv\"\n",
    "df = pd.read_csv(csv_file)\n",
    "df.drop(df.index[df['Mean Years of Education (Male)'] == '..'], inplace = True)\n",
    "df.drop(df.index[df['Life Expectancy at Birth (Male)'] == '..'], inplace = True)\n",
    "df.drop(df.index[df['Estimated Gross National Income per Capita (Male)'] == '..'], inplace = True)\n",
    "df.drop(df.index[df['Human Development Index (Male)'] == '..'], inplace = True)\n",
    "\n",
    "df[\"Mean Years of Education (Male)\"] = df[\"Mean Years of Education (Male)\"].astype(float)\n",
    "df[\"Life Expectancy at Birth (Male)\"] = df[\"Life Expectancy at Birth (Male)\"].astype(float)\n",
    "df[\"Estimated Gross National Income per Capita (Male)\"] = df[\"Estimated Gross National Income per Capita (Male)\"].astype(float)\n",
    "df[\"Human Development Index (Male)\"] = df[\"Human Development Index (Male)\"].astype(float)\n",
    "\n",
    "df.sort_values(by=['Mean Years of Education (Male)', 'Life Expectancy at Birth (Male)', \n",
    "                   'Estimated Gross National Income per Capita (Male)', 'Human Development Index (Male)'], inplace=True)\n",
    "\n",
    "fig = px.scatter(df, x=\"Mean Years of Education (Male)\", \n",
    "                 y=\"Life Expectancy at Birth (Male)\", color=\"Estimated Gross National Income per Capita (Male)\", size=\"Human Development Index (Male)\")\n",
    "fig.show()"
   ]
  },
  {
   "cell_type": "code",
   "execution_count": null,
   "metadata": {},
   "outputs": [],
   "source": []
  }
 ],
 "metadata": {
  "colab": {
   "collapsed_sections": [],
   "name": "Plotly_workshop_new.ipynb",
   "provenance": []
  },
  "kernelspec": {
   "display_name": "Python 3",
   "language": "python",
   "name": "python3"
  },
  "language_info": {
   "codemirror_mode": {
    "name": "ipython",
    "version": 3
   },
   "file_extension": ".py",
   "mimetype": "text/x-python",
   "name": "python",
   "nbconvert_exporter": "python",
   "pygments_lexer": "ipython3",
   "version": "3.8.3"
  }
 },
 "nbformat": 4,
 "nbformat_minor": 1
}
